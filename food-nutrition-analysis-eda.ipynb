{
 "cells": [
  {
   "cell_type": "markdown",
   "metadata": {
    "papermill": {
     "duration": 0.037081,
     "end_time": "2020-10-11T08:43:38.685530",
     "exception": false,
     "start_time": "2020-10-11T08:43:38.648449",
     "status": "completed"
    },
    "tags": []
   },
   "source": [
    "# Introduction"
   ]
  },
  {
   "cell_type": "markdown",
   "metadata": {
    "papermill": {
     "duration": 0.034396,
     "end_time": "2020-10-11T08:43:38.755034",
     "exception": false,
     "start_time": "2020-10-11T08:43:38.720638",
     "status": "completed"
    },
    "tags": []
   },
   "source": [
    "This kernel is an exploration and amalgamation of different visualizations that can be done on csv files. The visuals are from plotly as well as matplotlib. In addition to that, it also has valuable insights on the quality of food we eat and nutrients that it carries. "
   ]
  },
  {
   "cell_type": "markdown",
   "metadata": {
    "papermill": {
     "duration": 0.034752,
     "end_time": "2020-10-11T08:43:38.824569",
     "exception": false,
     "start_time": "2020-10-11T08:43:38.789817",
     "status": "completed"
    },
    "tags": []
   },
   "source": [
    "## Food and Nutrition\n",
    "\n",
    "![Nutrition Image](https://images.unsplash.com/photo-1498837167922-ddd27525d352?ixlib=rb-1.2.1&ixid=eyJhcHBfaWQiOjEyMDd9&auto=format&fit=crop&w=750&q=80)\n",
    "\n",
    "\n",
    "Food and nutrition are the way that we get fuel, providing energy for our bodies. We need to replace nutrients in our bodies with a new supply every day. Water is an important component of nutrition. Fats, proteins, and carbohydrates are all required.Nutrition is the science that interprets the nutrients and other substances in food in relation to maintenance, growth, reproduction, health and disease of an organism. It includes ingestion, absorption, assimilation, biosynthesis, catabolism and excretion.\n",
    "\n",
    "\n",
    "Knowing and eating mindfully is not only essential for a healthy gut but also for peace of mind. Also,A diet filled with vegetables, fruits and whole grains could help prevent major conditions such as stroke, diabetes and heart disease.More often than not, we like to gorge on our favourite foods which are not exactly the best for our bodies.While it is okay for such binges to occur occasionally, such diets can be extremely harmful if the person does not strike a balance with healthy foods. \n",
    "\n",
    "This notebook analyses the most common available foods and the nutritional facts in them."
   ]
  },
  {
   "cell_type": "markdown",
   "metadata": {
    "papermill": {
     "duration": 0.034683,
     "end_time": "2020-10-11T08:43:38.896016",
     "exception": false,
     "start_time": "2020-10-11T08:43:38.861333",
     "status": "completed"
    },
    "tags": []
   },
   "source": [
    "# Data Cleaning"
   ]
  },
  {
   "cell_type": "markdown",
   "metadata": {
    "papermill": {
     "duration": 0.034528,
     "end_time": "2020-10-11T08:43:38.965244",
     "exception": false,
     "start_time": "2020-10-11T08:43:38.930716",
     "status": "completed"
    },
    "tags": []
   },
   "source": [
    "Data cleaning is always the first step in any data science project. Although the data here seems clean, some minor alterations are required."
   ]
  },
  {
   "cell_type": "code",
   "execution_count": 41,
   "metadata": {
    "_kg_hide-input": true,
    "execution": {
     "iopub.execute_input": "2020-10-11T08:43:39.043260Z",
     "iopub.status.busy": "2020-10-11T08:43:39.042451Z",
     "iopub.status.idle": "2020-10-11T08:43:41.143429Z",
     "shell.execute_reply": "2020-10-11T08:43:41.142190Z"
    },
    "papermill": {
     "duration": 2.142372,
     "end_time": "2020-10-11T08:43:41.143572",
     "exception": false,
     "start_time": "2020-10-11T08:43:39.001200",
     "status": "completed"
    },
    "tags": []
   },
   "outputs": [],
   "source": [
    "import pandas as pd\n",
    "import numpy as np \n",
    "import plotly.express as px\n",
    "import seaborn as sns\n",
    "import plotly.offline as py\n",
    "import plotly.graph_objects as go\n"
   ]
  },
  {
   "cell_type": "code",
   "execution_count": 42,
   "metadata": {
    "_cell_guid": "79c7e3d0-c299-4dcb-8224-4455121ee9b0",
    "_uuid": "d629ff2d2480ee46fbb7e2d37f6b5fab8052498a",
    "execution": {
     "iopub.execute_input": "2020-10-11T08:43:41.241255Z",
     "iopub.status.busy": "2020-10-11T08:43:41.240177Z",
     "iopub.status.idle": "2020-10-11T08:43:41.273685Z",
     "shell.execute_reply": "2020-10-11T08:43:41.273100Z"
    },
    "papermill": {
     "duration": 0.082217,
     "end_time": "2020-10-11T08:43:41.273812",
     "exception": false,
     "start_time": "2020-10-11T08:43:41.191595",
     "status": "completed"
    },
    "tags": []
   },
   "outputs": [
    {
     "data": {
      "text/html": [
       "<div>\n",
       "<style scoped>\n",
       "    .dataframe tbody tr th:only-of-type {\n",
       "        vertical-align: middle;\n",
       "    }\n",
       "\n",
       "    .dataframe tbody tr th {\n",
       "        vertical-align: top;\n",
       "    }\n",
       "\n",
       "    .dataframe thead th {\n",
       "        text-align: right;\n",
       "    }\n",
       "</style>\n",
       "<table border=\"1\" class=\"dataframe\">\n",
       "  <thead>\n",
       "    <tr style=\"text-align: right;\">\n",
       "      <th></th>\n",
       "      <th>Unnamed: 0</th>\n",
       "      <th>name</th>\n",
       "      <th>serving_size</th>\n",
       "      <th>calories</th>\n",
       "      <th>total_fat</th>\n",
       "      <th>saturated_fat</th>\n",
       "      <th>cholesterol</th>\n",
       "      <th>sodium</th>\n",
       "      <th>choline</th>\n",
       "      <th>folate</th>\n",
       "      <th>...</th>\n",
       "      <th>fat</th>\n",
       "      <th>saturated_fatty_acids</th>\n",
       "      <th>monounsaturated_fatty_acids</th>\n",
       "      <th>polyunsaturated_fatty_acids</th>\n",
       "      <th>fatty_acids_total_trans</th>\n",
       "      <th>alcohol</th>\n",
       "      <th>ash</th>\n",
       "      <th>caffeine</th>\n",
       "      <th>theobromine</th>\n",
       "      <th>water</th>\n",
       "    </tr>\n",
       "  </thead>\n",
       "  <tbody>\n",
       "    <tr>\n",
       "      <th>0</th>\n",
       "      <td>0</td>\n",
       "      <td>Cornstarch</td>\n",
       "      <td>100 g</td>\n",
       "      <td>381</td>\n",
       "      <td>0.1g</td>\n",
       "      <td>NaN</td>\n",
       "      <td>0</td>\n",
       "      <td>9.00 mg</td>\n",
       "      <td>0.4 mg</td>\n",
       "      <td>0.00 mcg</td>\n",
       "      <td>...</td>\n",
       "      <td>0.05 g</td>\n",
       "      <td>0.009 g</td>\n",
       "      <td>0.016 g</td>\n",
       "      <td>0.025 g</td>\n",
       "      <td>0.00 mg</td>\n",
       "      <td>0.0 g</td>\n",
       "      <td>0.09 g</td>\n",
       "      <td>0.00 mg</td>\n",
       "      <td>0.00 mg</td>\n",
       "      <td>8.32 g</td>\n",
       "    </tr>\n",
       "    <tr>\n",
       "      <th>1</th>\n",
       "      <td>1</td>\n",
       "      <td>Nuts, pecans</td>\n",
       "      <td>100 g</td>\n",
       "      <td>691</td>\n",
       "      <td>72g</td>\n",
       "      <td>6.2g</td>\n",
       "      <td>0</td>\n",
       "      <td>0.00 mg</td>\n",
       "      <td>40.5 mg</td>\n",
       "      <td>22.00 mcg</td>\n",
       "      <td>...</td>\n",
       "      <td>71.97 g</td>\n",
       "      <td>6.180 g</td>\n",
       "      <td>40.801 g</td>\n",
       "      <td>21.614 g</td>\n",
       "      <td>0.00 mg</td>\n",
       "      <td>0.0 g</td>\n",
       "      <td>1.49 g</td>\n",
       "      <td>0.00 mg</td>\n",
       "      <td>0.00 mg</td>\n",
       "      <td>3.52 g</td>\n",
       "    </tr>\n",
       "    <tr>\n",
       "      <th>2</th>\n",
       "      <td>2</td>\n",
       "      <td>Eggplant, raw</td>\n",
       "      <td>100 g</td>\n",
       "      <td>25</td>\n",
       "      <td>0.2g</td>\n",
       "      <td>NaN</td>\n",
       "      <td>0</td>\n",
       "      <td>2.00 mg</td>\n",
       "      <td>6.9 mg</td>\n",
       "      <td>22.00 mcg</td>\n",
       "      <td>...</td>\n",
       "      <td>0.18 g</td>\n",
       "      <td>0.034 g</td>\n",
       "      <td>0.016 g</td>\n",
       "      <td>0.076 g</td>\n",
       "      <td>0.00 mg</td>\n",
       "      <td>0.0 g</td>\n",
       "      <td>0.66 g</td>\n",
       "      <td>0.00 mg</td>\n",
       "      <td>0.00 mg</td>\n",
       "      <td>92.30 g</td>\n",
       "    </tr>\n",
       "    <tr>\n",
       "      <th>3</th>\n",
       "      <td>3</td>\n",
       "      <td>Teff, uncooked</td>\n",
       "      <td>100 g</td>\n",
       "      <td>367</td>\n",
       "      <td>2.4g</td>\n",
       "      <td>0.4g</td>\n",
       "      <td>0</td>\n",
       "      <td>12.00 mg</td>\n",
       "      <td>13.1 mg</td>\n",
       "      <td>0</td>\n",
       "      <td>...</td>\n",
       "      <td>2.38 g</td>\n",
       "      <td>0.449 g</td>\n",
       "      <td>0.589 g</td>\n",
       "      <td>1.071 g</td>\n",
       "      <td>0</td>\n",
       "      <td>0</td>\n",
       "      <td>2.37 g</td>\n",
       "      <td>0</td>\n",
       "      <td>0</td>\n",
       "      <td>8.82 g</td>\n",
       "    </tr>\n",
       "    <tr>\n",
       "      <th>4</th>\n",
       "      <td>4</td>\n",
       "      <td>Sherbet, orange</td>\n",
       "      <td>100 g</td>\n",
       "      <td>144</td>\n",
       "      <td>2g</td>\n",
       "      <td>1.2g</td>\n",
       "      <td>1mg</td>\n",
       "      <td>46.00 mg</td>\n",
       "      <td>7.7 mg</td>\n",
       "      <td>4.00 mcg</td>\n",
       "      <td>...</td>\n",
       "      <td>2.00 g</td>\n",
       "      <td>1.160 g</td>\n",
       "      <td>0.530 g</td>\n",
       "      <td>0.080 g</td>\n",
       "      <td>1.00 mg</td>\n",
       "      <td>0.0 g</td>\n",
       "      <td>0.40 g</td>\n",
       "      <td>0.00 mg</td>\n",
       "      <td>0.00 mg</td>\n",
       "      <td>66.10 g</td>\n",
       "    </tr>\n",
       "  </tbody>\n",
       "</table>\n",
       "<p>5 rows × 77 columns</p>\n",
       "</div>"
      ],
      "text/plain": [
       "   Unnamed: 0             name serving_size  calories total_fat saturated_fat  \\\n",
       "0           0       Cornstarch        100 g       381      0.1g           NaN   \n",
       "1           1     Nuts, pecans        100 g       691       72g          6.2g   \n",
       "2           2    Eggplant, raw        100 g        25      0.2g           NaN   \n",
       "3           3   Teff, uncooked        100 g       367      2.4g          0.4g   \n",
       "4           4  Sherbet, orange        100 g       144        2g          1.2g   \n",
       "\n",
       "  cholesterol    sodium  choline     folate  ...      fat  \\\n",
       "0           0   9.00 mg   0.4 mg   0.00 mcg  ...   0.05 g   \n",
       "1           0   0.00 mg  40.5 mg  22.00 mcg  ...  71.97 g   \n",
       "2           0   2.00 mg   6.9 mg  22.00 mcg  ...   0.18 g   \n",
       "3           0  12.00 mg  13.1 mg          0  ...   2.38 g   \n",
       "4         1mg  46.00 mg   7.7 mg   4.00 mcg  ...   2.00 g   \n",
       "\n",
       "  saturated_fatty_acids monounsaturated_fatty_acids  \\\n",
       "0               0.009 g                     0.016 g   \n",
       "1               6.180 g                    40.801 g   \n",
       "2               0.034 g                     0.016 g   \n",
       "3               0.449 g                     0.589 g   \n",
       "4               1.160 g                     0.530 g   \n",
       "\n",
       "  polyunsaturated_fatty_acids fatty_acids_total_trans alcohol     ash  \\\n",
       "0                     0.025 g                 0.00 mg   0.0 g  0.09 g   \n",
       "1                    21.614 g                 0.00 mg   0.0 g  1.49 g   \n",
       "2                     0.076 g                 0.00 mg   0.0 g  0.66 g   \n",
       "3                     1.071 g                       0       0  2.37 g   \n",
       "4                     0.080 g                 1.00 mg   0.0 g  0.40 g   \n",
       "\n",
       "  caffeine theobromine    water  \n",
       "0  0.00 mg     0.00 mg   8.32 g  \n",
       "1  0.00 mg     0.00 mg   3.52 g  \n",
       "2  0.00 mg     0.00 mg  92.30 g  \n",
       "3        0           0   8.82 g  \n",
       "4  0.00 mg     0.00 mg  66.10 g  \n",
       "\n",
       "[5 rows x 77 columns]"
      ]
     },
     "execution_count": 42,
     "metadata": {},
     "output_type": "execute_result"
    }
   ],
   "source": [
    "\n",
    "nutrients=pd.read_csv(\"nutrition.csv\")\n",
    "nutrients.head()\n",
    "\n",
    "\n"
   ]
  },
  {
   "cell_type": "code",
   "execution_count": 43,
   "metadata": {},
   "outputs": [
    {
     "data": {
      "text/plain": [
       "Unnamed: 0       int64\n",
       "name            object\n",
       "serving_size    object\n",
       "calories         int64\n",
       "total_fat       object\n",
       "                 ...  \n",
       "alcohol         object\n",
       "ash             object\n",
       "caffeine        object\n",
       "theobromine     object\n",
       "water           object\n",
       "Length: 77, dtype: object"
      ]
     },
     "execution_count": 43,
     "metadata": {},
     "output_type": "execute_result"
    }
   ],
   "source": [
    "nutrients.dtypes"
   ]
  },
  {
   "cell_type": "code",
   "execution_count": 40,
   "metadata": {},
   "outputs": [
    {
     "name": "stdout",
     "output_type": "stream",
     "text": [
      "Unnamed: 0      False\n",
      "name            False\n",
      "serving_size    False\n",
      "calories        False\n",
      "total_fat       False\n",
      "                ...  \n",
      "alcohol         False\n",
      "ash             False\n",
      "caffeine        False\n",
      "theobromine     False\n",
      "water           False\n",
      "Length: 77, dtype: bool\n"
     ]
    }
   ],
   "source": [
    "print(nutrients.isnull().any())"
   ]
  },
  {
   "cell_type": "markdown",
   "metadata": {
    "papermill": {
     "duration": 0.038535,
     "end_time": "2020-10-11T08:43:41.348990",
     "exception": false,
     "start_time": "2020-10-11T08:43:41.310455",
     "status": "completed"
    },
    "tags": []
   },
   "source": [
    "First things first, the **t's** in the data denote miniscule amounts so we might as well replace them by 0."
   ]
  },
  {
   "cell_type": "code",
   "execution_count": 3,
   "metadata": {
    "execution": {
     "iopub.execute_input": "2020-10-11T08:43:41.429558Z",
     "iopub.status.busy": "2020-10-11T08:43:41.428869Z",
     "iopub.status.idle": "2020-10-11T08:43:41.449852Z",
     "shell.execute_reply": "2020-10-11T08:43:41.449149Z"
    },
    "papermill": {
     "duration": 0.064997,
     "end_time": "2020-10-11T08:43:41.449970",
     "exception": false,
     "start_time": "2020-10-11T08:43:41.384973",
     "status": "completed"
    },
    "tags": []
   },
   "outputs": [
    {
     "data": {
      "text/html": [
       "<div>\n",
       "<style scoped>\n",
       "    .dataframe tbody tr th:only-of-type {\n",
       "        vertical-align: middle;\n",
       "    }\n",
       "\n",
       "    .dataframe tbody tr th {\n",
       "        vertical-align: top;\n",
       "    }\n",
       "\n",
       "    .dataframe thead th {\n",
       "        text-align: right;\n",
       "    }\n",
       "</style>\n",
       "<table border=\"1\" class=\"dataframe\">\n",
       "  <thead>\n",
       "    <tr style=\"text-align: right;\">\n",
       "      <th></th>\n",
       "      <th>Food</th>\n",
       "      <th>Measure</th>\n",
       "      <th>Grams</th>\n",
       "      <th>Calories</th>\n",
       "      <th>Protein</th>\n",
       "      <th>Fat</th>\n",
       "      <th>Sat.Fat</th>\n",
       "      <th>Fiber</th>\n",
       "      <th>Carbs</th>\n",
       "      <th>Category</th>\n",
       "    </tr>\n",
       "  </thead>\n",
       "  <tbody>\n",
       "    <tr>\n",
       "      <th>0</th>\n",
       "      <td>Cows' milk</td>\n",
       "      <td>1 qt.</td>\n",
       "      <td>976</td>\n",
       "      <td>660</td>\n",
       "      <td>32</td>\n",
       "      <td>40</td>\n",
       "      <td>36</td>\n",
       "      <td>0</td>\n",
       "      <td>48</td>\n",
       "      <td>Dairy products</td>\n",
       "    </tr>\n",
       "    <tr>\n",
       "      <th>1</th>\n",
       "      <td>Milk skim</td>\n",
       "      <td>1 qt.</td>\n",
       "      <td>984</td>\n",
       "      <td>360</td>\n",
       "      <td>36</td>\n",
       "      <td>0</td>\n",
       "      <td>0</td>\n",
       "      <td>0</td>\n",
       "      <td>52</td>\n",
       "      <td>Dairy products</td>\n",
       "    </tr>\n",
       "    <tr>\n",
       "      <th>2</th>\n",
       "      <td>Buttermilk</td>\n",
       "      <td>1 cup</td>\n",
       "      <td>246</td>\n",
       "      <td>127</td>\n",
       "      <td>9</td>\n",
       "      <td>5</td>\n",
       "      <td>4</td>\n",
       "      <td>0</td>\n",
       "      <td>13</td>\n",
       "      <td>Dairy products</td>\n",
       "    </tr>\n",
       "    <tr>\n",
       "      <th>3</th>\n",
       "      <td>Evaporated, undiluted</td>\n",
       "      <td>1 cup</td>\n",
       "      <td>252</td>\n",
       "      <td>345</td>\n",
       "      <td>16</td>\n",
       "      <td>20</td>\n",
       "      <td>18</td>\n",
       "      <td>0</td>\n",
       "      <td>24</td>\n",
       "      <td>Dairy products</td>\n",
       "    </tr>\n",
       "    <tr>\n",
       "      <th>4</th>\n",
       "      <td>Fortified milk</td>\n",
       "      <td>6 cups</td>\n",
       "      <td>1,419</td>\n",
       "      <td>1,373</td>\n",
       "      <td>89</td>\n",
       "      <td>42</td>\n",
       "      <td>23</td>\n",
       "      <td>1.4</td>\n",
       "      <td>119</td>\n",
       "      <td>Dairy products</td>\n",
       "    </tr>\n",
       "  </tbody>\n",
       "</table>\n",
       "</div>"
      ],
      "text/plain": [
       "                    Food Measure  Grams Calories Protein Fat Sat.Fat Fiber  \\\n",
       "0             Cows' milk   1 qt.    976      660      32  40      36     0   \n",
       "1              Milk skim   1 qt.    984      360      36   0       0     0   \n",
       "2             Buttermilk   1 cup    246      127       9   5       4     0   \n",
       "3  Evaporated, undiluted   1 cup    252      345      16  20      18     0   \n",
       "4         Fortified milk  6 cups  1,419    1,373      89  42      23   1.4   \n",
       "\n",
       "  Carbs        Category  \n",
       "0    48  Dairy products  \n",
       "1    52  Dairy products  \n",
       "2    13  Dairy products  \n",
       "3    24  Dairy products  \n",
       "4   119  Dairy products  "
      ]
     },
     "execution_count": 3,
     "metadata": {},
     "output_type": "execute_result"
    }
   ],
   "source": [
    "nutrients=nutrients.replace(\"t\",0)\n",
    "nutrients=nutrients.replace(\"t'\",0)\n",
    "\n",
    "nutrients.head()"
   ]
  },
  {
   "cell_type": "markdown",
   "metadata": {
    "papermill": {
     "duration": 0.03656,
     "end_time": "2020-10-11T08:43:41.523411",
     "exception": false,
     "start_time": "2020-10-11T08:43:41.486851",
     "status": "completed"
    },
    "tags": []
   },
   "source": [
    "Now, we need to remove all the expressions like commas from the dataset so as to convert the numerical data to the respective integer or float variables."
   ]
  },
  {
   "cell_type": "code",
   "execution_count": 4,
   "metadata": {
    "execution": {
     "iopub.execute_input": "2020-10-11T08:43:41.623300Z",
     "iopub.status.busy": "2020-10-11T08:43:41.622258Z",
     "iopub.status.idle": "2020-10-11T08:43:41.625635Z",
     "shell.execute_reply": "2020-10-11T08:43:41.624878Z"
    },
    "papermill": {
     "duration": 0.065285,
     "end_time": "2020-10-11T08:43:41.625759",
     "exception": false,
     "start_time": "2020-10-11T08:43:41.560474",
     "status": "completed"
    },
    "tags": []
   },
   "outputs": [],
   "source": [
    "nutrients=nutrients.replace(\",\",\"\", regex=True)\n",
    "nutrients['Fiber']=nutrients['Fiber'].replace(\"a\",\"\", regex=True)\n",
    "nutrients['Calories'][91]=(8+44)/2"
   ]
  },
  {
   "cell_type": "code",
   "execution_count": null,
   "metadata": {},
   "outputs": [],
   "source": []
  },
  {
   "cell_type": "markdown",
   "metadata": {
    "papermill": {
     "duration": 0.036711,
     "end_time": "2020-10-11T08:43:41.699733",
     "exception": false,
     "start_time": "2020-10-11T08:43:41.663022",
     "status": "completed"
    },
    "tags": []
   },
   "source": [
    "Now, let us convert grams, calories, protein, fat, saturated fat, fiber and carbs datatypes to int."
   ]
  },
  {
   "cell_type": "code",
   "execution_count": 5,
   "metadata": {
    "execution": {
     "iopub.execute_input": "2020-10-11T08:43:41.790365Z",
     "iopub.status.busy": "2020-10-11T08:43:41.789534Z",
     "iopub.status.idle": "2020-10-11T08:43:41.792993Z",
     "shell.execute_reply": "2020-10-11T08:43:41.792271Z"
    },
    "papermill": {
     "duration": 0.055886,
     "end_time": "2020-10-11T08:43:41.793113",
     "exception": false,
     "start_time": "2020-10-11T08:43:41.737227",
     "status": "completed"
    },
    "tags": []
   },
   "outputs": [],
   "source": [
    "nutrients['Grams']=pd.to_numeric(nutrients['Grams'])\n",
    "nutrients['Calories']=pd.to_numeric(nutrients['Calories'])\n",
    "nutrients['Protein']=pd.to_numeric(nutrients['Protein'])\n",
    "nutrients['Fat']=pd.to_numeric(nutrients['Fat'])\n",
    "nutrients['Sat.Fat']=pd.to_numeric(nutrients['Sat.Fat'])\n",
    "nutrients['Fiber']=pd.to_numeric(nutrients['Fiber'])\n",
    "nutrients['Carbs']=pd.to_numeric(nutrients['Carbs'])"
   ]
  },
  {
   "cell_type": "code",
   "execution_count": 6,
   "metadata": {
    "execution": {
     "iopub.execute_input": "2020-10-11T08:43:41.875720Z",
     "iopub.status.busy": "2020-10-11T08:43:41.874666Z",
     "iopub.status.idle": "2020-10-11T08:43:41.879630Z",
     "shell.execute_reply": "2020-10-11T08:43:41.879036Z"
    },
    "papermill": {
     "duration": 0.048852,
     "end_time": "2020-10-11T08:43:41.879752",
     "exception": false,
     "start_time": "2020-10-11T08:43:41.830900",
     "status": "completed"
    },
    "tags": []
   },
   "outputs": [
    {
     "data": {
      "text/plain": [
       "Food         object\n",
       "Measure      object\n",
       "Grams         int64\n",
       "Calories    float64\n",
       "Protein       int64\n",
       "Fat           int64\n",
       "Sat.Fat     float64\n",
       "Fiber       float64\n",
       "Carbs       float64\n",
       "Category     object\n",
       "dtype: object"
      ]
     },
     "execution_count": 6,
     "metadata": {},
     "output_type": "execute_result"
    }
   ],
   "source": [
    "nutrients.dtypes"
   ]
  },
  {
   "cell_type": "markdown",
   "metadata": {
    "papermill": {
     "duration": 0.037434,
     "end_time": "2020-10-11T08:43:41.954816",
     "exception": false,
     "start_time": "2020-10-11T08:43:41.917382",
     "status": "completed"
    },
    "tags": []
   },
   "source": [
    "Nice, all our data is in desired datatypes.\n",
    "\n",
    "## Quick last checks on data quality"
   ]
  },
  {
   "cell_type": "code",
   "execution_count": 7,
   "metadata": {
    "execution": {
     "iopub.execute_input": "2020-10-11T08:43:42.048519Z",
     "iopub.status.busy": "2020-10-11T08:43:42.047751Z",
     "iopub.status.idle": "2020-10-11T08:43:42.077519Z",
     "shell.execute_reply": "2020-10-11T08:43:42.078295Z"
    },
    "papermill": {
     "duration": 0.08556,
     "end_time": "2020-10-11T08:43:42.078515",
     "exception": false,
     "start_time": "2020-10-11T08:43:41.992955",
     "status": "completed"
    },
    "tags": []
   },
   "outputs": [
    {
     "name": "stdout",
     "output_type": "stream",
     "text": [
      "Food        False\n",
      "Measure     False\n",
      "Grams       False\n",
      "Calories     True\n",
      "Protein     False\n",
      "Fat         False\n",
      "Sat.Fat      True\n",
      "Fiber        True\n",
      "Carbs       False\n",
      "Category    False\n",
      "dtype: bool\n",
      "-----------------------------------------------------------------------------------------------------------------------------------------------------------------------------------------------------------------------------------------------------\n",
      "             Grams     Calories     Protein         Fat     Sat.Fat  \\\n",
      "count   335.000000   334.000000  335.000000  335.000000  333.000000   \n",
      "mean    143.211940   188.802395    8.573134    8.540299    6.438438   \n",
      "std     138.668626   184.453018   17.733722   19.797871   18.517656   \n",
      "min      11.000000     0.000000   -1.000000    0.000000    0.000000   \n",
      "25%      60.000000    75.000000    1.000000    0.000000    0.000000   \n",
      "50%     108.000000   131.000000    3.000000    1.000000    0.000000   \n",
      "75%     200.000000   250.000000   12.000000   10.000000    8.000000   \n",
      "max    1419.000000  1373.000000  232.000000  233.000000  234.000000   \n",
      "\n",
      "            Fiber       Carbs  \n",
      "count  334.000000  335.000000  \n",
      "mean     2.376078   24.982388  \n",
      "std     16.078272   35.833106  \n",
      "min      0.000000    0.000000  \n",
      "25%      0.000000    3.000000  \n",
      "50%      0.200000   14.000000  \n",
      "75%      1.000000   30.500000  \n",
      "max    235.000000  236.000000  \n",
      "-----------------------------------------------------------------------------------------------------------------------------------------------------------------------------------------------------------------------------------------------------\n"
     ]
    }
   ],
   "source": [
    "print(nutrients.isnull().any())\n",
    "print('-'*245)\n",
    "print(nutrients.describe())\n",
    "print('-'*245)"
   ]
  },
  {
   "cell_type": "markdown",
   "metadata": {
    "papermill": {
     "duration": 0.039061,
     "end_time": "2020-10-11T08:43:42.156955",
     "exception": false,
     "start_time": "2020-10-11T08:43:42.117894",
     "status": "completed"
    },
    "tags": []
   },
   "source": [
    "There's a null value in the fiber column, lets drop that row entirely."
   ]
  },
  {
   "cell_type": "code",
   "execution_count": 9,
   "metadata": {
    "execution": {
     "iopub.execute_input": "2020-10-11T08:43:42.245467Z",
     "iopub.status.busy": "2020-10-11T08:43:42.244696Z",
     "iopub.status.idle": "2020-10-11T08:43:42.249091Z",
     "shell.execute_reply": "2020-10-11T08:43:42.248369Z"
    },
    "papermill": {
     "duration": 0.053216,
     "end_time": "2020-10-11T08:43:42.249217",
     "exception": false,
     "start_time": "2020-10-11T08:43:42.196001",
     "status": "completed"
    },
    "tags": []
   },
   "outputs": [
    {
     "data": {
      "text/plain": [
       "(331, 10)"
      ]
     },
     "execution_count": 9,
     "metadata": {},
     "output_type": "execute_result"
    }
   ],
   "source": [
    "nutrients=nutrients.dropna()\n",
    "nutrients.shape"
   ]
  },
  {
   "cell_type": "markdown",
   "metadata": {
    "papermill": {
     "duration": 0.039148,
     "end_time": "2020-10-11T08:43:42.327382",
     "exception": false,
     "start_time": "2020-10-11T08:43:42.288234",
     "status": "completed"
    },
    "tags": []
   },
   "source": [
    "# Data Visualization and Analysis"
   ]
  },
  {
   "cell_type": "markdown",
   "metadata": {
    "papermill": {
     "duration": 0.038864,
     "end_time": "2020-10-11T08:43:42.406401",
     "exception": false,
     "start_time": "2020-10-11T08:43:42.367537",
     "status": "completed"
    },
    "tags": []
   },
   "source": [
    "Let's start the analysis by plotting the features with one another. This will not only provide us the distribution of features with one another but also give a quick quantitative feel of the data."
   ]
  },
  {
   "cell_type": "code",
   "execution_count": 10,
   "metadata": {
    "_kg_hide-input": true,
    "execution": {
     "iopub.execute_input": "2020-10-11T08:43:42.508984Z",
     "iopub.status.busy": "2020-10-11T08:43:42.504453Z",
     "iopub.status.idle": "2020-10-11T08:43:50.750654Z",
     "shell.execute_reply": "2020-10-11T08:43:50.751222Z"
    },
    "papermill": {
     "duration": 8.305949,
     "end_time": "2020-10-11T08:43:50.751370",
     "exception": false,
     "start_time": "2020-10-11T08:43:42.445421",
     "status": "completed"
    },
    "tags": []
   },
   "outputs": [
    {
     "ename": "TypeError",
     "evalue": "kdeplot() takes from 0 to 1 positional arguments but 2 positional arguments (and 1 keyword-only argument) were given",
     "output_type": "error",
     "traceback": [
      "\u001b[1;31m---------------------------------------------------------------------------\u001b[0m",
      "\u001b[1;31mTypeError\u001b[0m                                 Traceback (most recent call last)",
      "Cell \u001b[1;32mIn [10], line 11\u001b[0m\n\u001b[0;32m      8\u001b[0m s \u001b[39m=\u001b[39m np\u001b[39m.\u001b[39mlinspace(\u001b[39m0\u001b[39m, \u001b[39m3\u001b[39m, \u001b[39m10\u001b[39m)\n\u001b[0;32m      9\u001b[0m cmap \u001b[39m=\u001b[39m sns\u001b[39m.\u001b[39mcubehelix_palette(start\u001b[39m=\u001b[39m\u001b[39m0.0\u001b[39m, light\u001b[39m=\u001b[39m\u001b[39m1\u001b[39m, as_cmap\u001b[39m=\u001b[39m\u001b[39mTrue\u001b[39;00m)\n\u001b[1;32m---> 11\u001b[0m sns\u001b[39m.\u001b[39;49mkdeplot(nutrients[\u001b[39m'\u001b[39;49m\u001b[39mCarbs\u001b[39;49m\u001b[39m'\u001b[39;49m],nutrients[\u001b[39m'\u001b[39;49m\u001b[39mProtein\u001b[39;49m\u001b[39m'\u001b[39;49m],cmap\u001b[39m=\u001b[39;49mcmap,shade\u001b[39m=\u001b[39;49m\u001b[39mTrue\u001b[39;49;00m, ax\u001b[39m=\u001b[39;49maxes[\u001b[39m0\u001b[39;49m,\u001b[39m0\u001b[39;49m])\n\u001b[0;32m     12\u001b[0m axes[\u001b[39m0\u001b[39m,\u001b[39m0\u001b[39m]\u001b[39m.\u001b[39mset(xlim\u001b[39m=\u001b[39m(\u001b[39m-\u001b[39m\u001b[39m10\u001b[39m, \u001b[39m50\u001b[39m), ylim\u001b[39m=\u001b[39m(\u001b[39m-\u001b[39m\u001b[39m30\u001b[39m, \u001b[39m70\u001b[39m), title \u001b[39m=\u001b[39m \u001b[39m'\u001b[39m\u001b[39mCarbs and Protein\u001b[39m\u001b[39m'\u001b[39m)\n\u001b[0;32m     14\u001b[0m cmap \u001b[39m=\u001b[39m sns\u001b[39m.\u001b[39mcubehelix_palette(start\u001b[39m=\u001b[39m\u001b[39m0.25\u001b[39m, light\u001b[39m=\u001b[39m\u001b[39m1\u001b[39m, as_cmap\u001b[39m=\u001b[39m\u001b[39mTrue\u001b[39;00m)\n",
      "\u001b[1;31mTypeError\u001b[0m: kdeplot() takes from 0 to 1 positional arguments but 2 positional arguments (and 1 keyword-only argument) were given"
     ]
    },
    {
     "data": {
      "image/png": "[encoded data removed]",
      "text/plain": [
       "<Figure size 1000x1000 with 6 Axes>"
      ]
     },
     "metadata": {},
     "output_type": "display_data"
    }
   ],
   "source": [
    "# Plotting the KDEplots\n",
    "\n",
    "import matplotlib.pyplot as plt\n",
    "\n",
    "\n",
    "f, axes = plt.subplots(2, 3, figsize=(10, 10), sharex=True, sharey=True)\n",
    "\n",
    "s = np.linspace(0, 3, 10)\n",
    "cmap = sns.cubehelix_palette(start=0.0, light=1, as_cmap=True)\n",
    "\n",
    "sns.kdeplot(nutrients['Carbs'],nutrients['Protein'],cmap=cmap,shade=True, ax=axes[0,0])\n",
    "axes[0,0].set(xlim=(-10, 50), ylim=(-30, 70), title = 'Carbs and Protein')\n",
    "\n",
    "cmap = sns.cubehelix_palette(start=0.25, light=1, as_cmap=True)\n",
    "\n",
    "sns.kdeplot(nutrients['Fat'],nutrients['Carbs'], ax=axes[0,1])\n",
    "axes[0,1].set(xlim=(-10, 50), ylim=(-30, 70), title = 'Carbs and Fat')\n",
    "\n",
    "cmap = sns.cubehelix_palette(start=0.33, light=1, as_cmap=True)\n",
    "\n",
    "sns.kdeplot(nutrients['Carbs'],nutrients['Fiber'], ax=axes[0,2])\n",
    "axes[0,2].set(xlim=(-10, 50), ylim=(-30, 70), title = 'Carbs and Fat')\n",
    "\n",
    "cmap = sns.cubehelix_palette(start=0.45, light=1, as_cmap=True)\n",
    "\n",
    "sns.kdeplot(nutrients['Fiber'],nutrients['Fat'], ax=axes[1,0])\n",
    "axes[1,0].set(xlim=(-10, 50), ylim=(-30, 70), title = 'Fiber and Fat')\n",
    "\n",
    "cmap = sns.cubehelix_palette(start=0.56, light=1, as_cmap=True)\n",
    "\n",
    "sns.kdeplot(nutrients['Fat'],nutrients['Sat.Fat'], ax=axes[1,1])\n",
    "axes[1,1].set(xlim=(-10, 50), ylim=(-30, 70), title = 'Sat. Fat and Fat')\n",
    "\n",
    "cmap = sns.cubehelix_palette(start=0.68, light=1, as_cmap=True)\n",
    "\n",
    "sns.kdeplot(nutrients['Carbs'],nutrients['Calories'], ax=axes[1,2])\n",
    "axes[1,2].set(xlim=(-10, 100), ylim=(-30, 70), title = 'Calories and Carbs')\n",
    "\n",
    "f.tight_layout()\n"
   ]
  },
  {
   "cell_type": "markdown",
   "metadata": {
    "papermill": {
     "duration": 0.051557,
     "end_time": "2020-10-11T08:43:50.851791",
     "exception": false,
     "start_time": "2020-10-11T08:43:50.800234",
     "status": "completed"
    },
    "tags": []
   },
   "source": [
    "## Let's dive into individual metrics"
   ]
  },
  {
   "cell_type": "markdown",
   "metadata": {
    "papermill": {
     "duration": 0.040674,
     "end_time": "2020-10-11T08:43:50.933753",
     "exception": false,
     "start_time": "2020-10-11T08:43:50.893079",
     "status": "completed"
    },
    "tags": []
   },
   "source": [
    "What is the most protein rich food in the category of vegetables and grains?"
   ]
  },
  {
   "cell_type": "code",
   "execution_count": 11,
   "metadata": {
    "execution": {
     "iopub.execute_input": "2020-10-11T08:43:51.026772Z",
     "iopub.status.busy": "2020-10-11T08:43:51.026008Z",
     "iopub.status.idle": "2020-10-11T08:43:52.169577Z",
     "shell.execute_reply": "2020-10-11T08:43:52.168867Z"
    },
    "papermill": {
     "duration": 1.194917,
     "end_time": "2020-10-11T08:43:52.169721",
     "exception": false,
     "start_time": "2020-10-11T08:43:50.974804",
     "status": "completed"
    },
    "tags": []
   },
   "outputs": [
    {
     "ename": "ValueError",
     "evalue": "Mime type rendering requires nbformat>=4.2.0 but it is not installed",
     "output_type": "error",
     "traceback": [
      "\u001b[1;31m---------------------------------------------------------------------------\u001b[0m",
      "\u001b[1;31mValueError\u001b[0m                                Traceback (most recent call last)",
      "Cell \u001b[1;32mIn [11], line 10\u001b[0m\n\u001b[0;32m      8\u001b[0m top_20\u001b[39m=\u001b[39mprotein_rich\u001b[39m.\u001b[39mhead(\u001b[39m20\u001b[39m)\n\u001b[0;32m      9\u001b[0m fig \u001b[39m=\u001b[39m px\u001b[39m.\u001b[39mbar(top_20, x\u001b[39m=\u001b[39m\u001b[39m'\u001b[39m\u001b[39mFood\u001b[39m\u001b[39m'\u001b[39m, y\u001b[39m=\u001b[39m\u001b[39m'\u001b[39m\u001b[39mProtein\u001b[39m\u001b[39m'\u001b[39m, color\u001b[39m=\u001b[39m\u001b[39m'\u001b[39m\u001b[39mProtein\u001b[39m\u001b[39m'\u001b[39m, title\u001b[39m=\u001b[39m\u001b[39m'\u001b[39m\u001b[39m Top 10 protein rich foods\u001b[39m\u001b[39m'\u001b[39m)\n\u001b[1;32m---> 10\u001b[0m fig\u001b[39m.\u001b[39;49mshow()\n",
      "File \u001b[1;32mc:\\Users\\shohh\\AppData\\Local\\Programs\\Python\\Python310\\lib\\site-packages\\plotly\\basedatatypes.py:3398\u001b[0m, in \u001b[0;36mBaseFigure.show\u001b[1;34m(self, *args, **kwargs)\u001b[0m\n\u001b[0;32m   3365\u001b[0m \u001b[39m\"\"\"\u001b[39;00m\n\u001b[0;32m   3366\u001b[0m \u001b[39mShow a figure using either the default renderer(s) or the renderer(s)\u001b[39;00m\n\u001b[0;32m   3367\u001b[0m \u001b[39mspecified by the renderer argument\u001b[39;00m\n\u001b[1;32m   (...)\u001b[0m\n\u001b[0;32m   3394\u001b[0m \u001b[39mNone\u001b[39;00m\n\u001b[0;32m   3395\u001b[0m \u001b[39m\"\"\"\u001b[39;00m\n\u001b[0;32m   3396\u001b[0m \u001b[39mimport\u001b[39;00m \u001b[39mplotly\u001b[39;00m\u001b[39m.\u001b[39;00m\u001b[39mio\u001b[39;00m \u001b[39mas\u001b[39;00m \u001b[39mpio\u001b[39;00m\n\u001b[1;32m-> 3398\u001b[0m \u001b[39mreturn\u001b[39;00m pio\u001b[39m.\u001b[39mshow(\u001b[39mself\u001b[39m, \u001b[39m*\u001b[39margs, \u001b[39m*\u001b[39m\u001b[39m*\u001b[39mkwargs)\n",
      "File \u001b[1;32mc:\\Users\\shohh\\AppData\\Local\\Programs\\Python\\Python310\\lib\\site-packages\\plotly\\io\\_renderers.py:396\u001b[0m, in \u001b[0;36mshow\u001b[1;34m(fig, renderer, validate, **kwargs)\u001b[0m\n\u001b[0;32m    391\u001b[0m         \u001b[39mraise\u001b[39;00m \u001b[39mValueError\u001b[39;00m(\n\u001b[0;32m    392\u001b[0m             \u001b[39m\"\u001b[39m\u001b[39mMime type rendering requires ipython but it is not installed\u001b[39m\u001b[39m\"\u001b[39m\n\u001b[0;32m    393\u001b[0m         )\n\u001b[0;32m    395\u001b[0m     \u001b[39mif\u001b[39;00m \u001b[39mnot\u001b[39;00m nbformat \u001b[39mor\u001b[39;00m LooseVersion(nbformat\u001b[39m.\u001b[39m__version__) \u001b[39m<\u001b[39m LooseVersion(\u001b[39m\"\u001b[39m\u001b[39m4.2.0\u001b[39m\u001b[39m\"\u001b[39m):\n\u001b[1;32m--> 396\u001b[0m         \u001b[39mraise\u001b[39;00m \u001b[39mValueError\u001b[39;00m(\n\u001b[0;32m    397\u001b[0m             \u001b[39m\"\u001b[39m\u001b[39mMime type rendering requires nbformat>=4.2.0 but it is not installed\u001b[39m\u001b[39m\"\u001b[39m\n\u001b[0;32m    398\u001b[0m         )\n\u001b[0;32m    400\u001b[0m     ipython_display\u001b[39m.\u001b[39mdisplay(bundle, raw\u001b[39m=\u001b[39m\u001b[39mTrue\u001b[39;00m)\n\u001b[0;32m    402\u001b[0m \u001b[39m# external renderers\u001b[39;00m\n",
      "\u001b[1;31mValueError\u001b[0m: Mime type rendering requires nbformat>=4.2.0 but it is not installed"
     ]
    }
   ],
   "source": [
    "\n",
    "alls=['Vegetables A-E',\n",
    " 'Vegetables F-P',\n",
    " 'Vegetables R-Z','Breads cereals fastfoodgrains','Seeds and Nuts']\n",
    "\n",
    "prot= nutrients[nutrients['Category'].isin(alls)]\n",
    "\n",
    "protein_rich= prot.sort_values(by='Protein', ascending= False)\n",
    "top_20=protein_rich.head(20)\n",
    "fig = px.bar(top_20, x='Food', y='Protein', color='Protein', title=' Top 10 protein rich foods')\n",
    "fig.show()"
   ]
  },
  {
   "cell_type": "markdown",
   "metadata": {
    "papermill": {
     "duration": 0.04275,
     "end_time": "2020-10-11T08:43:52.255834",
     "exception": false,
     "start_time": "2020-10-11T08:43:52.213084",
     "status": "completed"
    },
    "tags": []
   },
   "source": [
    "Therefore, from the category of Grains, Vegetables and Seeds, whole wheat has the most protein content followed by white bread. Soybeans are also in the top 20s. Also, Almonds rank no. 1 in the Seeds category.🌱"
   ]
  },
  {
   "cell_type": "markdown",
   "metadata": {
    "papermill": {
     "duration": 0.043362,
     "end_time": "2020-10-11T08:43:52.342148",
     "exception": false,
     "start_time": "2020-10-11T08:43:52.298786",
     "status": "completed"
    },
    "tags": []
   },
   "source": [
    "## Foods to stay away from:\n",
    "\n",
    "What food has the most calories?"
   ]
  },
  {
   "cell_type": "code",
   "execution_count": 11,
   "metadata": {
    "execution": {
     "iopub.execute_input": "2020-10-11T08:43:52.467171Z",
     "iopub.status.busy": "2020-10-11T08:43:52.462009Z",
     "iopub.status.idle": "2020-10-11T08:43:52.503239Z",
     "shell.execute_reply": "2020-10-11T08:43:52.502494Z"
    },
    "papermill": {
     "duration": 0.118227,
     "end_time": "2020-10-11T08:43:52.503359",
     "exception": false,
     "start_time": "2020-10-11T08:43:52.385132",
     "status": "completed"
    },
    "tags": []
   },
   "outputs": [
    {
     "data": {
      "text/html": [
       "<div>\n",
       "        \n",
       "        \n",
       "            <div id=\"f6d211b1-79d5-4545-a930-81132be4ad96\" class=\"plotly-graph-div\" style=\"height:525px; width:100%;\"></div>\n",
       "            <script type=\"text/javascript\">\n",
       "                require([\"plotly\"], function(Plotly) {\n",
       "                    window.PLOTLYENV=window.PLOTLYENV || {};\n",
       "                    \n",
       "                if (document.getElementById(\"f6d211b1-79d5-4545-a930-81132be4ad96\")) {\n",
       "                    Plotly.newPlot(\n",
       "                        'f6d211b1-79d5-4545-a930-81132be4ad96',\n",
       "                        [{\"alignmentgroup\": \"True\", \"hovertemplate\": \"Food=%{x}<br>Calories=%{marker.color}<extra></extra>\", \"legendgroup\": \"\", \"marker\": {\"color\": [1100.0, 1225.0, 460.0, 260.0, 260.0, 255.0, 475.0, 245.0, 260.0, 212.0, 230.0, 748.0, 692.0, 677.0, 285.0, 425.0, 439.0, 284.0, 290.0, 390.0], \"coloraxis\": \"coloraxis\"}, \"name\": \"\", \"offsetgroup\": \"\", \"orientation\": \"v\", \"showlegend\": false, \"textposition\": \"auto\", \"type\": \"bar\", \"x\": [\"Whole-wheat\", \"White 20 slices or\", \"Flour\", \"Soybeans\", \"Wheat-germ cereal toasted\", \"Peppers with beef and crumbs\", \"Baked with cheese\", \"Wheat germ\", \"Lima dry cooked\", \"Lentils\", \"Red kidney\", \"Rice\", \"White\", \"Converted\", \"Spaghetti with meat sauce\", \"Almonds\", \"roasted and salted\", \"Peanut butter natural\", \"Peanuts\", \"Wheat (whole)\"], \"xaxis\": \"x\", \"y\": [1100.0, 1225.0, 460.0, 260.0, 260.0, 255.0, 475.0, 245.0, 260.0, 212.0, 230.0, 748.0, 692.0, 677.0, 285.0, 425.0, 439.0, 284.0, 290.0, 390.0], \"yaxis\": \"y\"}],\n",
       "                        {\"barmode\": \"relative\", \"coloraxis\": {\"colorbar\": {\"title\": {\"text\": \"Calories\"}}, \"colorscale\": [[0.0, \"#0d0887\"], [0.1111111111111111, \"#46039f\"], [0.2222222222222222, \"#7201a8\"], [0.3333333333333333, \"#9c179e\"], [0.4444444444444444, \"#bd3786\"], [0.5555555555555556, \"#d8576b\"], [0.6666666666666666, \"#ed7953\"], [0.7777777777777778, \"#fb9f3a\"], [0.8888888888888888, \"#fdca26\"], [1.0, \"#f0f921\"]]}, \"legend\": {\"tracegroupgap\": 0}, \"template\": {\"data\": {\"bar\": [{\"error_x\": {\"color\": \"#2a3f5f\"}, \"error_y\": {\"color\": \"#2a3f5f\"}, \"marker\": {\"line\": {\"color\": \"#E5ECF6\", \"width\": 0.5}}, \"type\": \"bar\"}], \"barpolar\": [{\"marker\": {\"line\": {\"color\": \"#E5ECF6\", \"width\": 0.5}}, \"type\": \"barpolar\"}], \"carpet\": [{\"aaxis\": {\"endlinecolor\": \"#2a3f5f\", \"gridcolor\": \"white\", \"linecolor\": \"white\", \"minorgridcolor\": \"white\", \"startlinecolor\": \"#2a3f5f\"}, \"baxis\": {\"endlinecolor\": \"#2a3f5f\", \"gridcolor\": \"white\", \"linecolor\": \"white\", \"minorgridcolor\": \"white\", \"startlinecolor\": \"#2a3f5f\"}, \"type\": \"carpet\"}], \"choropleth\": [{\"colorbar\": {\"outlinewidth\": 0, \"ticks\": \"\"}, \"type\": \"choropleth\"}], \"contour\": [{\"colorbar\": {\"outlinewidth\": 0, \"ticks\": \"\"}, \"colorscale\": [[0.0, \"#0d0887\"], [0.1111111111111111, \"#46039f\"], [0.2222222222222222, \"#7201a8\"], [0.3333333333333333, \"#9c179e\"], [0.4444444444444444, \"#bd3786\"], [0.5555555555555556, \"#d8576b\"], [0.6666666666666666, \"#ed7953\"], [0.7777777777777778, \"#fb9f3a\"], [0.8888888888888888, \"#fdca26\"], [1.0, \"#f0f921\"]], \"type\": \"contour\"}], \"contourcarpet\": [{\"colorbar\": {\"outlinewidth\": 0, \"ticks\": \"\"}, \"type\": \"contourcarpet\"}], \"heatmap\": [{\"colorbar\": {\"outlinewidth\": 0, \"ticks\": \"\"}, \"colorscale\": [[0.0, \"#0d0887\"], [0.1111111111111111, \"#46039f\"], [0.2222222222222222, \"#7201a8\"], [0.3333333333333333, \"#9c179e\"], [0.4444444444444444, \"#bd3786\"], [0.5555555555555556, \"#d8576b\"], [0.6666666666666666, \"#ed7953\"], [0.7777777777777778, \"#fb9f3a\"], [0.8888888888888888, \"#fdca26\"], [1.0, \"#f0f921\"]], \"type\": \"heatmap\"}], \"heatmapgl\": [{\"colorbar\": {\"outlinewidth\": 0, \"ticks\": \"\"}, \"colorscale\": [[0.0, \"#0d0887\"], [0.1111111111111111, \"#46039f\"], [0.2222222222222222, \"#7201a8\"], [0.3333333333333333, \"#9c179e\"], [0.4444444444444444, \"#bd3786\"], [0.5555555555555556, \"#d8576b\"], [0.6666666666666666, \"#ed7953\"], [0.7777777777777778, \"#fb9f3a\"], [0.8888888888888888, \"#fdca26\"], [1.0, \"#f0f921\"]], \"type\": \"heatmapgl\"}], \"histogram\": [{\"marker\": {\"colorbar\": {\"outlinewidth\": 0, \"ticks\": \"\"}}, \"type\": \"histogram\"}], \"histogram2d\": [{\"colorbar\": {\"outlinewidth\": 0, \"ticks\": \"\"}, \"colorscale\": [[0.0, \"#0d0887\"], [0.1111111111111111, \"#46039f\"], [0.2222222222222222, \"#7201a8\"], [0.3333333333333333, \"#9c179e\"], [0.4444444444444444, \"#bd3786\"], [0.5555555555555556, \"#d8576b\"], [0.6666666666666666, \"#ed7953\"], [0.7777777777777778, \"#fb9f3a\"], [0.8888888888888888, \"#fdca26\"], [1.0, \"#f0f921\"]], \"type\": \"histogram2d\"}], \"histogram2dcontour\": [{\"colorbar\": {\"outlinewidth\": 0, \"ticks\": \"\"}, \"colorscale\": [[0.0, \"#0d0887\"], [0.1111111111111111, \"#46039f\"], [0.2222222222222222, \"#7201a8\"], [0.3333333333333333, \"#9c179e\"], [0.4444444444444444, \"#bd3786\"], [0.5555555555555556, \"#d8576b\"], [0.6666666666666666, \"#ed7953\"], [0.7777777777777778, \"#fb9f3a\"], [0.8888888888888888, \"#fdca26\"], [1.0, \"#f0f921\"]], \"type\": \"histogram2dcontour\"}], \"mesh3d\": [{\"colorbar\": {\"outlinewidth\": 0, \"ticks\": \"\"}, \"type\": \"mesh3d\"}], \"parcoords\": [{\"line\": {\"colorbar\": {\"outlinewidth\": 0, \"ticks\": \"\"}}, \"type\": \"parcoords\"}], \"pie\": [{\"automargin\": true, \"type\": \"pie\"}], \"scatter\": [{\"marker\": {\"colorbar\": {\"outlinewidth\": 0, \"ticks\": \"\"}}, \"type\": \"scatter\"}], \"scatter3d\": [{\"line\": {\"colorbar\": {\"outlinewidth\": 0, \"ticks\": \"\"}}, \"marker\": {\"colorbar\": {\"outlinewidth\": 0, \"ticks\": \"\"}}, \"type\": \"scatter3d\"}], \"scattercarpet\": [{\"marker\": {\"colorbar\": {\"outlinewidth\": 0, \"ticks\": \"\"}}, \"type\": \"scattercarpet\"}], \"scattergeo\": [{\"marker\": {\"colorbar\": {\"outlinewidth\": 0, \"ticks\": \"\"}}, \"type\": \"scattergeo\"}], \"scattergl\": [{\"marker\": {\"colorbar\": {\"outlinewidth\": 0, \"ticks\": \"\"}}, \"type\": \"scattergl\"}], \"scattermapbox\": [{\"marker\": {\"colorbar\": {\"outlinewidth\": 0, \"ticks\": \"\"}}, \"type\": \"scattermapbox\"}], \"scatterpolar\": [{\"marker\": {\"colorbar\": {\"outlinewidth\": 0, \"ticks\": \"\"}}, \"type\": \"scatterpolar\"}], \"scatterpolargl\": [{\"marker\": {\"colorbar\": {\"outlinewidth\": 0, \"ticks\": \"\"}}, \"type\": \"scatterpolargl\"}], \"scatterternary\": [{\"marker\": {\"colorbar\": {\"outlinewidth\": 0, \"ticks\": \"\"}}, \"type\": \"scatterternary\"}], \"surface\": [{\"colorbar\": {\"outlinewidth\": 0, \"ticks\": \"\"}, \"colorscale\": [[0.0, \"#0d0887\"], [0.1111111111111111, \"#46039f\"], [0.2222222222222222, \"#7201a8\"], [0.3333333333333333, \"#9c179e\"], [0.4444444444444444, \"#bd3786\"], [0.5555555555555556, \"#d8576b\"], [0.6666666666666666, \"#ed7953\"], [0.7777777777777778, \"#fb9f3a\"], [0.8888888888888888, \"#fdca26\"], [1.0, \"#f0f921\"]], \"type\": \"surface\"}], \"table\": [{\"cells\": {\"fill\": {\"color\": \"#EBF0F8\"}, \"line\": {\"color\": \"white\"}}, \"header\": {\"fill\": {\"color\": \"#C8D4E3\"}, \"line\": {\"color\": \"white\"}}, \"type\": \"table\"}]}, \"layout\": {\"annotationdefaults\": {\"arrowcolor\": \"#2a3f5f\", \"arrowhead\": 0, \"arrowwidth\": 1}, \"coloraxis\": {\"colorbar\": {\"outlinewidth\": 0, \"ticks\": \"\"}}, \"colorscale\": {\"diverging\": [[0, \"#8e0152\"], [0.1, \"#c51b7d\"], [0.2, \"#de77ae\"], [0.3, \"#f1b6da\"], [0.4, \"#fde0ef\"], [0.5, \"#f7f7f7\"], [0.6, \"#e6f5d0\"], [0.7, \"#b8e186\"], [0.8, \"#7fbc41\"], [0.9, \"#4d9221\"], [1, \"#276419\"]], \"sequential\": [[0.0, \"#0d0887\"], [0.1111111111111111, \"#46039f\"], [0.2222222222222222, \"#7201a8\"], [0.3333333333333333, \"#9c179e\"], [0.4444444444444444, \"#bd3786\"], [0.5555555555555556, \"#d8576b\"], [0.6666666666666666, \"#ed7953\"], [0.7777777777777778, \"#fb9f3a\"], [0.8888888888888888, \"#fdca26\"], [1.0, \"#f0f921\"]], \"sequentialminus\": [[0.0, \"#0d0887\"], [0.1111111111111111, \"#46039f\"], [0.2222222222222222, \"#7201a8\"], [0.3333333333333333, \"#9c179e\"], [0.4444444444444444, \"#bd3786\"], [0.5555555555555556, \"#d8576b\"], [0.6666666666666666, \"#ed7953\"], [0.7777777777777778, \"#fb9f3a\"], [0.8888888888888888, \"#fdca26\"], [1.0, \"#f0f921\"]]}, \"colorway\": [\"#636efa\", \"#EF553B\", \"#00cc96\", \"#ab63fa\", \"#FFA15A\", \"#19d3f3\", \"#FF6692\", \"#B6E880\", \"#FF97FF\", \"#FECB52\"], \"font\": {\"color\": \"#2a3f5f\"}, \"geo\": {\"bgcolor\": \"white\", \"lakecolor\": \"white\", \"landcolor\": \"#E5ECF6\", \"showlakes\": true, \"showland\": true, \"subunitcolor\": \"white\"}, \"hoverlabel\": {\"align\": \"left\"}, \"hovermode\": \"closest\", \"mapbox\": {\"style\": \"light\"}, \"paper_bgcolor\": \"white\", \"plot_bgcolor\": \"#E5ECF6\", \"polar\": {\"angularaxis\": {\"gridcolor\": \"white\", \"linecolor\": \"white\", \"ticks\": \"\"}, \"bgcolor\": \"#E5ECF6\", \"radialaxis\": {\"gridcolor\": \"white\", \"linecolor\": \"white\", \"ticks\": \"\"}}, \"scene\": {\"xaxis\": {\"backgroundcolor\": \"#E5ECF6\", \"gridcolor\": \"white\", \"gridwidth\": 2, \"linecolor\": \"white\", \"showbackground\": true, \"ticks\": \"\", \"zerolinecolor\": \"white\"}, \"yaxis\": {\"backgroundcolor\": \"#E5ECF6\", \"gridcolor\": \"white\", \"gridwidth\": 2, \"linecolor\": \"white\", \"showbackground\": true, \"ticks\": \"\", \"zerolinecolor\": \"white\"}, \"zaxis\": {\"backgroundcolor\": \"#E5ECF6\", \"gridcolor\": \"white\", \"gridwidth\": 2, \"linecolor\": \"white\", \"showbackground\": true, \"ticks\": \"\", \"zerolinecolor\": \"white\"}}, \"shapedefaults\": {\"line\": {\"color\": \"#2a3f5f\"}}, \"ternary\": {\"aaxis\": {\"gridcolor\": \"white\", \"linecolor\": \"white\", \"ticks\": \"\"}, \"baxis\": {\"gridcolor\": \"white\", \"linecolor\": \"white\", \"ticks\": \"\"}, \"bgcolor\": \"#E5ECF6\", \"caxis\": {\"gridcolor\": \"white\", \"linecolor\": \"white\", \"ticks\": \"\"}}, \"title\": {\"x\": 0.05}, \"xaxis\": {\"automargin\": true, \"gridcolor\": \"white\", \"linecolor\": \"white\", \"ticks\": \"\", \"title\": {\"standoff\": 15}, \"zerolinecolor\": \"white\", \"zerolinewidth\": 2}, \"yaxis\": {\"automargin\": true, \"gridcolor\": \"white\", \"linecolor\": \"white\", \"ticks\": \"\", \"title\": {\"standoff\": 15}, \"zerolinecolor\": \"white\", \"zerolinewidth\": 2}}}, \"title\": {\"text\": \" Top 10 calorie rich foods\"}, \"xaxis\": {\"anchor\": \"y\", \"domain\": [0.0, 1.0], \"title\": {\"text\": \"Food\"}}, \"yaxis\": {\"anchor\": \"x\", \"domain\": [0.0, 1.0], \"title\": {\"text\": \"Calories\"}}},\n",
       "                        {\"responsive\": true}\n",
       "                    ).then(function(){\n",
       "                            \n",
       "var gd = document.getElementById('f6d211b1-79d5-4545-a930-81132be4ad96');\n",
       "var x = new MutationObserver(function (mutations, observer) {{\n",
       "        var display = window.getComputedStyle(gd).display;\n",
       "        if (!display || display === 'none') {{\n",
       "            console.log([gd, 'removed!']);\n",
       "            Plotly.purge(gd);\n",
       "            observer.disconnect();\n",
       "        }}\n",
       "}});\n",
       "\n",
       "// Listen for the removal of the full notebook cells\n",
       "var notebookContainer = gd.closest('#notebook-container');\n",
       "if (notebookContainer) {{\n",
       "    x.observe(notebookContainer, {childList: true});\n",
       "}}\n",
       "\n",
       "// Listen for the clearing of the current output cell\n",
       "var outputEl = gd.closest('.output');\n",
       "if (outputEl) {{\n",
       "    x.observe(outputEl, {childList: true});\n",
       "}}\n",
       "\n",
       "                        })\n",
       "                };\n",
       "                });\n",
       "            </script>\n",
       "        </div>"
      ]
     },
     "metadata": {},
     "output_type": "display_data"
    }
   ],
   "source": [
    "cals= nutrients.sort_values(by='Calories', ascending= False)\n",
    "top_20_cals=cals.head(20)\n",
    "fig = px.bar(top_20, x='Food', y='Calories' , color='Calories',title=' Top 10 calorie rich foods')\n",
    "fig.show()"
   ]
  },
  {
   "cell_type": "markdown",
   "metadata": {
    "papermill": {
     "duration": 0.043555,
     "end_time": "2020-10-11T08:43:52.590911",
     "exception": false,
     "start_time": "2020-10-11T08:43:52.547356",
     "status": "completed"
    },
    "tags": []
   },
   "source": [
    "Fortified milk has the most calories, followed by white bread. Also, notice how whole wheat has the most proteins but has almost equal amount of calories. Lard is fat source with most calories and 1/2 cup of ice-creams tops the charts in the dessert category."
   ]
  },
  {
   "cell_type": "markdown",
   "metadata": {
    "papermill": {
     "duration": 0.043488,
     "end_time": "2020-10-11T08:43:52.678302",
     "exception": false,
     "start_time": "2020-10-11T08:43:52.634814",
     "status": "completed"
    },
    "tags": []
   },
   "source": [
    "## Fat Content:\n",
    "\n",
    "Normally, fat sources are often looked down upon. But, a certain amount of fat is required for a healthy gut.\n",
    "Let's look at some fatty foods.\n",
    "\n"
   ]
  },
  {
   "cell_type": "code",
   "execution_count": 12,
   "metadata": {
    "execution": {
     "iopub.execute_input": "2020-10-11T08:43:52.822892Z",
     "iopub.status.busy": "2020-10-11T08:43:52.812593Z",
     "iopub.status.idle": "2020-10-11T08:43:52.852931Z",
     "shell.execute_reply": "2020-10-11T08:43:52.852355Z"
    },
    "papermill": {
     "duration": 0.130869,
     "end_time": "2020-10-11T08:43:52.853063",
     "exception": false,
     "start_time": "2020-10-11T08:43:52.722194",
     "status": "completed"
    },
    "tags": []
   },
   "outputs": [
    {
     "data": {
      "text/html": [
       "<div>\n",
       "        \n",
       "        \n",
       "            <div id=\"68ce026c-5f6e-4c6a-b592-85c771da1872\" class=\"plotly-graph-div\" style=\"height:525px; width:100%;\"></div>\n",
       "            <script type=\"text/javascript\">\n",
       "                require([\"plotly\"], function(Plotly) {\n",
       "                    window.PLOTLYENV=window.PLOTLYENV || {};\n",
       "                    \n",
       "                if (document.getElementById(\"68ce026c-5f6e-4c6a-b592-85c771da1872\")) {\n",
       "                    Plotly.newPlot(\n",
       "                        '68ce026c-5f6e-4c6a-b592-85c771da1872',\n",
       "                        [{\"alignmentgroup\": \"True\", \"hovertemplate\": \"Food=%{x}<br>Calories=%{marker.color}<extra></extra>\", \"legendgroup\": \"\", \"marker\": {\"color\": [231.0, 113.0, 113.0, 992.0, 665.0, 806.0, 457.0, 430.0, 475.0, 1373.0, 660.0, 439.0, 425.0, 390.0, 480.0, 343.0, 392.0, 325.0, 480.0, 370.0], \"coloraxis\": \"coloraxis\"}, \"name\": \"\", \"offsetgroup\": \"\", \"orientation\": \"v\", \"showlegend\": false, \"textposition\": \"auto\", \"type\": \"bar\", \"x\": [\"Oysters\", \"Butter\", \"Butter\", \"Lard\", \"Hydrogenated cooking fat\", \"Margarine\", \"Brazil nuts\", \"or whipping\", \"Pork sausage\", \"Fortified milk\", \"Cows' milk\", \"roasted and salted\", \"Almonds\", \"Roast beef\", \"Lamb chop broiled\", \"Pecans\", \"Cashews\", \"Walnuts\", \"Pot-pie\", \"Duck domestic\"], \"xaxis\": \"x\", \"y\": [231.0, 113.0, 113.0, 992.0, 665.0, 806.0, 457.0, 430.0, 475.0, 1373.0, 660.0, 439.0, 425.0, 390.0, 480.0, 343.0, 392.0, 325.0, 480.0, 370.0], \"yaxis\": \"y\"}],\n",
       "                        {\"barmode\": \"relative\", \"coloraxis\": {\"colorbar\": {\"title\": {\"text\": \"Calories\"}}, \"colorscale\": [[0.0, \"#0d0887\"], [0.1111111111111111, \"#46039f\"], [0.2222222222222222, \"#7201a8\"], [0.3333333333333333, \"#9c179e\"], [0.4444444444444444, \"#bd3786\"], [0.5555555555555556, \"#d8576b\"], [0.6666666666666666, \"#ed7953\"], [0.7777777777777778, \"#fb9f3a\"], [0.8888888888888888, \"#fdca26\"], [1.0, \"#f0f921\"]]}, \"legend\": {\"tracegroupgap\": 0}, \"template\": {\"data\": {\"bar\": [{\"error_x\": {\"color\": \"#2a3f5f\"}, \"error_y\": {\"color\": \"#2a3f5f\"}, \"marker\": {\"line\": {\"color\": \"#E5ECF6\", \"width\": 0.5}}, \"type\": \"bar\"}], \"barpolar\": [{\"marker\": {\"line\": {\"color\": \"#E5ECF6\", \"width\": 0.5}}, \"type\": \"barpolar\"}], \"carpet\": [{\"aaxis\": {\"endlinecolor\": \"#2a3f5f\", \"gridcolor\": \"white\", \"linecolor\": \"white\", \"minorgridcolor\": \"white\", \"startlinecolor\": \"#2a3f5f\"}, \"baxis\": {\"endlinecolor\": \"#2a3f5f\", \"gridcolor\": \"white\", \"linecolor\": \"white\", \"minorgridcolor\": \"white\", \"startlinecolor\": \"#2a3f5f\"}, \"type\": \"carpet\"}], \"choropleth\": [{\"colorbar\": {\"outlinewidth\": 0, \"ticks\": \"\"}, \"type\": \"choropleth\"}], \"contour\": [{\"colorbar\": {\"outlinewidth\": 0, \"ticks\": \"\"}, \"colorscale\": [[0.0, \"#0d0887\"], [0.1111111111111111, \"#46039f\"], [0.2222222222222222, \"#7201a8\"], [0.3333333333333333, \"#9c179e\"], [0.4444444444444444, \"#bd3786\"], [0.5555555555555556, \"#d8576b\"], [0.6666666666666666, \"#ed7953\"], [0.7777777777777778, \"#fb9f3a\"], [0.8888888888888888, \"#fdca26\"], [1.0, \"#f0f921\"]], \"type\": \"contour\"}], \"contourcarpet\": [{\"colorbar\": {\"outlinewidth\": 0, \"ticks\": \"\"}, \"type\": \"contourcarpet\"}], \"heatmap\": [{\"colorbar\": {\"outlinewidth\": 0, \"ticks\": \"\"}, \"colorscale\": [[0.0, \"#0d0887\"], [0.1111111111111111, \"#46039f\"], [0.2222222222222222, \"#7201a8\"], [0.3333333333333333, \"#9c179e\"], [0.4444444444444444, \"#bd3786\"], [0.5555555555555556, \"#d8576b\"], [0.6666666666666666, \"#ed7953\"], [0.7777777777777778, \"#fb9f3a\"], [0.8888888888888888, \"#fdca26\"], [1.0, \"#f0f921\"]], \"type\": \"heatmap\"}], \"heatmapgl\": [{\"colorbar\": {\"outlinewidth\": 0, \"ticks\": \"\"}, \"colorscale\": [[0.0, \"#0d0887\"], [0.1111111111111111, \"#46039f\"], [0.2222222222222222, \"#7201a8\"], [0.3333333333333333, \"#9c179e\"], [0.4444444444444444, \"#bd3786\"], [0.5555555555555556, \"#d8576b\"], [0.6666666666666666, \"#ed7953\"], [0.7777777777777778, \"#fb9f3a\"], [0.8888888888888888, \"#fdca26\"], [1.0, \"#f0f921\"]], \"type\": \"heatmapgl\"}], \"histogram\": [{\"marker\": {\"colorbar\": {\"outlinewidth\": 0, \"ticks\": \"\"}}, \"type\": \"histogram\"}], \"histogram2d\": [{\"colorbar\": {\"outlinewidth\": 0, \"ticks\": \"\"}, \"colorscale\": [[0.0, \"#0d0887\"], [0.1111111111111111, \"#46039f\"], [0.2222222222222222, \"#7201a8\"], [0.3333333333333333, \"#9c179e\"], [0.4444444444444444, \"#bd3786\"], [0.5555555555555556, \"#d8576b\"], [0.6666666666666666, \"#ed7953\"], [0.7777777777777778, \"#fb9f3a\"], [0.8888888888888888, \"#fdca26\"], [1.0, \"#f0f921\"]], \"type\": \"histogram2d\"}], \"histogram2dcontour\": [{\"colorbar\": {\"outlinewidth\": 0, \"ticks\": \"\"}, \"colorscale\": [[0.0, \"#0d0887\"], [0.1111111111111111, \"#46039f\"], [0.2222222222222222, \"#7201a8\"], [0.3333333333333333, \"#9c179e\"], [0.4444444444444444, \"#bd3786\"], [0.5555555555555556, \"#d8576b\"], [0.6666666666666666, \"#ed7953\"], [0.7777777777777778, \"#fb9f3a\"], [0.8888888888888888, \"#fdca26\"], [1.0, \"#f0f921\"]], \"type\": \"histogram2dcontour\"}], \"mesh3d\": [{\"colorbar\": {\"outlinewidth\": 0, \"ticks\": \"\"}, \"type\": \"mesh3d\"}], \"parcoords\": [{\"line\": {\"colorbar\": {\"outlinewidth\": 0, \"ticks\": \"\"}}, \"type\": \"parcoords\"}], \"pie\": [{\"automargin\": true, \"type\": \"pie\"}], \"scatter\": [{\"marker\": {\"colorbar\": {\"outlinewidth\": 0, \"ticks\": \"\"}}, \"type\": \"scatter\"}], \"scatter3d\": [{\"line\": {\"colorbar\": {\"outlinewidth\": 0, \"ticks\": \"\"}}, \"marker\": {\"colorbar\": {\"outlinewidth\": 0, \"ticks\": \"\"}}, \"type\": \"scatter3d\"}], \"scattercarpet\": [{\"marker\": {\"colorbar\": {\"outlinewidth\": 0, \"ticks\": \"\"}}, \"type\": \"scattercarpet\"}], \"scattergeo\": [{\"marker\": {\"colorbar\": {\"outlinewidth\": 0, \"ticks\": \"\"}}, \"type\": \"scattergeo\"}], \"scattergl\": [{\"marker\": {\"colorbar\": {\"outlinewidth\": 0, \"ticks\": \"\"}}, \"type\": \"scattergl\"}], \"scattermapbox\": [{\"marker\": {\"colorbar\": {\"outlinewidth\": 0, \"ticks\": \"\"}}, \"type\": \"scattermapbox\"}], \"scatterpolar\": [{\"marker\": {\"colorbar\": {\"outlinewidth\": 0, \"ticks\": \"\"}}, \"type\": \"scatterpolar\"}], \"scatterpolargl\": [{\"marker\": {\"colorbar\": {\"outlinewidth\": 0, \"ticks\": \"\"}}, \"type\": \"scatterpolargl\"}], \"scatterternary\": [{\"marker\": {\"colorbar\": {\"outlinewidth\": 0, \"ticks\": \"\"}}, \"type\": \"scatterternary\"}], \"surface\": [{\"colorbar\": {\"outlinewidth\": 0, \"ticks\": \"\"}, \"colorscale\": [[0.0, \"#0d0887\"], [0.1111111111111111, \"#46039f\"], [0.2222222222222222, \"#7201a8\"], [0.3333333333333333, \"#9c179e\"], [0.4444444444444444, \"#bd3786\"], [0.5555555555555556, \"#d8576b\"], [0.6666666666666666, \"#ed7953\"], [0.7777777777777778, \"#fb9f3a\"], [0.8888888888888888, \"#fdca26\"], [1.0, \"#f0f921\"]], \"type\": \"surface\"}], \"table\": [{\"cells\": {\"fill\": {\"color\": \"#EBF0F8\"}, \"line\": {\"color\": \"white\"}}, \"header\": {\"fill\": {\"color\": \"#C8D4E3\"}, \"line\": {\"color\": \"white\"}}, \"type\": \"table\"}]}, \"layout\": {\"annotationdefaults\": {\"arrowcolor\": \"#2a3f5f\", \"arrowhead\": 0, \"arrowwidth\": 1}, \"coloraxis\": {\"colorbar\": {\"outlinewidth\": 0, \"ticks\": \"\"}}, \"colorscale\": {\"diverging\": [[0, \"#8e0152\"], [0.1, \"#c51b7d\"], [0.2, \"#de77ae\"], [0.3, \"#f1b6da\"], [0.4, \"#fde0ef\"], [0.5, \"#f7f7f7\"], [0.6, \"#e6f5d0\"], [0.7, \"#b8e186\"], [0.8, \"#7fbc41\"], [0.9, \"#4d9221\"], [1, \"#276419\"]], \"sequential\": [[0.0, \"#0d0887\"], [0.1111111111111111, \"#46039f\"], [0.2222222222222222, \"#7201a8\"], [0.3333333333333333, \"#9c179e\"], [0.4444444444444444, \"#bd3786\"], [0.5555555555555556, \"#d8576b\"], [0.6666666666666666, \"#ed7953\"], [0.7777777777777778, \"#fb9f3a\"], [0.8888888888888888, \"#fdca26\"], [1.0, \"#f0f921\"]], \"sequentialminus\": [[0.0, \"#0d0887\"], [0.1111111111111111, \"#46039f\"], [0.2222222222222222, \"#7201a8\"], [0.3333333333333333, \"#9c179e\"], [0.4444444444444444, \"#bd3786\"], [0.5555555555555556, \"#d8576b\"], [0.6666666666666666, \"#ed7953\"], [0.7777777777777778, \"#fb9f3a\"], [0.8888888888888888, \"#fdca26\"], [1.0, \"#f0f921\"]]}, \"colorway\": [\"#636efa\", \"#EF553B\", \"#00cc96\", \"#ab63fa\", \"#FFA15A\", \"#19d3f3\", \"#FF6692\", \"#B6E880\", \"#FF97FF\", \"#FECB52\"], \"font\": {\"color\": \"#2a3f5f\"}, \"geo\": {\"bgcolor\": \"white\", \"lakecolor\": \"white\", \"landcolor\": \"#E5ECF6\", \"showlakes\": true, \"showland\": true, \"subunitcolor\": \"white\"}, \"hoverlabel\": {\"align\": \"left\"}, \"hovermode\": \"closest\", \"mapbox\": {\"style\": \"light\"}, \"paper_bgcolor\": \"white\", \"plot_bgcolor\": \"#E5ECF6\", \"polar\": {\"angularaxis\": {\"gridcolor\": \"white\", \"linecolor\": \"white\", \"ticks\": \"\"}, \"bgcolor\": \"#E5ECF6\", \"radialaxis\": {\"gridcolor\": \"white\", \"linecolor\": \"white\", \"ticks\": \"\"}}, \"scene\": {\"xaxis\": {\"backgroundcolor\": \"#E5ECF6\", \"gridcolor\": \"white\", \"gridwidth\": 2, \"linecolor\": \"white\", \"showbackground\": true, \"ticks\": \"\", \"zerolinecolor\": \"white\"}, \"yaxis\": {\"backgroundcolor\": \"#E5ECF6\", \"gridcolor\": \"white\", \"gridwidth\": 2, \"linecolor\": \"white\", \"showbackground\": true, \"ticks\": \"\", \"zerolinecolor\": \"white\"}, \"zaxis\": {\"backgroundcolor\": \"#E5ECF6\", \"gridcolor\": \"white\", \"gridwidth\": 2, \"linecolor\": \"white\", \"showbackground\": true, \"ticks\": \"\", \"zerolinecolor\": \"white\"}}, \"shapedefaults\": {\"line\": {\"color\": \"#2a3f5f\"}}, \"ternary\": {\"aaxis\": {\"gridcolor\": \"white\", \"linecolor\": \"white\", \"ticks\": \"\"}, \"baxis\": {\"gridcolor\": \"white\", \"linecolor\": \"white\", \"ticks\": \"\"}, \"bgcolor\": \"#E5ECF6\", \"caxis\": {\"gridcolor\": \"white\", \"linecolor\": \"white\", \"ticks\": \"\"}}, \"title\": {\"x\": 0.05}, \"xaxis\": {\"automargin\": true, \"gridcolor\": \"white\", \"linecolor\": \"white\", \"ticks\": \"\", \"title\": {\"standoff\": 15}, \"zerolinecolor\": \"white\", \"zerolinewidth\": 2}, \"yaxis\": {\"automargin\": true, \"gridcolor\": \"white\", \"linecolor\": \"white\", \"ticks\": \"\", \"title\": {\"standoff\": 15}, \"zerolinecolor\": \"white\", \"zerolinewidth\": 2}}}, \"title\": {\"text\": \" Fat Content and Calories\"}, \"xaxis\": {\"anchor\": \"y\", \"domain\": [0.0, 1.0], \"title\": {\"text\": \"Food\"}}, \"yaxis\": {\"anchor\": \"x\", \"domain\": [0.0, 1.0], \"title\": {\"text\": \"Calories\"}}},\n",
       "                        {\"responsive\": true}\n",
       "                    ).then(function(){\n",
       "                            \n",
       "var gd = document.getElementById('68ce026c-5f6e-4c6a-b592-85c771da1872');\n",
       "var x = new MutationObserver(function (mutations, observer) {{\n",
       "        var display = window.getComputedStyle(gd).display;\n",
       "        if (!display || display === 'none') {{\n",
       "            console.log([gd, 'removed!']);\n",
       "            Plotly.purge(gd);\n",
       "            observer.disconnect();\n",
       "        }}\n",
       "}});\n",
       "\n",
       "// Listen for the removal of the full notebook cells\n",
       "var notebookContainer = gd.closest('#notebook-container');\n",
       "if (notebookContainer) {{\n",
       "    x.observe(notebookContainer, {childList: true});\n",
       "}}\n",
       "\n",
       "// Listen for the clearing of the current output cell\n",
       "var outputEl = gd.closest('.output');\n",
       "if (outputEl) {{\n",
       "    x.observe(outputEl, {childList: true});\n",
       "}}\n",
       "\n",
       "                        })\n",
       "                };\n",
       "                });\n",
       "            </script>\n",
       "        </div>"
      ]
     },
     "metadata": {},
     "output_type": "display_data"
    }
   ],
   "source": [
    "fats= nutrients.sort_values(by='Fat', ascending= False)\n",
    "top_20_fat=fats.head(20)\n",
    "fig = px.bar(top_20_fat, x='Food', y='Calories', color='Calories', title=' Fat Content and Calories')\n",
    "fig.show()"
   ]
  },
  {
   "cell_type": "markdown",
   "metadata": {
    "papermill": {
     "duration": 0.044429,
     "end_time": "2020-10-11T08:43:52.942642",
     "exception": false,
     "start_time": "2020-10-11T08:43:52.898213",
     "status": "completed"
    },
    "tags": []
   },
   "source": [
    "Therefore, Oysters and Butter have the largest combination of calories and fats, followed by lard."
   ]
  },
  {
   "cell_type": "markdown",
   "metadata": {
    "papermill": {
     "duration": 0.045041,
     "end_time": "2020-10-11T08:43:53.033331",
     "exception": false,
     "start_time": "2020-10-11T08:43:52.988290",
     "status": "completed"
    },
    "tags": []
   },
   "source": [
    "## Analysing categories"
   ]
  },
  {
   "cell_type": "markdown",
   "metadata": {
    "papermill": {
     "duration": 0.045062,
     "end_time": "2020-10-11T08:43:53.123484",
     "exception": false,
     "start_time": "2020-10-11T08:43:53.078422",
     "status": "completed"
    },
    "tags": []
   },
   "source": [
    "Grouping the data into categories can give us the total count of all metrics and thus we can analyse the categories."
   ]
  },
  {
   "cell_type": "code",
   "execution_count": 13,
   "metadata": {
    "execution": {
     "iopub.execute_input": "2020-10-11T08:43:53.242166Z",
     "iopub.status.busy": "2020-10-11T08:43:53.241397Z",
     "iopub.status.idle": "2020-10-11T08:43:53.246693Z",
     "shell.execute_reply": "2020-10-11T08:43:53.246115Z"
    },
    "papermill": {
     "duration": 0.078008,
     "end_time": "2020-10-11T08:43:53.246819",
     "exception": false,
     "start_time": "2020-10-11T08:43:53.168811",
     "status": "completed"
    },
    "tags": []
   },
   "outputs": [
    {
     "data": {
      "text/html": [
       "<div>\n",
       "<style scoped>\n",
       "    .dataframe tbody tr th:only-of-type {\n",
       "        vertical-align: middle;\n",
       "    }\n",
       "\n",
       "    .dataframe tbody tr th {\n",
       "        vertical-align: top;\n",
       "    }\n",
       "\n",
       "    .dataframe thead th {\n",
       "        text-align: right;\n",
       "    }\n",
       "</style>\n",
       "<table border=\"1\" class=\"dataframe\">\n",
       "  <thead>\n",
       "    <tr style=\"text-align: right;\">\n",
       "      <th></th>\n",
       "      <th>Grams</th>\n",
       "      <th>Calories</th>\n",
       "      <th>Protein</th>\n",
       "      <th>Fat</th>\n",
       "      <th>Sat.Fat</th>\n",
       "      <th>Fiber</th>\n",
       "      <th>Carbs</th>\n",
       "    </tr>\n",
       "    <tr>\n",
       "      <th>Category</th>\n",
       "      <th></th>\n",
       "      <th></th>\n",
       "      <th></th>\n",
       "      <th></th>\n",
       "      <th></th>\n",
       "      <th></th>\n",
       "      <th></th>\n",
       "    </tr>\n",
       "  </thead>\n",
       "  <tbody>\n",
       "    <tr>\n",
       "      <th>Breads cereals fastfoodgrains</th>\n",
       "      <td>5253</td>\n",
       "      <td>11921.0</td>\n",
       "      <td>403</td>\n",
       "      <td>207</td>\n",
       "      <td>99.0</td>\n",
       "      <td>115.91</td>\n",
       "      <td>2059.0</td>\n",
       "    </tr>\n",
       "    <tr>\n",
       "      <th>Dairy products</th>\n",
       "      <td>7412</td>\n",
       "      <td>8434.0</td>\n",
       "      <td>503</td>\n",
       "      <td>396</td>\n",
       "      <td>322.0</td>\n",
       "      <td>4.40</td>\n",
       "      <td>651.0</td>\n",
       "    </tr>\n",
       "    <tr>\n",
       "      <th>Desserts sweets</th>\n",
       "      <td>2958</td>\n",
       "      <td>6608.0</td>\n",
       "      <td>78</td>\n",
       "      <td>163</td>\n",
       "      <td>150.0</td>\n",
       "      <td>20.50</td>\n",
       "      <td>1184.0</td>\n",
       "    </tr>\n",
       "    <tr>\n",
       "      <th>DrinksAlcohol Beverages</th>\n",
       "      <td>3284</td>\n",
       "      <td>1112.0</td>\n",
       "      <td>0</td>\n",
       "      <td>0</td>\n",
       "      <td>0.0</td>\n",
       "      <td>0.00</td>\n",
       "      <td>167.0</td>\n",
       "    </tr>\n",
       "    <tr>\n",
       "      <th>Fats Oils Shortenings</th>\n",
       "      <td>695</td>\n",
       "      <td>3629.0</td>\n",
       "      <td>234</td>\n",
       "      <td>631</td>\n",
       "      <td>536.0</td>\n",
       "      <td>234.00</td>\n",
       "      <td>239.0</td>\n",
       "    </tr>\n",
       "    <tr>\n",
       "      <th>Fish Seafood</th>\n",
       "      <td>1807</td>\n",
       "      <td>2757.0</td>\n",
       "      <td>588</td>\n",
       "      <td>338</td>\n",
       "      <td>252.0</td>\n",
       "      <td>235.00</td>\n",
       "      <td>263.0</td>\n",
       "    </tr>\n",
       "    <tr>\n",
       "      <th>Fruits A-F</th>\n",
       "      <td>3844</td>\n",
       "      <td>3328.0</td>\n",
       "      <td>29</td>\n",
       "      <td>20</td>\n",
       "      <td>12.0</td>\n",
       "      <td>33.50</td>\n",
       "      <td>812.0</td>\n",
       "    </tr>\n",
       "    <tr>\n",
       "      <th>Fruits G-P</th>\n",
       "      <td>5412</td>\n",
       "      <td>4054.0</td>\n",
       "      <td>28</td>\n",
       "      <td>25</td>\n",
       "      <td>21.0</td>\n",
       "      <td>21.10</td>\n",
       "      <td>1009.0</td>\n",
       "    </tr>\n",
       "    <tr>\n",
       "      <th>Fruits R-Z</th>\n",
       "      <td>1973</td>\n",
       "      <td>1228.0</td>\n",
       "      <td>7</td>\n",
       "      <td>1</td>\n",
       "      <td>0.0</td>\n",
       "      <td>17.40</td>\n",
       "      <td>330.0</td>\n",
       "    </tr>\n",
       "    <tr>\n",
       "      <th>Jams Jellies</th>\n",
       "      <td>422</td>\n",
       "      <td>1345.0</td>\n",
       "      <td>0</td>\n",
       "      <td>0</td>\n",
       "      <td>0.0</td>\n",
       "      <td>8.00</td>\n",
       "      <td>345.0</td>\n",
       "    </tr>\n",
       "    <tr>\n",
       "      <th>Meat Poultry</th>\n",
       "      <td>2724</td>\n",
       "      <td>7529.0</td>\n",
       "      <td>546</td>\n",
       "      <td>520</td>\n",
       "      <td>427.0</td>\n",
       "      <td>0.00</td>\n",
       "      <td>57.3</td>\n",
       "    </tr>\n",
       "    <tr>\n",
       "      <th>Seeds and Nuts</th>\n",
       "      <td>682</td>\n",
       "      <td>4089.0</td>\n",
       "      <td>120</td>\n",
       "      <td>368</td>\n",
       "      <td>232.0</td>\n",
       "      <td>18.60</td>\n",
       "      <td>140.0</td>\n",
       "    </tr>\n",
       "    <tr>\n",
       "      <th>Soups</th>\n",
       "      <td>2495</td>\n",
       "      <td>1191.0</td>\n",
       "      <td>59</td>\n",
       "      <td>41</td>\n",
       "      <td>43.0</td>\n",
       "      <td>4.00</td>\n",
       "      <td>155.0</td>\n",
       "    </tr>\n",
       "    <tr>\n",
       "      <th>Vegetables A-E</th>\n",
       "      <td>3520</td>\n",
       "      <td>1804.0</td>\n",
       "      <td>101</td>\n",
       "      <td>9</td>\n",
       "      <td>6.0</td>\n",
       "      <td>36.30</td>\n",
       "      <td>356.0</td>\n",
       "    </tr>\n",
       "    <tr>\n",
       "      <th>Vegetables F-P</th>\n",
       "      <td>1725</td>\n",
       "      <td>711.0</td>\n",
       "      <td>40</td>\n",
       "      <td>2</td>\n",
       "      <td>0.0</td>\n",
       "      <td>16.90</td>\n",
       "      <td>142.0</td>\n",
       "    </tr>\n",
       "    <tr>\n",
       "      <th>Vegetables R-Z</th>\n",
       "      <td>3360</td>\n",
       "      <td>2694.0</td>\n",
       "      <td>98</td>\n",
       "      <td>76</td>\n",
       "      <td>44.0</td>\n",
       "      <td>26.20</td>\n",
       "      <td>447.0</td>\n",
       "    </tr>\n",
       "  </tbody>\n",
       "</table>\n",
       "</div>"
      ],
      "text/plain": [
       "                               Grams  Calories  Protein  Fat  Sat.Fat   Fiber  \\\n",
       "Category                                                                        \n",
       "Breads cereals fastfoodgrains   5253   11921.0      403  207     99.0  115.91   \n",
       "Dairy products                  7412    8434.0      503  396    322.0    4.40   \n",
       "Desserts sweets                 2958    6608.0       78  163    150.0   20.50   \n",
       "DrinksAlcohol Beverages         3284    1112.0        0    0      0.0    0.00   \n",
       "Fats Oils Shortenings            695    3629.0      234  631    536.0  234.00   \n",
       "Fish Seafood                    1807    2757.0      588  338    252.0  235.00   \n",
       "Fruits A-F                      3844    3328.0       29   20     12.0   33.50   \n",
       "Fruits G-P                      5412    4054.0       28   25     21.0   21.10   \n",
       "Fruits R-Z                      1973    1228.0        7    1      0.0   17.40   \n",
       "Jams Jellies                     422    1345.0        0    0      0.0    8.00   \n",
       "Meat Poultry                    2724    7529.0      546  520    427.0    0.00   \n",
       "Seeds and Nuts                   682    4089.0      120  368    232.0   18.60   \n",
       "Soups                           2495    1191.0       59   41     43.0    4.00   \n",
       "Vegetables A-E                  3520    1804.0      101    9      6.0   36.30   \n",
       "Vegetables F-P                  1725     711.0       40    2      0.0   16.90   \n",
       "Vegetables R-Z                  3360    2694.0       98   76     44.0   26.20   \n",
       "\n",
       "                                Carbs  \n",
       "Category                               \n",
       "Breads cereals fastfoodgrains  2059.0  \n",
       "Dairy products                  651.0  \n",
       "Desserts sweets                1184.0  \n",
       "DrinksAlcohol Beverages         167.0  \n",
       "Fats Oils Shortenings           239.0  \n",
       "Fish Seafood                    263.0  \n",
       "Fruits A-F                      812.0  \n",
       "Fruits G-P                     1009.0  \n",
       "Fruits R-Z                      330.0  \n",
       "Jams Jellies                    345.0  \n",
       "Meat Poultry                     57.3  \n",
       "Seeds and Nuts                  140.0  \n",
       "Soups                           155.0  \n",
       "Vegetables A-E                  356.0  \n",
       "Vegetables F-P                  142.0  \n",
       "Vegetables R-Z                  447.0  "
      ]
     },
     "execution_count": 13,
     "metadata": {},
     "output_type": "execute_result"
    }
   ],
   "source": [
    "category_dist=nutrients.groupby(['Category']).sum()\n",
    "category_dist"
   ]
  },
  {
   "cell_type": "code",
   "execution_count": 14,
   "metadata": {
    "execution": {
     "iopub.execute_input": "2020-10-11T08:43:53.364923Z",
     "iopub.status.busy": "2020-10-11T08:43:53.364166Z",
     "iopub.status.idle": "2020-10-11T08:43:53.424284Z",
     "shell.execute_reply": "2020-10-11T08:43:53.424861Z"
    },
    "papermill": {
     "duration": 0.132212,
     "end_time": "2020-10-11T08:43:53.425030",
     "exception": false,
     "start_time": "2020-10-11T08:43:53.292818",
     "status": "completed"
    },
    "tags": []
   },
   "outputs": [
    {
     "data": {
      "text/html": [
       "<div>\n",
       "        \n",
       "        \n",
       "            <div id=\"70487e76-d944-4e9d-8024-9d7f60297857\" class=\"plotly-graph-div\" style=\"height:700px; width:1000px;\"></div>\n",
       "            <script type=\"text/javascript\">\n",
       "                require([\"plotly\"], function(Plotly) {\n",
       "                    window.PLOTLYENV=window.PLOTLYENV || {};\n",
       "                    \n",
       "                if (document.getElementById(\"70487e76-d944-4e9d-8024-9d7f60297857\")) {\n",
       "                    Plotly.newPlot(\n",
       "                        '70487e76-d944-4e9d-8024-9d7f60297857',\n",
       "                        [{\"domain\": {\"x\": [0.0, 0.2888888888888889], \"y\": [0.575, 1.0]}, \"labels\": [\"Breads cereals fastfoodgrains\", \"Dairy products\", \"Desserts sweets\", \"DrinksAlcohol Beverages\", \"Fats Oils Shortenings\", \"Fish Seafood\", \"Fruits A-F\", \"Fruits G-P\", \"Fruits R-Z\", \"Jams Jellies\", \"Meat Poultry\", \"Seeds and Nuts\", \"Soups\", \"Vegetables A-E\", \"Vegetables F-P\", \"Vegetables R-Z\"], \"marker\": {\"colors\": [\"#100b\", \"#f00560\"], \"line\": {\"color\": \"#FFFFFF\", \"width\": 2.5}}, \"title\": {\"text\": \"CALORIES\"}, \"type\": \"pie\", \"values\": [11921.0, 8434.0, 6608.0, 1112.0, 3629.0, 2757.0, 3328.0, 4054.0, 1228.0, 1345.0, 7529.0, 4089.0, 1191.0, 1804.0, 711.0, 2694.0]}, {\"domain\": {\"x\": [0.35555555555555557, 0.6444444444444445], \"y\": [0.575, 1.0]}, \"labels\": [\"Breads cereals fastfoodgrains\", \"Dairy products\", \"Desserts sweets\", \"DrinksAlcohol Beverages\", \"Fats Oils Shortenings\", \"Fish Seafood\", \"Fruits A-F\", \"Fruits G-P\", \"Fruits R-Z\", \"Jams Jellies\", \"Meat Poultry\", \"Seeds and Nuts\", \"Soups\", \"Vegetables A-E\", \"Vegetables F-P\", \"Vegetables R-Z\"], \"marker\": {\"colors\": [\"#100b\", \"#f00560\"], \"line\": {\"color\": \"#FFFFFF\", \"width\": 2.5}}, \"title\": {\"text\": \"FAT\"}, \"type\": \"pie\", \"values\": [207, 396, 163, 0, 631, 338, 20, 25, 1, 0, 520, 368, 41, 9, 2, 76]}, {\"domain\": {\"x\": [0.7111111111111111, 1.0], \"y\": [0.575, 1.0]}, \"labels\": [\"Breads cereals fastfoodgrains\", \"Dairy products\", \"Desserts sweets\", \"DrinksAlcohol Beverages\", \"Fats Oils Shortenings\", \"Fish Seafood\", \"Fruits A-F\", \"Fruits G-P\", \"Fruits R-Z\", \"Jams Jellies\", \"Meat Poultry\", \"Seeds and Nuts\", \"Soups\", \"Vegetables A-E\", \"Vegetables F-P\", \"Vegetables R-Z\"], \"marker\": {\"colors\": [\"#100b\", \"#f00560\"], \"line\": {\"color\": \"#FFFFFF\", \"width\": 2.5}}, \"title\": {\"text\": \"PROTEIN\"}, \"type\": \"pie\", \"values\": [403, 503, 78, 0, 234, 588, 29, 28, 7, 0, 546, 120, 59, 101, 40, 98]}, {\"domain\": {\"x\": [0.0, 0.2888888888888889], \"y\": [0.0, 0.425]}, \"labels\": [\"Breads cereals fastfoodgrains\", \"Dairy products\", \"Desserts sweets\", \"DrinksAlcohol Beverages\", \"Fats Oils Shortenings\", \"Fish Seafood\", \"Fruits A-F\", \"Fruits G-P\", \"Fruits R-Z\", \"Jams Jellies\", \"Meat Poultry\", \"Seeds and Nuts\", \"Soups\", \"Vegetables A-E\", \"Vegetables F-P\", \"Vegetables R-Z\"], \"marker\": {\"colors\": [\"#100b\", \"#f00560\"], \"line\": {\"color\": \"#FFFFFF\", \"width\": 2.5}}, \"title\": {\"text\": \"FIBER\"}, \"type\": \"pie\", \"values\": [115.90999999999995, 4.4, 20.5, 0.0, 234.0, 235.0, 33.5, 21.099999999999998, 17.400000000000002, 8.0, 0.0, 18.599999999999998, 4.0, 36.300000000000004, 16.9, 26.200000000000006]}, {\"domain\": {\"x\": [0.35555555555555557, 0.6444444444444445], \"y\": [0.0, 0.425]}, \"labels\": [\"Breads cereals fastfoodgrains\", \"Dairy products\", \"Desserts sweets\", \"DrinksAlcohol Beverages\", \"Fats Oils Shortenings\", \"Fish Seafood\", \"Fruits A-F\", \"Fruits G-P\", \"Fruits R-Z\", \"Jams Jellies\", \"Meat Poultry\", \"Seeds and Nuts\", \"Soups\", \"Vegetables A-E\", \"Vegetables F-P\", \"Vegetables R-Z\"], \"marker\": {\"colors\": [\"#100b\", \"#f00560\"], \"line\": {\"color\": \"#FFFFFF\", \"width\": 2.5}}, \"title\": {\"text\": \"SAT.FAT\"}, \"type\": \"pie\", \"values\": [99.0, 322.0, 150.0, 0.0, 536.0, 252.0, 12.0, 21.0, 0.0, 0.0, 427.0, 232.0, 43.0, 6.0, 0.0, 44.0]}, {\"domain\": {\"x\": [0.7111111111111111, 1.0], \"y\": [0.0, 0.425]}, \"labels\": [\"Breads cereals fastfoodgrains\", \"Dairy products\", \"Desserts sweets\", \"DrinksAlcohol Beverages\", \"Fats Oils Shortenings\", \"Fish Seafood\", \"Fruits A-F\", \"Fruits G-P\", \"Fruits R-Z\", \"Jams Jellies\", \"Meat Poultry\", \"Seeds and Nuts\", \"Soups\", \"Vegetables A-E\", \"Vegetables F-P\", \"Vegetables R-Z\"], \"marker\": {\"colors\": [\"#100b\", \"#f00560\"], \"line\": {\"color\": \"#FFFFFF\", \"width\": 2.5}}, \"title\": {\"text\": \"CARBS\"}, \"type\": \"pie\", \"values\": [2059.0, 651.0, 1184.0, 167.0, 239.0, 263.0, 812.0, 1009.0, 330.0, 345.0, 57.3, 140.0, 155.0, 356.0, 142.0, 447.0]}],\n",
       "                        {\"height\": 700, \"template\": {\"data\": {\"bar\": [{\"error_x\": {\"color\": \"#2a3f5f\"}, \"error_y\": {\"color\": \"#2a3f5f\"}, \"marker\": {\"line\": {\"color\": \"#E5ECF6\", \"width\": 0.5}}, \"type\": \"bar\"}], \"barpolar\": [{\"marker\": {\"line\": {\"color\": \"#E5ECF6\", \"width\": 0.5}}, \"type\": \"barpolar\"}], \"carpet\": [{\"aaxis\": {\"endlinecolor\": \"#2a3f5f\", \"gridcolor\": \"white\", \"linecolor\": \"white\", \"minorgridcolor\": \"white\", \"startlinecolor\": \"#2a3f5f\"}, \"baxis\": {\"endlinecolor\": \"#2a3f5f\", \"gridcolor\": \"white\", \"linecolor\": \"white\", \"minorgridcolor\": \"white\", \"startlinecolor\": \"#2a3f5f\"}, \"type\": \"carpet\"}], \"choropleth\": [{\"colorbar\": {\"outlinewidth\": 0, \"ticks\": \"\"}, \"type\": \"choropleth\"}], \"contour\": [{\"colorbar\": {\"outlinewidth\": 0, \"ticks\": \"\"}, \"colorscale\": [[0.0, \"#0d0887\"], [0.1111111111111111, \"#46039f\"], [0.2222222222222222, \"#7201a8\"], [0.3333333333333333, \"#9c179e\"], [0.4444444444444444, \"#bd3786\"], [0.5555555555555556, \"#d8576b\"], [0.6666666666666666, \"#ed7953\"], [0.7777777777777778, \"#fb9f3a\"], [0.8888888888888888, \"#fdca26\"], [1.0, \"#f0f921\"]], \"type\": \"contour\"}], \"contourcarpet\": [{\"colorbar\": {\"outlinewidth\": 0, \"ticks\": \"\"}, \"type\": \"contourcarpet\"}], \"heatmap\": [{\"colorbar\": {\"outlinewidth\": 0, \"ticks\": \"\"}, \"colorscale\": [[0.0, \"#0d0887\"], [0.1111111111111111, \"#46039f\"], [0.2222222222222222, \"#7201a8\"], [0.3333333333333333, \"#9c179e\"], [0.4444444444444444, \"#bd3786\"], [0.5555555555555556, \"#d8576b\"], [0.6666666666666666, \"#ed7953\"], [0.7777777777777778, \"#fb9f3a\"], [0.8888888888888888, \"#fdca26\"], [1.0, \"#f0f921\"]], \"type\": \"heatmap\"}], \"heatmapgl\": [{\"colorbar\": {\"outlinewidth\": 0, \"ticks\": \"\"}, \"colorscale\": [[0.0, \"#0d0887\"], [0.1111111111111111, \"#46039f\"], [0.2222222222222222, \"#7201a8\"], [0.3333333333333333, \"#9c179e\"], [0.4444444444444444, \"#bd3786\"], [0.5555555555555556, \"#d8576b\"], [0.6666666666666666, \"#ed7953\"], [0.7777777777777778, \"#fb9f3a\"], [0.8888888888888888, \"#fdca26\"], [1.0, \"#f0f921\"]], \"type\": \"heatmapgl\"}], \"histogram\": [{\"marker\": {\"colorbar\": {\"outlinewidth\": 0, \"ticks\": \"\"}}, \"type\": \"histogram\"}], \"histogram2d\": [{\"colorbar\": {\"outlinewidth\": 0, \"ticks\": \"\"}, \"colorscale\": [[0.0, \"#0d0887\"], [0.1111111111111111, \"#46039f\"], [0.2222222222222222, \"#7201a8\"], [0.3333333333333333, \"#9c179e\"], [0.4444444444444444, \"#bd3786\"], [0.5555555555555556, \"#d8576b\"], [0.6666666666666666, \"#ed7953\"], [0.7777777777777778, \"#fb9f3a\"], [0.8888888888888888, \"#fdca26\"], [1.0, \"#f0f921\"]], \"type\": \"histogram2d\"}], \"histogram2dcontour\": [{\"colorbar\": {\"outlinewidth\": 0, \"ticks\": \"\"}, \"colorscale\": [[0.0, \"#0d0887\"], [0.1111111111111111, \"#46039f\"], [0.2222222222222222, \"#7201a8\"], [0.3333333333333333, \"#9c179e\"], [0.4444444444444444, \"#bd3786\"], [0.5555555555555556, \"#d8576b\"], [0.6666666666666666, \"#ed7953\"], [0.7777777777777778, \"#fb9f3a\"], [0.8888888888888888, \"#fdca26\"], [1.0, \"#f0f921\"]], \"type\": \"histogram2dcontour\"}], \"mesh3d\": [{\"colorbar\": {\"outlinewidth\": 0, \"ticks\": \"\"}, \"type\": \"mesh3d\"}], \"parcoords\": [{\"line\": {\"colorbar\": {\"outlinewidth\": 0, \"ticks\": \"\"}}, \"type\": \"parcoords\"}], \"pie\": [{\"automargin\": true, \"type\": \"pie\"}], \"scatter\": [{\"marker\": {\"colorbar\": {\"outlinewidth\": 0, \"ticks\": \"\"}}, \"type\": \"scatter\"}], \"scatter3d\": [{\"line\": {\"colorbar\": {\"outlinewidth\": 0, \"ticks\": \"\"}}, \"marker\": {\"colorbar\": {\"outlinewidth\": 0, \"ticks\": \"\"}}, \"type\": \"scatter3d\"}], \"scattercarpet\": [{\"marker\": {\"colorbar\": {\"outlinewidth\": 0, \"ticks\": \"\"}}, \"type\": \"scattercarpet\"}], \"scattergeo\": [{\"marker\": {\"colorbar\": {\"outlinewidth\": 0, \"ticks\": \"\"}}, \"type\": \"scattergeo\"}], \"scattergl\": [{\"marker\": {\"colorbar\": {\"outlinewidth\": 0, \"ticks\": \"\"}}, \"type\": \"scattergl\"}], \"scattermapbox\": [{\"marker\": {\"colorbar\": {\"outlinewidth\": 0, \"ticks\": \"\"}}, \"type\": \"scattermapbox\"}], \"scatterpolar\": [{\"marker\": {\"colorbar\": {\"outlinewidth\": 0, \"ticks\": \"\"}}, \"type\": \"scatterpolar\"}], \"scatterpolargl\": [{\"marker\": {\"colorbar\": {\"outlinewidth\": 0, \"ticks\": \"\"}}, \"type\": \"scatterpolargl\"}], \"scatterternary\": [{\"marker\": {\"colorbar\": {\"outlinewidth\": 0, \"ticks\": \"\"}}, \"type\": \"scatterternary\"}], \"surface\": [{\"colorbar\": {\"outlinewidth\": 0, \"ticks\": \"\"}, \"colorscale\": [[0.0, \"#0d0887\"], [0.1111111111111111, \"#46039f\"], [0.2222222222222222, \"#7201a8\"], [0.3333333333333333, \"#9c179e\"], [0.4444444444444444, \"#bd3786\"], [0.5555555555555556, \"#d8576b\"], [0.6666666666666666, \"#ed7953\"], [0.7777777777777778, \"#fb9f3a\"], [0.8888888888888888, \"#fdca26\"], [1.0, \"#f0f921\"]], \"type\": \"surface\"}], \"table\": [{\"cells\": {\"fill\": {\"color\": \"#EBF0F8\"}, \"line\": {\"color\": \"white\"}}, \"header\": {\"fill\": {\"color\": \"#C8D4E3\"}, \"line\": {\"color\": \"white\"}}, \"type\": \"table\"}]}, \"layout\": {\"annotationdefaults\": {\"arrowcolor\": \"#2a3f5f\", \"arrowhead\": 0, \"arrowwidth\": 1}, \"coloraxis\": {\"colorbar\": {\"outlinewidth\": 0, \"ticks\": \"\"}}, \"colorscale\": {\"diverging\": [[0, \"#8e0152\"], [0.1, \"#c51b7d\"], [0.2, \"#de77ae\"], [0.3, \"#f1b6da\"], [0.4, \"#fde0ef\"], [0.5, \"#f7f7f7\"], [0.6, \"#e6f5d0\"], [0.7, \"#b8e186\"], [0.8, \"#7fbc41\"], [0.9, \"#4d9221\"], [1, \"#276419\"]], \"sequential\": [[0.0, \"#0d0887\"], [0.1111111111111111, \"#46039f\"], [0.2222222222222222, \"#7201a8\"], [0.3333333333333333, \"#9c179e\"], [0.4444444444444444, \"#bd3786\"], [0.5555555555555556, \"#d8576b\"], [0.6666666666666666, \"#ed7953\"], [0.7777777777777778, \"#fb9f3a\"], [0.8888888888888888, \"#fdca26\"], [1.0, \"#f0f921\"]], \"sequentialminus\": [[0.0, \"#0d0887\"], [0.1111111111111111, \"#46039f\"], [0.2222222222222222, \"#7201a8\"], [0.3333333333333333, \"#9c179e\"], [0.4444444444444444, \"#bd3786\"], [0.5555555555555556, \"#d8576b\"], [0.6666666666666666, \"#ed7953\"], [0.7777777777777778, \"#fb9f3a\"], [0.8888888888888888, \"#fdca26\"], [1.0, \"#f0f921\"]]}, \"colorway\": [\"#636efa\", \"#EF553B\", \"#00cc96\", \"#ab63fa\", \"#FFA15A\", \"#19d3f3\", \"#FF6692\", \"#B6E880\", \"#FF97FF\", \"#FECB52\"], \"font\": {\"color\": \"#2a3f5f\"}, \"geo\": {\"bgcolor\": \"white\", \"lakecolor\": \"white\", \"landcolor\": \"#E5ECF6\", \"showlakes\": true, \"showland\": true, \"subunitcolor\": \"white\"}, \"hoverlabel\": {\"align\": \"left\"}, \"hovermode\": \"closest\", \"mapbox\": {\"style\": \"light\"}, \"paper_bgcolor\": \"white\", \"plot_bgcolor\": \"#E5ECF6\", \"polar\": {\"angularaxis\": {\"gridcolor\": \"white\", \"linecolor\": \"white\", \"ticks\": \"\"}, \"bgcolor\": \"#E5ECF6\", \"radialaxis\": {\"gridcolor\": \"white\", \"linecolor\": \"white\", \"ticks\": \"\"}}, \"scene\": {\"xaxis\": {\"backgroundcolor\": \"#E5ECF6\", \"gridcolor\": \"white\", \"gridwidth\": 2, \"linecolor\": \"white\", \"showbackground\": true, \"ticks\": \"\", \"zerolinecolor\": \"white\"}, \"yaxis\": {\"backgroundcolor\": \"#E5ECF6\", \"gridcolor\": \"white\", \"gridwidth\": 2, \"linecolor\": \"white\", \"showbackground\": true, \"ticks\": \"\", \"zerolinecolor\": \"white\"}, \"zaxis\": {\"backgroundcolor\": \"#E5ECF6\", \"gridcolor\": \"white\", \"gridwidth\": 2, \"linecolor\": \"white\", \"showbackground\": true, \"ticks\": \"\", \"zerolinecolor\": \"white\"}}, \"shapedefaults\": {\"line\": {\"color\": \"#2a3f5f\"}}, \"ternary\": {\"aaxis\": {\"gridcolor\": \"white\", \"linecolor\": \"white\", \"ticks\": \"\"}, \"baxis\": {\"gridcolor\": \"white\", \"linecolor\": \"white\", \"ticks\": \"\"}, \"bgcolor\": \"#E5ECF6\", \"caxis\": {\"gridcolor\": \"white\", \"linecolor\": \"white\", \"ticks\": \"\"}}, \"title\": {\"x\": 0.05}, \"xaxis\": {\"automargin\": true, \"gridcolor\": \"white\", \"linecolor\": \"white\", \"ticks\": \"\", \"title\": {\"standoff\": 15}, \"zerolinecolor\": \"white\", \"zerolinewidth\": 2}, \"yaxis\": {\"automargin\": true, \"gridcolor\": \"white\", \"linecolor\": \"white\", \"ticks\": \"\", \"title\": {\"standoff\": 15}, \"zerolinecolor\": \"white\", \"zerolinewidth\": 2}}}, \"title\": {\"text\": \"Category wise distribution of all metrics\"}, \"width\": 1000},\n",
       "                        {\"responsive\": true}\n",
       "                    ).then(function(){\n",
       "                            \n",
       "var gd = document.getElementById('70487e76-d944-4e9d-8024-9d7f60297857');\n",
       "var x = new MutationObserver(function (mutations, observer) {{\n",
       "        var display = window.getComputedStyle(gd).display;\n",
       "        if (!display || display === 'none') {{\n",
       "            console.log([gd, 'removed!']);\n",
       "            Plotly.purge(gd);\n",
       "            observer.disconnect();\n",
       "        }}\n",
       "}});\n",
       "\n",
       "// Listen for the removal of the full notebook cells\n",
       "var notebookContainer = gd.closest('#notebook-container');\n",
       "if (notebookContainer) {{\n",
       "    x.observe(notebookContainer, {childList: true});\n",
       "}}\n",
       "\n",
       "// Listen for the clearing of the current output cell\n",
       "var outputEl = gd.closest('.output');\n",
       "if (outputEl) {{\n",
       "    x.observe(outputEl, {childList: true});\n",
       "}}\n",
       "\n",
       "                        })\n",
       "                };\n",
       "                });\n",
       "            </script>\n",
       "        </div>"
      ]
     },
     "metadata": {},
     "output_type": "display_data"
    }
   ],
   "source": [
    "category_dist=nutrients.groupby(['Category']).sum()\n",
    "from plotly.subplots import make_subplots\n",
    "import plotly.graph_objects as go\n",
    "\n",
    "fig = make_subplots(\n",
    "    rows=2, cols=3,\n",
    "    specs=[[{\"type\": \"domain\"},{\"type\": \"domain\"},{\"type\": \"domain\"}],[{\"type\": \"domain\"},{\"type\": \"domain\"},{\"type\": \"domain\"}]])\n",
    "\n",
    "fig.add_trace(go.Pie(values=category_dist['Calories'].values, title='CALORIES', labels=category_dist.index,marker=dict(colors=['#100b','#f00560'], line=dict(color='#FFFFFF', width=2.5))),\n",
    "              row=1, col=1)\n",
    "\n",
    "fig.add_trace(go.Pie(values=category_dist['Fat'].values,title='FAT', labels=category_dist.index,marker=dict(colors=['#100b','#f00560'], line=dict(color='#FFFFFF', width=2.5))),\n",
    "              row=1, col=2)\n",
    "\n",
    "fig.add_trace(go.Pie(values=category_dist['Protein'].values,title='PROTEIN', labels=category_dist.index,marker=dict(colors=['#100b','#f00560'], line=dict(color='#FFFFFF', width=2.5))),\n",
    "              row=1, col=3)\n",
    "\n",
    "fig.add_trace(go.Pie(values=category_dist['Fiber'].values,title='FIBER', labels=category_dist.index,marker=dict(colors=['#100b','#f00560'], line=dict(color='#FFFFFF', width=2.5))),\n",
    "              row=2, col=1)\n",
    "\n",
    "fig.add_trace(go.Pie(values=category_dist['Sat.Fat'].values,title='SAT.FAT', labels=category_dist.index,marker=dict(colors=['#100b','#f00560'], line=dict(color='#FFFFFF', width=2.5))),\n",
    "              row=2, col=2)\n",
    "\n",
    "fig.add_trace(go.Pie(values=category_dist['Carbs'].values,title='CARBS', labels=category_dist.index,marker=dict(colors=['#100b','#f00560'], line=dict(color='#FFFFFF', width=2.5))),\n",
    "              row=2, col=3)\n",
    "fig.update_layout(title_text=\"Category wise distribution of all metrics\",height=700, width=1000)\n",
    "\n",
    "fig.show()"
   ]
  },
  {
   "cell_type": "markdown",
   "metadata": {
    "papermill": {
     "duration": 0.047331,
     "end_time": "2020-10-11T08:43:53.519874",
     "exception": false,
     "start_time": "2020-10-11T08:43:53.472543",
     "status": "completed"
    },
    "tags": []
   },
   "source": [
    "### Some inferences from the above pie charts:\n",
    "\n",
    "* It is clear that breads, grains and cereals have the highest amount of Carbs and Calories.\n",
    "\n",
    "* Largest percentage of protein is in seafood (God bless the vegetarians!)\n",
    "\n",
    "* Surprisingly, same amount of fiber content is present in Fats and Seafood.\n",
    "\n",
    "* Seeds and nuts have about 14% fat content.\n",
    "\n",
    "* Fruits do not have a large percentage in any of the categories except carbs, they have about 10% carbohydrates.\n",
    "\n",
    "* Dairy products (15%) have more saturated fat content than seafood (11.8%)."
   ]
  },
  {
   "cell_type": "markdown",
   "metadata": {
    "papermill": {
     "duration": 0.04675,
     "end_time": "2020-10-11T08:43:53.613653",
     "exception": false,
     "start_time": "2020-10-11T08:43:53.566903",
     "status": "completed"
    },
    "tags": []
   },
   "source": [
    "## Analyzing the Drinks, Alcohol, Beverages and Desserts"
   ]
  },
  {
   "cell_type": "markdown",
   "metadata": {
    "papermill": {
     "duration": 0.047252,
     "end_time": "2020-10-11T08:43:53.708018",
     "exception": false,
     "start_time": "2020-10-11T08:43:53.660766",
     "status": "completed"
    },
    "tags": []
   },
   "source": [
    "Since it is clear that meat/ seafood have an abundance of protein, let us find the protein rich foods."
   ]
  },
  {
   "cell_type": "code",
   "execution_count": 15,
   "metadata": {
    "execution": {
     "iopub.execute_input": "2020-10-11T08:43:53.816272Z",
     "iopub.status.busy": "2020-10-11T08:43:53.812409Z",
     "iopub.status.idle": "2020-10-11T08:43:53.857874Z",
     "shell.execute_reply": "2020-10-11T08:43:53.858409Z"
    },
    "papermill": {
     "duration": 0.102449,
     "end_time": "2020-10-11T08:43:53.858564",
     "exception": false,
     "start_time": "2020-10-11T08:43:53.756115",
     "status": "completed"
    },
    "tags": []
   },
   "outputs": [
    {
     "data": {
      "text/html": [
       "<div>\n",
       "        \n",
       "        \n",
       "            <div id=\"f303587d-f884-4347-abe8-3f4e0d0f0e3f\" class=\"plotly-graph-div\" style=\"height:525px; width:100%;\"></div>\n",
       "            <script type=\"text/javascript\">\n",
       "                require([\"plotly\"], function(Plotly) {\n",
       "                    window.PLOTLYENV=window.PLOTLYENV || {};\n",
       "                    \n",
       "                if (document.getElementById(\"f303587d-f884-4347-abe8-3f4e0d0f0e3f\")) {\n",
       "                    Plotly.newPlot(\n",
       "                        'f303587d-f884-4347-abe8-3f4e0d0f0e3f',\n",
       "                        [{\"marker\": {\"colors\": [\"deepskyblue\", \"lightsalmon\", \"tan\", \"teal\", \"silver\", \"deepskyblue\", \"lightsalmon\", \"tan\", \"teal\", \"silver\"], \"line\": {\"color\": [\"wheat\", \"wheat\", \"blue\", \"wheat\", \"wheat\", \"wheat\", \"wheat\", \"blue\", \"wheat\", \"wheat\"]}}, \"text\": [\"Puddings Sugar\", \"Chocolate fudge\", \"Bread pudding\", \"Fudge\", \"Mince\", \"Cherry Pie\", \"Tapioca cream pudding\", \"9\\\" diam. pie\", \"Lemon meringue\", \"Milk chocolate\"], \"title\": {\"text\": \"Desserts with high calorie percentages\"}, \"type\": \"funnelarea\", \"values\": [770.0, 420.0, 374.0, 370.0, 340.0, 340.0, 335.0, 330.0, 300.0, 290.0]}],\n",
       "                        {\"template\": {\"data\": {\"bar\": [{\"error_x\": {\"color\": \"#2a3f5f\"}, \"error_y\": {\"color\": \"#2a3f5f\"}, \"marker\": {\"line\": {\"color\": \"#E5ECF6\", \"width\": 0.5}}, \"type\": \"bar\"}], \"barpolar\": [{\"marker\": {\"line\": {\"color\": \"#E5ECF6\", \"width\": 0.5}}, \"type\": \"barpolar\"}], \"carpet\": [{\"aaxis\": {\"endlinecolor\": \"#2a3f5f\", \"gridcolor\": \"white\", \"linecolor\": \"white\", \"minorgridcolor\": \"white\", \"startlinecolor\": \"#2a3f5f\"}, \"baxis\": {\"endlinecolor\": \"#2a3f5f\", \"gridcolor\": \"white\", \"linecolor\": \"white\", \"minorgridcolor\": \"white\", \"startlinecolor\": \"#2a3f5f\"}, \"type\": \"carpet\"}], \"choropleth\": [{\"colorbar\": {\"outlinewidth\": 0, \"ticks\": \"\"}, \"type\": \"choropleth\"}], \"contour\": [{\"colorbar\": {\"outlinewidth\": 0, \"ticks\": \"\"}, \"colorscale\": [[0.0, \"#0d0887\"], [0.1111111111111111, \"#46039f\"], [0.2222222222222222, \"#7201a8\"], [0.3333333333333333, \"#9c179e\"], [0.4444444444444444, \"#bd3786\"], [0.5555555555555556, \"#d8576b\"], [0.6666666666666666, \"#ed7953\"], [0.7777777777777778, \"#fb9f3a\"], [0.8888888888888888, \"#fdca26\"], [1.0, \"#f0f921\"]], \"type\": \"contour\"}], \"contourcarpet\": [{\"colorbar\": {\"outlinewidth\": 0, \"ticks\": \"\"}, \"type\": \"contourcarpet\"}], \"heatmap\": [{\"colorbar\": {\"outlinewidth\": 0, \"ticks\": \"\"}, \"colorscale\": [[0.0, \"#0d0887\"], [0.1111111111111111, \"#46039f\"], [0.2222222222222222, \"#7201a8\"], [0.3333333333333333, \"#9c179e\"], [0.4444444444444444, \"#bd3786\"], [0.5555555555555556, \"#d8576b\"], [0.6666666666666666, \"#ed7953\"], [0.7777777777777778, \"#fb9f3a\"], [0.8888888888888888, \"#fdca26\"], [1.0, \"#f0f921\"]], \"type\": \"heatmap\"}], \"heatmapgl\": [{\"colorbar\": {\"outlinewidth\": 0, \"ticks\": \"\"}, \"colorscale\": [[0.0, \"#0d0887\"], [0.1111111111111111, \"#46039f\"], [0.2222222222222222, \"#7201a8\"], [0.3333333333333333, \"#9c179e\"], [0.4444444444444444, \"#bd3786\"], [0.5555555555555556, \"#d8576b\"], [0.6666666666666666, \"#ed7953\"], [0.7777777777777778, \"#fb9f3a\"], [0.8888888888888888, \"#fdca26\"], [1.0, \"#f0f921\"]], \"type\": \"heatmapgl\"}], \"histogram\": [{\"marker\": {\"colorbar\": {\"outlinewidth\": 0, \"ticks\": \"\"}}, \"type\": \"histogram\"}], \"histogram2d\": [{\"colorbar\": {\"outlinewidth\": 0, \"ticks\": \"\"}, \"colorscale\": [[0.0, \"#0d0887\"], [0.1111111111111111, \"#46039f\"], [0.2222222222222222, \"#7201a8\"], [0.3333333333333333, \"#9c179e\"], [0.4444444444444444, \"#bd3786\"], [0.5555555555555556, \"#d8576b\"], [0.6666666666666666, \"#ed7953\"], [0.7777777777777778, \"#fb9f3a\"], [0.8888888888888888, \"#fdca26\"], [1.0, \"#f0f921\"]], \"type\": \"histogram2d\"}], \"histogram2dcontour\": [{\"colorbar\": {\"outlinewidth\": 0, \"ticks\": \"\"}, \"colorscale\": [[0.0, \"#0d0887\"], [0.1111111111111111, \"#46039f\"], [0.2222222222222222, \"#7201a8\"], [0.3333333333333333, \"#9c179e\"], [0.4444444444444444, \"#bd3786\"], [0.5555555555555556, \"#d8576b\"], [0.6666666666666666, \"#ed7953\"], [0.7777777777777778, \"#fb9f3a\"], [0.8888888888888888, \"#fdca26\"], [1.0, \"#f0f921\"]], \"type\": \"histogram2dcontour\"}], \"mesh3d\": [{\"colorbar\": {\"outlinewidth\": 0, \"ticks\": \"\"}, \"type\": \"mesh3d\"}], \"parcoords\": [{\"line\": {\"colorbar\": {\"outlinewidth\": 0, \"ticks\": \"\"}}, \"type\": \"parcoords\"}], \"pie\": [{\"automargin\": true, \"type\": \"pie\"}], \"scatter\": [{\"marker\": {\"colorbar\": {\"outlinewidth\": 0, \"ticks\": \"\"}}, \"type\": \"scatter\"}], \"scatter3d\": [{\"line\": {\"colorbar\": {\"outlinewidth\": 0, \"ticks\": \"\"}}, \"marker\": {\"colorbar\": {\"outlinewidth\": 0, \"ticks\": \"\"}}, \"type\": \"scatter3d\"}], \"scattercarpet\": [{\"marker\": {\"colorbar\": {\"outlinewidth\": 0, \"ticks\": \"\"}}, \"type\": \"scattercarpet\"}], \"scattergeo\": [{\"marker\": {\"colorbar\": {\"outlinewidth\": 0, \"ticks\": \"\"}}, \"type\": \"scattergeo\"}], \"scattergl\": [{\"marker\": {\"colorbar\": {\"outlinewidth\": 0, \"ticks\": \"\"}}, \"type\": \"scattergl\"}], \"scattermapbox\": [{\"marker\": {\"colorbar\": {\"outlinewidth\": 0, \"ticks\": \"\"}}, \"type\": \"scattermapbox\"}], \"scatterpolar\": [{\"marker\": {\"colorbar\": {\"outlinewidth\": 0, \"ticks\": \"\"}}, \"type\": \"scatterpolar\"}], \"scatterpolargl\": [{\"marker\": {\"colorbar\": {\"outlinewidth\": 0, \"ticks\": \"\"}}, \"type\": \"scatterpolargl\"}], \"scatterternary\": [{\"marker\": {\"colorbar\": {\"outlinewidth\": 0, \"ticks\": \"\"}}, \"type\": \"scatterternary\"}], \"surface\": [{\"colorbar\": {\"outlinewidth\": 0, \"ticks\": \"\"}, \"colorscale\": [[0.0, \"#0d0887\"], [0.1111111111111111, \"#46039f\"], [0.2222222222222222, \"#7201a8\"], [0.3333333333333333, \"#9c179e\"], [0.4444444444444444, \"#bd3786\"], [0.5555555555555556, \"#d8576b\"], [0.6666666666666666, \"#ed7953\"], [0.7777777777777778, \"#fb9f3a\"], [0.8888888888888888, \"#fdca26\"], [1.0, \"#f0f921\"]], \"type\": \"surface\"}], \"table\": [{\"cells\": {\"fill\": {\"color\": \"#EBF0F8\"}, \"line\": {\"color\": \"white\"}}, \"header\": {\"fill\": {\"color\": \"#C8D4E3\"}, \"line\": {\"color\": \"white\"}}, \"type\": \"table\"}]}, \"layout\": {\"annotationdefaults\": {\"arrowcolor\": \"#2a3f5f\", \"arrowhead\": 0, \"arrowwidth\": 1}, \"coloraxis\": {\"colorbar\": {\"outlinewidth\": 0, \"ticks\": \"\"}}, \"colorscale\": {\"diverging\": [[0, \"#8e0152\"], [0.1, \"#c51b7d\"], [0.2, \"#de77ae\"], [0.3, \"#f1b6da\"], [0.4, \"#fde0ef\"], [0.5, \"#f7f7f7\"], [0.6, \"#e6f5d0\"], [0.7, \"#b8e186\"], [0.8, \"#7fbc41\"], [0.9, \"#4d9221\"], [1, \"#276419\"]], \"sequential\": [[0.0, \"#0d0887\"], [0.1111111111111111, \"#46039f\"], [0.2222222222222222, \"#7201a8\"], [0.3333333333333333, \"#9c179e\"], [0.4444444444444444, \"#bd3786\"], [0.5555555555555556, \"#d8576b\"], [0.6666666666666666, \"#ed7953\"], [0.7777777777777778, \"#fb9f3a\"], [0.8888888888888888, \"#fdca26\"], [1.0, \"#f0f921\"]], \"sequentialminus\": [[0.0, \"#0d0887\"], [0.1111111111111111, \"#46039f\"], [0.2222222222222222, \"#7201a8\"], [0.3333333333333333, \"#9c179e\"], [0.4444444444444444, \"#bd3786\"], [0.5555555555555556, \"#d8576b\"], [0.6666666666666666, \"#ed7953\"], [0.7777777777777778, \"#fb9f3a\"], [0.8888888888888888, \"#fdca26\"], [1.0, \"#f0f921\"]]}, \"colorway\": [\"#636efa\", \"#EF553B\", \"#00cc96\", \"#ab63fa\", \"#FFA15A\", \"#19d3f3\", \"#FF6692\", \"#B6E880\", \"#FF97FF\", \"#FECB52\"], \"font\": {\"color\": \"#2a3f5f\"}, \"geo\": {\"bgcolor\": \"white\", \"lakecolor\": \"white\", \"landcolor\": \"#E5ECF6\", \"showlakes\": true, \"showland\": true, \"subunitcolor\": \"white\"}, \"hoverlabel\": {\"align\": \"left\"}, \"hovermode\": \"closest\", \"mapbox\": {\"style\": \"light\"}, \"paper_bgcolor\": \"white\", \"plot_bgcolor\": \"#E5ECF6\", \"polar\": {\"angularaxis\": {\"gridcolor\": \"white\", \"linecolor\": \"white\", \"ticks\": \"\"}, \"bgcolor\": \"#E5ECF6\", \"radialaxis\": {\"gridcolor\": \"white\", \"linecolor\": \"white\", \"ticks\": \"\"}}, \"scene\": {\"xaxis\": {\"backgroundcolor\": \"#E5ECF6\", \"gridcolor\": \"white\", \"gridwidth\": 2, \"linecolor\": \"white\", \"showbackground\": true, \"ticks\": \"\", \"zerolinecolor\": \"white\"}, \"yaxis\": {\"backgroundcolor\": \"#E5ECF6\", \"gridcolor\": \"white\", \"gridwidth\": 2, \"linecolor\": \"white\", \"showbackground\": true, \"ticks\": \"\", \"zerolinecolor\": \"white\"}, \"zaxis\": {\"backgroundcolor\": \"#E5ECF6\", \"gridcolor\": \"white\", \"gridwidth\": 2, \"linecolor\": \"white\", \"showbackground\": true, \"ticks\": \"\", \"zerolinecolor\": \"white\"}}, \"shapedefaults\": {\"line\": {\"color\": \"#2a3f5f\"}}, \"ternary\": {\"aaxis\": {\"gridcolor\": \"white\", \"linecolor\": \"white\", \"ticks\": \"\"}, \"baxis\": {\"gridcolor\": \"white\", \"linecolor\": \"white\", \"ticks\": \"\"}, \"bgcolor\": \"#E5ECF6\", \"caxis\": {\"gridcolor\": \"white\", \"linecolor\": \"white\", \"ticks\": \"\"}}, \"title\": {\"x\": 0.05}, \"xaxis\": {\"automargin\": true, \"gridcolor\": \"white\", \"linecolor\": \"white\", \"ticks\": \"\", \"title\": {\"standoff\": 15}, \"zerolinecolor\": \"white\", \"zerolinewidth\": 2}, \"yaxis\": {\"automargin\": true, \"gridcolor\": \"white\", \"linecolor\": \"white\", \"ticks\": \"\", \"title\": {\"standoff\": 15}, \"zerolinecolor\": \"white\", \"zerolinewidth\": 2}}}},\n",
       "                        {\"responsive\": true}\n",
       "                    ).then(function(){\n",
       "                            \n",
       "var gd = document.getElementById('f303587d-f884-4347-abe8-3f4e0d0f0e3f');\n",
       "var x = new MutationObserver(function (mutations, observer) {{\n",
       "        var display = window.getComputedStyle(gd).display;\n",
       "        if (!display || display === 'none') {{\n",
       "            console.log([gd, 'removed!']);\n",
       "            Plotly.purge(gd);\n",
       "            observer.disconnect();\n",
       "        }}\n",
       "}});\n",
       "\n",
       "// Listen for the removal of the full notebook cells\n",
       "var notebookContainer = gd.closest('#notebook-container');\n",
       "if (notebookContainer) {{\n",
       "    x.observe(notebookContainer, {childList: true});\n",
       "}}\n",
       "\n",
       "// Listen for the clearing of the current output cell\n",
       "var outputEl = gd.closest('.output');\n",
       "if (outputEl) {{\n",
       "    x.observe(outputEl, {childList: true});\n",
       "}}\n",
       "\n",
       "                        })\n",
       "                };\n",
       "                });\n",
       "            </script>\n",
       "        </div>"
      ]
     },
     "metadata": {},
     "output_type": "display_data"
    }
   ],
   "source": [
    "drinks= nutrients[nutrients['Category'].isin(['Fish Seafood','Desserts sweets'])]\n",
    "drinks_top=drinks.sort_values(by='Calories', ascending= False)\n",
    "drinks_top=drinks_top.head(10)\n",
    "\n",
    "fig = go.Figure(go.Funnelarea(values=drinks_top['Calories'].values, text=drinks_top['Food'],\n",
    "                              title = { \"text\": \"Desserts with high calorie percentages\"},\n",
    "               marker = {\"colors\": [\"deepskyblue\", \"lightsalmon\", \"tan\", \"teal\", \"silver\",\"deepskyblue\", \"lightsalmon\", \"tan\", \"teal\", \"silver\"],\n",
    "                \"line\": {\"color\": [\"wheat\", \"wheat\", \"blue\", \"wheat\", \"wheat\",\"wheat\", \"wheat\", \"blue\", \"wheat\", \"wheat\"]}}))\n",
    "\n",
    "\n",
    "\n",
    "fig.show()"
   ]
  },
  {
   "cell_type": "markdown",
   "metadata": {
    "papermill": {
     "duration": 0.047988,
     "end_time": "2020-10-11T08:43:53.954975",
     "exception": false,
     "start_time": "2020-10-11T08:43:53.906987",
     "status": "completed"
    },
    "tags": []
   },
   "source": [
    "So, pudding has the most amount of calories followed by chocolate fudge."
   ]
  },
  {
   "cell_type": "code",
   "execution_count": 16,
   "metadata": {
    "execution": {
     "iopub.execute_input": "2020-10-11T08:43:54.071209Z",
     "iopub.status.busy": "2020-10-11T08:43:54.070472Z",
     "iopub.status.idle": "2020-10-11T08:43:54.076082Z",
     "shell.execute_reply": "2020-10-11T08:43:54.075473Z"
    },
    "papermill": {
     "duration": 0.072436,
     "end_time": "2020-10-11T08:43:54.076201",
     "exception": false,
     "start_time": "2020-10-11T08:43:54.003765",
     "status": "completed"
    },
    "tags": []
   },
   "outputs": [
    {
     "data": {
      "text/html": [
       "<div>\n",
       "        \n",
       "        \n",
       "            <div id=\"2619eae4-f62f-4a82-962a-eecc853eac5d\" class=\"plotly-graph-div\" style=\"height:525px; width:100%;\"></div>\n",
       "            <script type=\"text/javascript\">\n",
       "                require([\"plotly\"], function(Plotly) {\n",
       "                    window.PLOTLYENV=window.PLOTLYENV || {};\n",
       "                    \n",
       "                if (document.getElementById(\"2619eae4-f62f-4a82-962a-eecc853eac5d\")) {\n",
       "                    Plotly.newPlot(\n",
       "                        '2619eae4-f62f-4a82-962a-eecc853eac5d',\n",
       "                        [{\"marker\": {\"colors\": [\"blue\", \"purple\", \"pink\", \"teal\", \"silver\", \"yellow\", \"lightsalmon\", \"tan\", \"teal\", \"silver\"], \"line\": {\"color\": [\"wheat\", \"wheat\", \"blue\", \"wheat\", \"wheat\", \"wheat\", \"wheat\", \"blue\", \"wheat\", \"wheat\"]}}, \"text\": [\"Oysters\", \"Chocolate fudge\", \"9\\\" diam. pie\", \"Cherry Pie\", \"Herring\", \"Fudge\", \"Pumpkin Pie\", \"Bread pudding\", \"Lemon meringue\", \"Custard\"], \"title\": {\"text\": \"Desserts with high fat percentage\"}, \"type\": \"funnelarea\", \"values\": [233, 14, 13, 13, 13, 12, 12, 12, 12, 11]}],\n",
       "                        {\"template\": {\"data\": {\"bar\": [{\"error_x\": {\"color\": \"#2a3f5f\"}, \"error_y\": {\"color\": \"#2a3f5f\"}, \"marker\": {\"line\": {\"color\": \"#E5ECF6\", \"width\": 0.5}}, \"type\": \"bar\"}], \"barpolar\": [{\"marker\": {\"line\": {\"color\": \"#E5ECF6\", \"width\": 0.5}}, \"type\": \"barpolar\"}], \"carpet\": [{\"aaxis\": {\"endlinecolor\": \"#2a3f5f\", \"gridcolor\": \"white\", \"linecolor\": \"white\", \"minorgridcolor\": \"white\", \"startlinecolor\": \"#2a3f5f\"}, \"baxis\": {\"endlinecolor\": \"#2a3f5f\", \"gridcolor\": \"white\", \"linecolor\": \"white\", \"minorgridcolor\": \"white\", \"startlinecolor\": \"#2a3f5f\"}, \"type\": \"carpet\"}], \"choropleth\": [{\"colorbar\": {\"outlinewidth\": 0, \"ticks\": \"\"}, \"type\": \"choropleth\"}], \"contour\": [{\"colorbar\": {\"outlinewidth\": 0, \"ticks\": \"\"}, \"colorscale\": [[0.0, \"#0d0887\"], [0.1111111111111111, \"#46039f\"], [0.2222222222222222, \"#7201a8\"], [0.3333333333333333, \"#9c179e\"], [0.4444444444444444, \"#bd3786\"], [0.5555555555555556, \"#d8576b\"], [0.6666666666666666, \"#ed7953\"], [0.7777777777777778, \"#fb9f3a\"], [0.8888888888888888, \"#fdca26\"], [1.0, \"#f0f921\"]], \"type\": \"contour\"}], \"contourcarpet\": [{\"colorbar\": {\"outlinewidth\": 0, \"ticks\": \"\"}, \"type\": \"contourcarpet\"}], \"heatmap\": [{\"colorbar\": {\"outlinewidth\": 0, \"ticks\": \"\"}, \"colorscale\": [[0.0, \"#0d0887\"], [0.1111111111111111, \"#46039f\"], [0.2222222222222222, \"#7201a8\"], [0.3333333333333333, \"#9c179e\"], [0.4444444444444444, \"#bd3786\"], [0.5555555555555556, \"#d8576b\"], [0.6666666666666666, \"#ed7953\"], [0.7777777777777778, \"#fb9f3a\"], [0.8888888888888888, \"#fdca26\"], [1.0, \"#f0f921\"]], \"type\": \"heatmap\"}], \"heatmapgl\": [{\"colorbar\": {\"outlinewidth\": 0, \"ticks\": \"\"}, \"colorscale\": [[0.0, \"#0d0887\"], [0.1111111111111111, \"#46039f\"], [0.2222222222222222, \"#7201a8\"], [0.3333333333333333, \"#9c179e\"], [0.4444444444444444, \"#bd3786\"], [0.5555555555555556, \"#d8576b\"], [0.6666666666666666, \"#ed7953\"], [0.7777777777777778, \"#fb9f3a\"], [0.8888888888888888, \"#fdca26\"], [1.0, \"#f0f921\"]], \"type\": \"heatmapgl\"}], \"histogram\": [{\"marker\": {\"colorbar\": {\"outlinewidth\": 0, \"ticks\": \"\"}}, \"type\": \"histogram\"}], \"histogram2d\": [{\"colorbar\": {\"outlinewidth\": 0, \"ticks\": \"\"}, \"colorscale\": [[0.0, \"#0d0887\"], [0.1111111111111111, \"#46039f\"], [0.2222222222222222, \"#7201a8\"], [0.3333333333333333, \"#9c179e\"], [0.4444444444444444, \"#bd3786\"], [0.5555555555555556, \"#d8576b\"], [0.6666666666666666, \"#ed7953\"], [0.7777777777777778, \"#fb9f3a\"], [0.8888888888888888, \"#fdca26\"], [1.0, \"#f0f921\"]], \"type\": \"histogram2d\"}], \"histogram2dcontour\": [{\"colorbar\": {\"outlinewidth\": 0, \"ticks\": \"\"}, \"colorscale\": [[0.0, \"#0d0887\"], [0.1111111111111111, \"#46039f\"], [0.2222222222222222, \"#7201a8\"], [0.3333333333333333, \"#9c179e\"], [0.4444444444444444, \"#bd3786\"], [0.5555555555555556, \"#d8576b\"], [0.6666666666666666, \"#ed7953\"], [0.7777777777777778, \"#fb9f3a\"], [0.8888888888888888, \"#fdca26\"], [1.0, \"#f0f921\"]], \"type\": \"histogram2dcontour\"}], \"mesh3d\": [{\"colorbar\": {\"outlinewidth\": 0, \"ticks\": \"\"}, \"type\": \"mesh3d\"}], \"parcoords\": [{\"line\": {\"colorbar\": {\"outlinewidth\": 0, \"ticks\": \"\"}}, \"type\": \"parcoords\"}], \"pie\": [{\"automargin\": true, \"type\": \"pie\"}], \"scatter\": [{\"marker\": {\"colorbar\": {\"outlinewidth\": 0, \"ticks\": \"\"}}, \"type\": \"scatter\"}], \"scatter3d\": [{\"line\": {\"colorbar\": {\"outlinewidth\": 0, \"ticks\": \"\"}}, \"marker\": {\"colorbar\": {\"outlinewidth\": 0, \"ticks\": \"\"}}, \"type\": \"scatter3d\"}], \"scattercarpet\": [{\"marker\": {\"colorbar\": {\"outlinewidth\": 0, \"ticks\": \"\"}}, \"type\": \"scattercarpet\"}], \"scattergeo\": [{\"marker\": {\"colorbar\": {\"outlinewidth\": 0, \"ticks\": \"\"}}, \"type\": \"scattergeo\"}], \"scattergl\": [{\"marker\": {\"colorbar\": {\"outlinewidth\": 0, \"ticks\": \"\"}}, \"type\": \"scattergl\"}], \"scattermapbox\": [{\"marker\": {\"colorbar\": {\"outlinewidth\": 0, \"ticks\": \"\"}}, \"type\": \"scattermapbox\"}], \"scatterpolar\": [{\"marker\": {\"colorbar\": {\"outlinewidth\": 0, \"ticks\": \"\"}}, \"type\": \"scatterpolar\"}], \"scatterpolargl\": [{\"marker\": {\"colorbar\": {\"outlinewidth\": 0, \"ticks\": \"\"}}, \"type\": \"scatterpolargl\"}], \"scatterternary\": [{\"marker\": {\"colorbar\": {\"outlinewidth\": 0, \"ticks\": \"\"}}, \"type\": \"scatterternary\"}], \"surface\": [{\"colorbar\": {\"outlinewidth\": 0, \"ticks\": \"\"}, \"colorscale\": [[0.0, \"#0d0887\"], [0.1111111111111111, \"#46039f\"], [0.2222222222222222, \"#7201a8\"], [0.3333333333333333, \"#9c179e\"], [0.4444444444444444, \"#bd3786\"], [0.5555555555555556, \"#d8576b\"], [0.6666666666666666, \"#ed7953\"], [0.7777777777777778, \"#fb9f3a\"], [0.8888888888888888, \"#fdca26\"], [1.0, \"#f0f921\"]], \"type\": \"surface\"}], \"table\": [{\"cells\": {\"fill\": {\"color\": \"#EBF0F8\"}, \"line\": {\"color\": \"white\"}}, \"header\": {\"fill\": {\"color\": \"#C8D4E3\"}, \"line\": {\"color\": \"white\"}}, \"type\": \"table\"}]}, \"layout\": {\"annotationdefaults\": {\"arrowcolor\": \"#2a3f5f\", \"arrowhead\": 0, \"arrowwidth\": 1}, \"coloraxis\": {\"colorbar\": {\"outlinewidth\": 0, \"ticks\": \"\"}}, \"colorscale\": {\"diverging\": [[0, \"#8e0152\"], [0.1, \"#c51b7d\"], [0.2, \"#de77ae\"], [0.3, \"#f1b6da\"], [0.4, \"#fde0ef\"], [0.5, \"#f7f7f7\"], [0.6, \"#e6f5d0\"], [0.7, \"#b8e186\"], [0.8, \"#7fbc41\"], [0.9, \"#4d9221\"], [1, \"#276419\"]], \"sequential\": [[0.0, \"#0d0887\"], [0.1111111111111111, \"#46039f\"], [0.2222222222222222, \"#7201a8\"], [0.3333333333333333, \"#9c179e\"], [0.4444444444444444, \"#bd3786\"], [0.5555555555555556, \"#d8576b\"], [0.6666666666666666, \"#ed7953\"], [0.7777777777777778, \"#fb9f3a\"], [0.8888888888888888, \"#fdca26\"], [1.0, \"#f0f921\"]], \"sequentialminus\": [[0.0, \"#0d0887\"], [0.1111111111111111, \"#46039f\"], [0.2222222222222222, \"#7201a8\"], [0.3333333333333333, \"#9c179e\"], [0.4444444444444444, \"#bd3786\"], [0.5555555555555556, \"#d8576b\"], [0.6666666666666666, \"#ed7953\"], [0.7777777777777778, \"#fb9f3a\"], [0.8888888888888888, \"#fdca26\"], [1.0, \"#f0f921\"]]}, \"colorway\": [\"#636efa\", \"#EF553B\", \"#00cc96\", \"#ab63fa\", \"#FFA15A\", \"#19d3f3\", \"#FF6692\", \"#B6E880\", \"#FF97FF\", \"#FECB52\"], \"font\": {\"color\": \"#2a3f5f\"}, \"geo\": {\"bgcolor\": \"white\", \"lakecolor\": \"white\", \"landcolor\": \"#E5ECF6\", \"showlakes\": true, \"showland\": true, \"subunitcolor\": \"white\"}, \"hoverlabel\": {\"align\": \"left\"}, \"hovermode\": \"closest\", \"mapbox\": {\"style\": \"light\"}, \"paper_bgcolor\": \"white\", \"plot_bgcolor\": \"#E5ECF6\", \"polar\": {\"angularaxis\": {\"gridcolor\": \"white\", \"linecolor\": \"white\", \"ticks\": \"\"}, \"bgcolor\": \"#E5ECF6\", \"radialaxis\": {\"gridcolor\": \"white\", \"linecolor\": \"white\", \"ticks\": \"\"}}, \"scene\": {\"xaxis\": {\"backgroundcolor\": \"#E5ECF6\", \"gridcolor\": \"white\", \"gridwidth\": 2, \"linecolor\": \"white\", \"showbackground\": true, \"ticks\": \"\", \"zerolinecolor\": \"white\"}, \"yaxis\": {\"backgroundcolor\": \"#E5ECF6\", \"gridcolor\": \"white\", \"gridwidth\": 2, \"linecolor\": \"white\", \"showbackground\": true, \"ticks\": \"\", \"zerolinecolor\": \"white\"}, \"zaxis\": {\"backgroundcolor\": \"#E5ECF6\", \"gridcolor\": \"white\", \"gridwidth\": 2, \"linecolor\": \"white\", \"showbackground\": true, \"ticks\": \"\", \"zerolinecolor\": \"white\"}}, \"shapedefaults\": {\"line\": {\"color\": \"#2a3f5f\"}}, \"ternary\": {\"aaxis\": {\"gridcolor\": \"white\", \"linecolor\": \"white\", \"ticks\": \"\"}, \"baxis\": {\"gridcolor\": \"white\", \"linecolor\": \"white\", \"ticks\": \"\"}, \"bgcolor\": \"#E5ECF6\", \"caxis\": {\"gridcolor\": \"white\", \"linecolor\": \"white\", \"ticks\": \"\"}}, \"title\": {\"x\": 0.05}, \"xaxis\": {\"automargin\": true, \"gridcolor\": \"white\", \"linecolor\": \"white\", \"ticks\": \"\", \"title\": {\"standoff\": 15}, \"zerolinecolor\": \"white\", \"zerolinewidth\": 2}, \"yaxis\": {\"automargin\": true, \"gridcolor\": \"white\", \"linecolor\": \"white\", \"ticks\": \"\", \"title\": {\"standoff\": 15}, \"zerolinecolor\": \"white\", \"zerolinewidth\": 2}}}},\n",
       "                        {\"responsive\": true}\n",
       "                    ).then(function(){\n",
       "                            \n",
       "var gd = document.getElementById('2619eae4-f62f-4a82-962a-eecc853eac5d');\n",
       "var x = new MutationObserver(function (mutations, observer) {{\n",
       "        var display = window.getComputedStyle(gd).display;\n",
       "        if (!display || display === 'none') {{\n",
       "            console.log([gd, 'removed!']);\n",
       "            Plotly.purge(gd);\n",
       "            observer.disconnect();\n",
       "        }}\n",
       "}});\n",
       "\n",
       "// Listen for the removal of the full notebook cells\n",
       "var notebookContainer = gd.closest('#notebook-container');\n",
       "if (notebookContainer) {{\n",
       "    x.observe(notebookContainer, {childList: true});\n",
       "}}\n",
       "\n",
       "// Listen for the clearing of the current output cell\n",
       "var outputEl = gd.closest('.output');\n",
       "if (outputEl) {{\n",
       "    x.observe(outputEl, {childList: true});\n",
       "}}\n",
       "\n",
       "                        })\n",
       "                };\n",
       "                });\n",
       "            </script>\n",
       "        </div>"
      ]
     },
     "metadata": {},
     "output_type": "display_data"
    }
   ],
   "source": [
    "drinks_fatty=drinks.sort_values(by='Fat', ascending= False)\n",
    "drinks_fatty=drinks_fatty.head(10)\n",
    "\n",
    "fig = go.Figure(go.Funnelarea(values=drinks_fatty['Fat'].values, text=drinks_fatty['Food'],\n",
    "                              title = { \"text\": \"Desserts with high fat percentage\"},\n",
    "               marker = {\"colors\": [\"blue\", \"purple\", \"pink\", \"teal\", \"silver\",\"yellow\", \"lightsalmon\", \"tan\", \"teal\", \"silver\"],\n",
    "                \"line\": {\"color\": [\"wheat\", \"wheat\", \"blue\", \"wheat\", \"wheat\",\"wheat\", \"wheat\", \"blue\", \"wheat\", \"wheat\"]}}))\n",
    "fig.show()"
   ]
  },
  {
   "cell_type": "markdown",
   "metadata": {
    "papermill": {
     "duration": 0.04997,
     "end_time": "2020-10-11T08:43:54.176046",
     "exception": false,
     "start_time": "2020-10-11T08:43:54.126076",
     "status": "completed"
    },
    "tags": []
   },
   "source": [
    "Pies and fudges have the highest percentage of fat as well."
   ]
  },
  {
   "cell_type": "markdown",
   "metadata": {
    "papermill": {
     "duration": 0.04876,
     "end_time": "2020-10-11T08:43:54.274098",
     "exception": false,
     "start_time": "2020-10-11T08:43:54.225338",
     "status": "completed"
    },
    "tags": []
   },
   "source": [
    "## Analyzing meat, poultry , seafood."
   ]
  },
  {
   "cell_type": "code",
   "execution_count": 17,
   "metadata": {
    "execution": {
     "iopub.execute_input": "2020-10-11T08:43:54.386261Z",
     "iopub.status.busy": "2020-10-11T08:43:54.385496Z",
     "iopub.status.idle": "2020-10-11T08:43:54.398973Z",
     "shell.execute_reply": "2020-10-11T08:43:54.399535Z"
    },
    "papermill": {
     "duration": 0.076705,
     "end_time": "2020-10-11T08:43:54.399712",
     "exception": false,
     "start_time": "2020-10-11T08:43:54.323007",
     "status": "completed"
    },
    "tags": []
   },
   "outputs": [
    {
     "data": {
      "text/html": [
       "<div>\n",
       "        \n",
       "        \n",
       "            <div id=\"505b6247-df33-4db0-8f64-2ec94c9eb6dd\" class=\"plotly-graph-div\" style=\"height:525px; width:100%;\"></div>\n",
       "            <script type=\"text/javascript\">\n",
       "                require([\"plotly\"], function(Plotly) {\n",
       "                    window.PLOTLYENV=window.PLOTLYENV || {};\n",
       "                    \n",
       "                if (document.getElementById(\"505b6247-df33-4db0-8f64-2ec94c9eb6dd\")) {\n",
       "                    Plotly.newPlot(\n",
       "                        '505b6247-df33-4db0-8f64-2ec94c9eb6dd',\n",
       "                        [{\"marker\": {\"colors\": [\"maroon\", \"salmon\", \"tan\", \"gold\", \"silver\", \"deepskyblue\", \"lightsalmon\", \"tan\", \"teal\", \"silver\"], \"line\": {\"color\": [\"wheat\", \"wheat\", \"blue\", \"wheat\", \"wheat\", \"wheat\", \"wheat\", \"blue\", \"wheat\", \"wheat\"]}}, \"text\": [\"Oysters\", \"Flounder\", \"Cod\", \"Swordfish\", \"Halibut\", \"Tuna\", \"Shrimp\", \"Herring\", \"Sardines\", \"Shad\"], \"title\": {\"text\": \"Desserts with high calorie percentages\"}, \"type\": \"pie\", \"values\": [232, 30, 28, 27, 26, 25, 23, 22, 22, 20]}],\n",
       "                        {\"template\": {\"data\": {\"bar\": [{\"error_x\": {\"color\": \"#2a3f5f\"}, \"error_y\": {\"color\": \"#2a3f5f\"}, \"marker\": {\"line\": {\"color\": \"#E5ECF6\", \"width\": 0.5}}, \"type\": \"bar\"}], \"barpolar\": [{\"marker\": {\"line\": {\"color\": \"#E5ECF6\", \"width\": 0.5}}, \"type\": \"barpolar\"}], \"carpet\": [{\"aaxis\": {\"endlinecolor\": \"#2a3f5f\", \"gridcolor\": \"white\", \"linecolor\": \"white\", \"minorgridcolor\": \"white\", \"startlinecolor\": \"#2a3f5f\"}, \"baxis\": {\"endlinecolor\": \"#2a3f5f\", \"gridcolor\": \"white\", \"linecolor\": \"white\", \"minorgridcolor\": \"white\", \"startlinecolor\": \"#2a3f5f\"}, \"type\": \"carpet\"}], \"choropleth\": [{\"colorbar\": {\"outlinewidth\": 0, \"ticks\": \"\"}, \"type\": \"choropleth\"}], \"contour\": [{\"colorbar\": {\"outlinewidth\": 0, \"ticks\": \"\"}, \"colorscale\": [[0.0, \"#0d0887\"], [0.1111111111111111, \"#46039f\"], [0.2222222222222222, \"#7201a8\"], [0.3333333333333333, \"#9c179e\"], [0.4444444444444444, \"#bd3786\"], [0.5555555555555556, \"#d8576b\"], [0.6666666666666666, \"#ed7953\"], [0.7777777777777778, \"#fb9f3a\"], [0.8888888888888888, \"#fdca26\"], [1.0, \"#f0f921\"]], \"type\": \"contour\"}], \"contourcarpet\": [{\"colorbar\": {\"outlinewidth\": 0, \"ticks\": \"\"}, \"type\": \"contourcarpet\"}], \"heatmap\": [{\"colorbar\": {\"outlinewidth\": 0, \"ticks\": \"\"}, \"colorscale\": [[0.0, \"#0d0887\"], [0.1111111111111111, \"#46039f\"], [0.2222222222222222, \"#7201a8\"], [0.3333333333333333, \"#9c179e\"], [0.4444444444444444, \"#bd3786\"], [0.5555555555555556, \"#d8576b\"], [0.6666666666666666, \"#ed7953\"], [0.7777777777777778, \"#fb9f3a\"], [0.8888888888888888, \"#fdca26\"], [1.0, \"#f0f921\"]], \"type\": \"heatmap\"}], \"heatmapgl\": [{\"colorbar\": {\"outlinewidth\": 0, \"ticks\": \"\"}, \"colorscale\": [[0.0, \"#0d0887\"], [0.1111111111111111, \"#46039f\"], [0.2222222222222222, \"#7201a8\"], [0.3333333333333333, \"#9c179e\"], [0.4444444444444444, \"#bd3786\"], [0.5555555555555556, \"#d8576b\"], [0.6666666666666666, \"#ed7953\"], [0.7777777777777778, \"#fb9f3a\"], [0.8888888888888888, \"#fdca26\"], [1.0, \"#f0f921\"]], \"type\": \"heatmapgl\"}], \"histogram\": [{\"marker\": {\"colorbar\": {\"outlinewidth\": 0, \"ticks\": \"\"}}, \"type\": \"histogram\"}], \"histogram2d\": [{\"colorbar\": {\"outlinewidth\": 0, \"ticks\": \"\"}, \"colorscale\": [[0.0, \"#0d0887\"], [0.1111111111111111, \"#46039f\"], [0.2222222222222222, \"#7201a8\"], [0.3333333333333333, \"#9c179e\"], [0.4444444444444444, \"#bd3786\"], [0.5555555555555556, \"#d8576b\"], [0.6666666666666666, \"#ed7953\"], [0.7777777777777778, \"#fb9f3a\"], [0.8888888888888888, \"#fdca26\"], [1.0, \"#f0f921\"]], \"type\": \"histogram2d\"}], \"histogram2dcontour\": [{\"colorbar\": {\"outlinewidth\": 0, \"ticks\": \"\"}, \"colorscale\": [[0.0, \"#0d0887\"], [0.1111111111111111, \"#46039f\"], [0.2222222222222222, \"#7201a8\"], [0.3333333333333333, \"#9c179e\"], [0.4444444444444444, \"#bd3786\"], [0.5555555555555556, \"#d8576b\"], [0.6666666666666666, \"#ed7953\"], [0.7777777777777778, \"#fb9f3a\"], [0.8888888888888888, \"#fdca26\"], [1.0, \"#f0f921\"]], \"type\": \"histogram2dcontour\"}], \"mesh3d\": [{\"colorbar\": {\"outlinewidth\": 0, \"ticks\": \"\"}, \"type\": \"mesh3d\"}], \"parcoords\": [{\"line\": {\"colorbar\": {\"outlinewidth\": 0, \"ticks\": \"\"}}, \"type\": \"parcoords\"}], \"pie\": [{\"automargin\": true, \"type\": \"pie\"}], \"scatter\": [{\"marker\": {\"colorbar\": {\"outlinewidth\": 0, \"ticks\": \"\"}}, \"type\": \"scatter\"}], \"scatter3d\": [{\"line\": {\"colorbar\": {\"outlinewidth\": 0, \"ticks\": \"\"}}, \"marker\": {\"colorbar\": {\"outlinewidth\": 0, \"ticks\": \"\"}}, \"type\": \"scatter3d\"}], \"scattercarpet\": [{\"marker\": {\"colorbar\": {\"outlinewidth\": 0, \"ticks\": \"\"}}, \"type\": \"scattercarpet\"}], \"scattergeo\": [{\"marker\": {\"colorbar\": {\"outlinewidth\": 0, \"ticks\": \"\"}}, \"type\": \"scattergeo\"}], \"scattergl\": [{\"marker\": {\"colorbar\": {\"outlinewidth\": 0, \"ticks\": \"\"}}, \"type\": \"scattergl\"}], \"scattermapbox\": [{\"marker\": {\"colorbar\": {\"outlinewidth\": 0, \"ticks\": \"\"}}, \"type\": \"scattermapbox\"}], \"scatterpolar\": [{\"marker\": {\"colorbar\": {\"outlinewidth\": 0, \"ticks\": \"\"}}, \"type\": \"scatterpolar\"}], \"scatterpolargl\": [{\"marker\": {\"colorbar\": {\"outlinewidth\": 0, \"ticks\": \"\"}}, \"type\": \"scatterpolargl\"}], \"scatterternary\": [{\"marker\": {\"colorbar\": {\"outlinewidth\": 0, \"ticks\": \"\"}}, \"type\": \"scatterternary\"}], \"surface\": [{\"colorbar\": {\"outlinewidth\": 0, \"ticks\": \"\"}, \"colorscale\": [[0.0, \"#0d0887\"], [0.1111111111111111, \"#46039f\"], [0.2222222222222222, \"#7201a8\"], [0.3333333333333333, \"#9c179e\"], [0.4444444444444444, \"#bd3786\"], [0.5555555555555556, \"#d8576b\"], [0.6666666666666666, \"#ed7953\"], [0.7777777777777778, \"#fb9f3a\"], [0.8888888888888888, \"#fdca26\"], [1.0, \"#f0f921\"]], \"type\": \"surface\"}], \"table\": [{\"cells\": {\"fill\": {\"color\": \"#EBF0F8\"}, \"line\": {\"color\": \"white\"}}, \"header\": {\"fill\": {\"color\": \"#C8D4E3\"}, \"line\": {\"color\": \"white\"}}, \"type\": \"table\"}]}, \"layout\": {\"annotationdefaults\": {\"arrowcolor\": \"#2a3f5f\", \"arrowhead\": 0, \"arrowwidth\": 1}, \"coloraxis\": {\"colorbar\": {\"outlinewidth\": 0, \"ticks\": \"\"}}, \"colorscale\": {\"diverging\": [[0, \"#8e0152\"], [0.1, \"#c51b7d\"], [0.2, \"#de77ae\"], [0.3, \"#f1b6da\"], [0.4, \"#fde0ef\"], [0.5, \"#f7f7f7\"], [0.6, \"#e6f5d0\"], [0.7, \"#b8e186\"], [0.8, \"#7fbc41\"], [0.9, \"#4d9221\"], [1, \"#276419\"]], \"sequential\": [[0.0, \"#0d0887\"], [0.1111111111111111, \"#46039f\"], [0.2222222222222222, \"#7201a8\"], [0.3333333333333333, \"#9c179e\"], [0.4444444444444444, \"#bd3786\"], [0.5555555555555556, \"#d8576b\"], [0.6666666666666666, \"#ed7953\"], [0.7777777777777778, \"#fb9f3a\"], [0.8888888888888888, \"#fdca26\"], [1.0, \"#f0f921\"]], \"sequentialminus\": [[0.0, \"#0d0887\"], [0.1111111111111111, \"#46039f\"], [0.2222222222222222, \"#7201a8\"], [0.3333333333333333, \"#9c179e\"], [0.4444444444444444, \"#bd3786\"], [0.5555555555555556, \"#d8576b\"], [0.6666666666666666, \"#ed7953\"], [0.7777777777777778, \"#fb9f3a\"], [0.8888888888888888, \"#fdca26\"], [1.0, \"#f0f921\"]]}, \"colorway\": [\"#636efa\", \"#EF553B\", \"#00cc96\", \"#ab63fa\", \"#FFA15A\", \"#19d3f3\", \"#FF6692\", \"#B6E880\", \"#FF97FF\", \"#FECB52\"], \"font\": {\"color\": \"#2a3f5f\"}, \"geo\": {\"bgcolor\": \"white\", \"lakecolor\": \"white\", \"landcolor\": \"#E5ECF6\", \"showlakes\": true, \"showland\": true, \"subunitcolor\": \"white\"}, \"hoverlabel\": {\"align\": \"left\"}, \"hovermode\": \"closest\", \"mapbox\": {\"style\": \"light\"}, \"paper_bgcolor\": \"white\", \"plot_bgcolor\": \"#E5ECF6\", \"polar\": {\"angularaxis\": {\"gridcolor\": \"white\", \"linecolor\": \"white\", \"ticks\": \"\"}, \"bgcolor\": \"#E5ECF6\", \"radialaxis\": {\"gridcolor\": \"white\", \"linecolor\": \"white\", \"ticks\": \"\"}}, \"scene\": {\"xaxis\": {\"backgroundcolor\": \"#E5ECF6\", \"gridcolor\": \"white\", \"gridwidth\": 2, \"linecolor\": \"white\", \"showbackground\": true, \"ticks\": \"\", \"zerolinecolor\": \"white\"}, \"yaxis\": {\"backgroundcolor\": \"#E5ECF6\", \"gridcolor\": \"white\", \"gridwidth\": 2, \"linecolor\": \"white\", \"showbackground\": true, \"ticks\": \"\", \"zerolinecolor\": \"white\"}, \"zaxis\": {\"backgroundcolor\": \"#E5ECF6\", \"gridcolor\": \"white\", \"gridwidth\": 2, \"linecolor\": \"white\", \"showbackground\": true, \"ticks\": \"\", \"zerolinecolor\": \"white\"}}, \"shapedefaults\": {\"line\": {\"color\": \"#2a3f5f\"}}, \"ternary\": {\"aaxis\": {\"gridcolor\": \"white\", \"linecolor\": \"white\", \"ticks\": \"\"}, \"baxis\": {\"gridcolor\": \"white\", \"linecolor\": \"white\", \"ticks\": \"\"}, \"bgcolor\": \"#E5ECF6\", \"caxis\": {\"gridcolor\": \"white\", \"linecolor\": \"white\", \"ticks\": \"\"}}, \"title\": {\"x\": 0.05}, \"xaxis\": {\"automargin\": true, \"gridcolor\": \"white\", \"linecolor\": \"white\", \"ticks\": \"\", \"title\": {\"standoff\": 15}, \"zerolinecolor\": \"white\", \"zerolinewidth\": 2}, \"yaxis\": {\"automargin\": true, \"gridcolor\": \"white\", \"linecolor\": \"white\", \"ticks\": \"\", \"title\": {\"standoff\": 15}, \"zerolinecolor\": \"white\", \"zerolinewidth\": 2}}}},\n",
       "                        {\"responsive\": true}\n",
       "                    ).then(function(){\n",
       "                            \n",
       "var gd = document.getElementById('505b6247-df33-4db0-8f64-2ec94c9eb6dd');\n",
       "var x = new MutationObserver(function (mutations, observer) {{\n",
       "        var display = window.getComputedStyle(gd).display;\n",
       "        if (!display || display === 'none') {{\n",
       "            console.log([gd, 'removed!']);\n",
       "            Plotly.purge(gd);\n",
       "            observer.disconnect();\n",
       "        }}\n",
       "}});\n",
       "\n",
       "// Listen for the removal of the full notebook cells\n",
       "var notebookContainer = gd.closest('#notebook-container');\n",
       "if (notebookContainer) {{\n",
       "    x.observe(notebookContainer, {childList: true});\n",
       "}}\n",
       "\n",
       "// Listen for the clearing of the current output cell\n",
       "var outputEl = gd.closest('.output');\n",
       "if (outputEl) {{\n",
       "    x.observe(outputEl, {childList: true});\n",
       "}}\n",
       "\n",
       "                        })\n",
       "                };\n",
       "                });\n",
       "            </script>\n",
       "        </div>"
      ]
     },
     "metadata": {},
     "output_type": "display_data"
    }
   ],
   "source": [
    "meat= nutrients[nutrients['Category'].isin(['Fish Seafood','Meat Poultry'])]\n",
    "meats_top=drinks.sort_values(by='Protein', ascending= False)\n",
    "meats_top=meats_top.head(10)\n",
    "\n",
    "fig = go.Figure(go.Pie(values=meats_top['Protein'].values, text=meats_top['Food'],\n",
    "                              title = { \"text\": \"Desserts with high calorie percentages\"},\n",
    "               marker = {\"colors\": [\"maroon\", \"salmon\", \"tan\", \"gold\", \"silver\",\"deepskyblue\", \"lightsalmon\", \"tan\", \"teal\", \"silver\"],\n",
    "                \"line\": {\"color\": [\"wheat\", \"wheat\", \"blue\", \"wheat\", \"wheat\",\"wheat\", \"wheat\", \"blue\", \"wheat\", \"wheat\"]}}))\n",
    "fig.show()"
   ]
  },
  {
   "cell_type": "markdown",
   "metadata": {
    "papermill": {
     "duration": 0.049546,
     "end_time": "2020-10-11T08:43:54.499292",
     "exception": false,
     "start_time": "2020-10-11T08:43:54.449746",
     "status": "completed"
    },
    "tags": []
   },
   "source": [
    "Oysters have a large amount of proteins, after them the flatfish flounders have about 6.59% protein."
   ]
  },
  {
   "cell_type": "markdown",
   "metadata": {
    "papermill": {
     "duration": 0.049428,
     "end_time": "2020-10-11T08:43:54.598792",
     "exception": false,
     "start_time": "2020-10-11T08:43:54.549364",
     "status": "completed"
    },
    "tags": []
   },
   "source": [
    "## Seafood and meat always is known for having good fat content. Let's find out the fattiest of the fishes.🐟"
   ]
  },
  {
   "cell_type": "code",
   "execution_count": 18,
   "metadata": {
    "execution": {
     "iopub.execute_input": "2020-10-11T08:43:54.710032Z",
     "iopub.status.busy": "2020-10-11T08:43:54.709229Z",
     "iopub.status.idle": "2020-10-11T08:43:54.725346Z",
     "shell.execute_reply": "2020-10-11T08:43:54.724792Z"
    },
    "papermill": {
     "duration": 0.075908,
     "end_time": "2020-10-11T08:43:54.725468",
     "exception": false,
     "start_time": "2020-10-11T08:43:54.649560",
     "status": "completed"
    },
    "tags": []
   },
   "outputs": [
    {
     "data": {
      "text/html": [
       "<div>\n",
       "        \n",
       "        \n",
       "            <div id=\"30fdd098-6844-4af8-8599-8d08a263dd13\" class=\"plotly-graph-div\" style=\"height:525px; width:100%;\"></div>\n",
       "            <script type=\"text/javascript\">\n",
       "                require([\"plotly\"], function(Plotly) {\n",
       "                    window.PLOTLYENV=window.PLOTLYENV || {};\n",
       "                    \n",
       "                if (document.getElementById(\"30fdd098-6844-4af8-8599-8d08a263dd13\")) {\n",
       "                    Plotly.newPlot(\n",
       "                        '30fdd098-6844-4af8-8599-8d08a263dd13',\n",
       "                        [{\"marker\": {\"size\": [200, 180, 160, 140, 120, 100, 80, 60, 40, 20]}, \"mode\": \"markers\", \"type\": \"scatter\", \"x\": [\"Oysters\", \"Pork sausage\", \"Roast beef\", \"Lamb chop broiled\", \"Pot-pie\", \"Duck domestic\", \"Steak\", \"Pork roast\", \"Shoulder braised\", \"Ham pan-broiled\"], \"y\": [233, 44, 36, 35, 28, 28, 27, 24, 23, 22]}],\n",
       "                        {\"template\": {\"data\": {\"bar\": [{\"error_x\": {\"color\": \"#2a3f5f\"}, \"error_y\": {\"color\": \"#2a3f5f\"}, \"marker\": {\"line\": {\"color\": \"#E5ECF6\", \"width\": 0.5}}, \"type\": \"bar\"}], \"barpolar\": [{\"marker\": {\"line\": {\"color\": \"#E5ECF6\", \"width\": 0.5}}, \"type\": \"barpolar\"}], \"carpet\": [{\"aaxis\": {\"endlinecolor\": \"#2a3f5f\", \"gridcolor\": \"white\", \"linecolor\": \"white\", \"minorgridcolor\": \"white\", \"startlinecolor\": \"#2a3f5f\"}, \"baxis\": {\"endlinecolor\": \"#2a3f5f\", \"gridcolor\": \"white\", \"linecolor\": \"white\", \"minorgridcolor\": \"white\", \"startlinecolor\": \"#2a3f5f\"}, \"type\": \"carpet\"}], \"choropleth\": [{\"colorbar\": {\"outlinewidth\": 0, \"ticks\": \"\"}, \"type\": \"choropleth\"}], \"contour\": [{\"colorbar\": {\"outlinewidth\": 0, \"ticks\": \"\"}, \"colorscale\": [[0.0, \"#0d0887\"], [0.1111111111111111, \"#46039f\"], [0.2222222222222222, \"#7201a8\"], [0.3333333333333333, \"#9c179e\"], [0.4444444444444444, \"#bd3786\"], [0.5555555555555556, \"#d8576b\"], [0.6666666666666666, \"#ed7953\"], [0.7777777777777778, \"#fb9f3a\"], [0.8888888888888888, \"#fdca26\"], [1.0, \"#f0f921\"]], \"type\": \"contour\"}], \"contourcarpet\": [{\"colorbar\": {\"outlinewidth\": 0, \"ticks\": \"\"}, \"type\": \"contourcarpet\"}], \"heatmap\": [{\"colorbar\": {\"outlinewidth\": 0, \"ticks\": \"\"}, \"colorscale\": [[0.0, \"#0d0887\"], [0.1111111111111111, \"#46039f\"], [0.2222222222222222, \"#7201a8\"], [0.3333333333333333, \"#9c179e\"], [0.4444444444444444, \"#bd3786\"], [0.5555555555555556, \"#d8576b\"], [0.6666666666666666, \"#ed7953\"], [0.7777777777777778, \"#fb9f3a\"], [0.8888888888888888, \"#fdca26\"], [1.0, \"#f0f921\"]], \"type\": \"heatmap\"}], \"heatmapgl\": [{\"colorbar\": {\"outlinewidth\": 0, \"ticks\": \"\"}, \"colorscale\": [[0.0, \"#0d0887\"], [0.1111111111111111, \"#46039f\"], [0.2222222222222222, \"#7201a8\"], [0.3333333333333333, \"#9c179e\"], [0.4444444444444444, \"#bd3786\"], [0.5555555555555556, \"#d8576b\"], [0.6666666666666666, \"#ed7953\"], [0.7777777777777778, \"#fb9f3a\"], [0.8888888888888888, \"#fdca26\"], [1.0, \"#f0f921\"]], \"type\": \"heatmapgl\"}], \"histogram\": [{\"marker\": {\"colorbar\": {\"outlinewidth\": 0, \"ticks\": \"\"}}, \"type\": \"histogram\"}], \"histogram2d\": [{\"colorbar\": {\"outlinewidth\": 0, \"ticks\": \"\"}, \"colorscale\": [[0.0, \"#0d0887\"], [0.1111111111111111, \"#46039f\"], [0.2222222222222222, \"#7201a8\"], [0.3333333333333333, \"#9c179e\"], [0.4444444444444444, \"#bd3786\"], [0.5555555555555556, \"#d8576b\"], [0.6666666666666666, \"#ed7953\"], [0.7777777777777778, \"#fb9f3a\"], [0.8888888888888888, \"#fdca26\"], [1.0, \"#f0f921\"]], \"type\": \"histogram2d\"}], \"histogram2dcontour\": [{\"colorbar\": {\"outlinewidth\": 0, \"ticks\": \"\"}, \"colorscale\": [[0.0, \"#0d0887\"], [0.1111111111111111, \"#46039f\"], [0.2222222222222222, \"#7201a8\"], [0.3333333333333333, \"#9c179e\"], [0.4444444444444444, \"#bd3786\"], [0.5555555555555556, \"#d8576b\"], [0.6666666666666666, \"#ed7953\"], [0.7777777777777778, \"#fb9f3a\"], [0.8888888888888888, \"#fdca26\"], [1.0, \"#f0f921\"]], \"type\": \"histogram2dcontour\"}], \"mesh3d\": [{\"colorbar\": {\"outlinewidth\": 0, \"ticks\": \"\"}, \"type\": \"mesh3d\"}], \"parcoords\": [{\"line\": {\"colorbar\": {\"outlinewidth\": 0, \"ticks\": \"\"}}, \"type\": \"parcoords\"}], \"pie\": [{\"automargin\": true, \"type\": \"pie\"}], \"scatter\": [{\"marker\": {\"colorbar\": {\"outlinewidth\": 0, \"ticks\": \"\"}}, \"type\": \"scatter\"}], \"scatter3d\": [{\"line\": {\"colorbar\": {\"outlinewidth\": 0, \"ticks\": \"\"}}, \"marker\": {\"colorbar\": {\"outlinewidth\": 0, \"ticks\": \"\"}}, \"type\": \"scatter3d\"}], \"scattercarpet\": [{\"marker\": {\"colorbar\": {\"outlinewidth\": 0, \"ticks\": \"\"}}, \"type\": \"scattercarpet\"}], \"scattergeo\": [{\"marker\": {\"colorbar\": {\"outlinewidth\": 0, \"ticks\": \"\"}}, \"type\": \"scattergeo\"}], \"scattergl\": [{\"marker\": {\"colorbar\": {\"outlinewidth\": 0, \"ticks\": \"\"}}, \"type\": \"scattergl\"}], \"scattermapbox\": [{\"marker\": {\"colorbar\": {\"outlinewidth\": 0, \"ticks\": \"\"}}, \"type\": \"scattermapbox\"}], \"scatterpolar\": [{\"marker\": {\"colorbar\": {\"outlinewidth\": 0, \"ticks\": \"\"}}, \"type\": \"scatterpolar\"}], \"scatterpolargl\": [{\"marker\": {\"colorbar\": {\"outlinewidth\": 0, \"ticks\": \"\"}}, \"type\": \"scatterpolargl\"}], \"scatterternary\": [{\"marker\": {\"colorbar\": {\"outlinewidth\": 0, \"ticks\": \"\"}}, \"type\": \"scatterternary\"}], \"surface\": [{\"colorbar\": {\"outlinewidth\": 0, \"ticks\": \"\"}, \"colorscale\": [[0.0, \"#0d0887\"], [0.1111111111111111, \"#46039f\"], [0.2222222222222222, \"#7201a8\"], [0.3333333333333333, \"#9c179e\"], [0.4444444444444444, \"#bd3786\"], [0.5555555555555556, \"#d8576b\"], [0.6666666666666666, \"#ed7953\"], [0.7777777777777778, \"#fb9f3a\"], [0.8888888888888888, \"#fdca26\"], [1.0, \"#f0f921\"]], \"type\": \"surface\"}], \"table\": [{\"cells\": {\"fill\": {\"color\": \"#EBF0F8\"}, \"line\": {\"color\": \"white\"}}, \"header\": {\"fill\": {\"color\": \"#C8D4E3\"}, \"line\": {\"color\": \"white\"}}, \"type\": \"table\"}]}, \"layout\": {\"annotationdefaults\": {\"arrowcolor\": \"#2a3f5f\", \"arrowhead\": 0, \"arrowwidth\": 1}, \"coloraxis\": {\"colorbar\": {\"outlinewidth\": 0, \"ticks\": \"\"}}, \"colorscale\": {\"diverging\": [[0, \"#8e0152\"], [0.1, \"#c51b7d\"], [0.2, \"#de77ae\"], [0.3, \"#f1b6da\"], [0.4, \"#fde0ef\"], [0.5, \"#f7f7f7\"], [0.6, \"#e6f5d0\"], [0.7, \"#b8e186\"], [0.8, \"#7fbc41\"], [0.9, \"#4d9221\"], [1, \"#276419\"]], \"sequential\": [[0.0, \"#0d0887\"], [0.1111111111111111, \"#46039f\"], [0.2222222222222222, \"#7201a8\"], [0.3333333333333333, \"#9c179e\"], [0.4444444444444444, \"#bd3786\"], [0.5555555555555556, \"#d8576b\"], [0.6666666666666666, \"#ed7953\"], [0.7777777777777778, \"#fb9f3a\"], [0.8888888888888888, \"#fdca26\"], [1.0, \"#f0f921\"]], \"sequentialminus\": [[0.0, \"#0d0887\"], [0.1111111111111111, \"#46039f\"], [0.2222222222222222, \"#7201a8\"], [0.3333333333333333, \"#9c179e\"], [0.4444444444444444, \"#bd3786\"], [0.5555555555555556, \"#d8576b\"], [0.6666666666666666, \"#ed7953\"], [0.7777777777777778, \"#fb9f3a\"], [0.8888888888888888, \"#fdca26\"], [1.0, \"#f0f921\"]]}, \"colorway\": [\"#636efa\", \"#EF553B\", \"#00cc96\", \"#ab63fa\", \"#FFA15A\", \"#19d3f3\", \"#FF6692\", \"#B6E880\", \"#FF97FF\", \"#FECB52\"], \"font\": {\"color\": \"#2a3f5f\"}, \"geo\": {\"bgcolor\": \"white\", \"lakecolor\": \"white\", \"landcolor\": \"#E5ECF6\", \"showlakes\": true, \"showland\": true, \"subunitcolor\": \"white\"}, \"hoverlabel\": {\"align\": \"left\"}, \"hovermode\": \"closest\", \"mapbox\": {\"style\": \"light\"}, \"paper_bgcolor\": \"white\", \"plot_bgcolor\": \"#E5ECF6\", \"polar\": {\"angularaxis\": {\"gridcolor\": \"white\", \"linecolor\": \"white\", \"ticks\": \"\"}, \"bgcolor\": \"#E5ECF6\", \"radialaxis\": {\"gridcolor\": \"white\", \"linecolor\": \"white\", \"ticks\": \"\"}}, \"scene\": {\"xaxis\": {\"backgroundcolor\": \"#E5ECF6\", \"gridcolor\": \"white\", \"gridwidth\": 2, \"linecolor\": \"white\", \"showbackground\": true, \"ticks\": \"\", \"zerolinecolor\": \"white\"}, \"yaxis\": {\"backgroundcolor\": \"#E5ECF6\", \"gridcolor\": \"white\", \"gridwidth\": 2, \"linecolor\": \"white\", \"showbackground\": true, \"ticks\": \"\", \"zerolinecolor\": \"white\"}, \"zaxis\": {\"backgroundcolor\": \"#E5ECF6\", \"gridcolor\": \"white\", \"gridwidth\": 2, \"linecolor\": \"white\", \"showbackground\": true, \"ticks\": \"\", \"zerolinecolor\": \"white\"}}, \"shapedefaults\": {\"line\": {\"color\": \"#2a3f5f\"}}, \"ternary\": {\"aaxis\": {\"gridcolor\": \"white\", \"linecolor\": \"white\", \"ticks\": \"\"}, \"baxis\": {\"gridcolor\": \"white\", \"linecolor\": \"white\", \"ticks\": \"\"}, \"bgcolor\": \"#E5ECF6\", \"caxis\": {\"gridcolor\": \"white\", \"linecolor\": \"white\", \"ticks\": \"\"}}, \"title\": {\"x\": 0.05}, \"xaxis\": {\"automargin\": true, \"gridcolor\": \"white\", \"linecolor\": \"white\", \"ticks\": \"\", \"title\": {\"standoff\": 15}, \"zerolinecolor\": \"white\", \"zerolinewidth\": 2}, \"yaxis\": {\"automargin\": true, \"gridcolor\": \"white\", \"linecolor\": \"white\", \"ticks\": \"\", \"title\": {\"standoff\": 15}, \"zerolinecolor\": \"white\", \"zerolinewidth\": 2}}}, \"title\": {\"text\": \"Meat/Seafood with high Fat Content\"}},\n",
       "                        {\"responsive\": true}\n",
       "                    ).then(function(){\n",
       "                            \n",
       "var gd = document.getElementById('30fdd098-6844-4af8-8599-8d08a263dd13');\n",
       "var x = new MutationObserver(function (mutations, observer) {{\n",
       "        var display = window.getComputedStyle(gd).display;\n",
       "        if (!display || display === 'none') {{\n",
       "            console.log([gd, 'removed!']);\n",
       "            Plotly.purge(gd);\n",
       "            observer.disconnect();\n",
       "        }}\n",
       "}});\n",
       "\n",
       "// Listen for the removal of the full notebook cells\n",
       "var notebookContainer = gd.closest('#notebook-container');\n",
       "if (notebookContainer) {{\n",
       "    x.observe(notebookContainer, {childList: true});\n",
       "}}\n",
       "\n",
       "// Listen for the clearing of the current output cell\n",
       "var outputEl = gd.closest('.output');\n",
       "if (outputEl) {{\n",
       "    x.observe(outputEl, {childList: true});\n",
       "}}\n",
       "\n",
       "                        })\n",
       "                };\n",
       "                });\n",
       "            </script>\n",
       "        </div>"
      ]
     },
     "metadata": {},
     "output_type": "display_data"
    }
   ],
   "source": [
    "top_10_fattest= meat.sort_values(by='Fat', ascending=False)\n",
    "top_10_fattest=top_10_fattest.head(10)\n",
    "fig = go.Figure(data=[go.Scatter(\n",
    "    x=top_10_fattest['Food'], y=top_10_fattest['Fat'],\n",
    "    mode='markers',\n",
    "    marker_size=[200,180,160,140,120, 100 ,80 , 60 ,40,20])\n",
    "])\n",
    "fig.update_layout(title='Meat/Seafood with high Fat Content')\n",
    "fig.show()"
   ]
  },
  {
   "cell_type": "markdown",
   "metadata": {
    "papermill": {
     "duration": 0.059238,
     "end_time": "2020-10-11T08:43:54.836114",
     "exception": false,
     "start_time": "2020-10-11T08:43:54.776876",
     "status": "completed"
    },
    "tags": []
   },
   "source": [
    "So, only have high protein as well as high fat percentage. Pork sausages are the second highest followed by Roast beef. Also, no type of fish is present in the top 10 fattiest meats list. So, fishes tend to have less fat, I suppose."
   ]
  },
  {
   "cell_type": "markdown",
   "metadata": {
    "papermill": {
     "duration": 0.061835,
     "end_time": "2020-10-11T08:43:54.958939",
     "exception": false,
     "start_time": "2020-10-11T08:43:54.897104",
     "status": "completed"
    },
    "tags": []
   },
   "source": [
    "## Lastly, let us find the meat with most fiber"
   ]
  },
  {
   "cell_type": "code",
   "execution_count": 19,
   "metadata": {
    "execution": {
     "iopub.execute_input": "2020-10-11T08:43:55.085227Z",
     "iopub.status.busy": "2020-10-11T08:43:55.084105Z",
     "iopub.status.idle": "2020-10-11T08:43:55.088578Z",
     "shell.execute_reply": "2020-10-11T08:43:55.089137Z"
    },
    "papermill": {
     "duration": 0.078882,
     "end_time": "2020-10-11T08:43:55.089308",
     "exception": false,
     "start_time": "2020-10-11T08:43:55.010426",
     "status": "completed"
    },
    "tags": []
   },
   "outputs": [
    {
     "data": {
      "text/html": [
       "<div>\n",
       "<style scoped>\n",
       "    .dataframe tbody tr th:only-of-type {\n",
       "        vertical-align: middle;\n",
       "    }\n",
       "\n",
       "    .dataframe tbody tr th {\n",
       "        vertical-align: top;\n",
       "    }\n",
       "\n",
       "    .dataframe thead th {\n",
       "        text-align: right;\n",
       "    }\n",
       "</style>\n",
       "<table border=\"1\" class=\"dataframe\">\n",
       "  <thead>\n",
       "    <tr style=\"text-align: right;\">\n",
       "      <th></th>\n",
       "      <th>Food</th>\n",
       "      <th>Measure</th>\n",
       "      <th>Grams</th>\n",
       "      <th>Calories</th>\n",
       "      <th>Protein</th>\n",
       "      <th>Fat</th>\n",
       "      <th>Sat.Fat</th>\n",
       "      <th>Fiber</th>\n",
       "      <th>Carbs</th>\n",
       "      <th>Category</th>\n",
       "    </tr>\n",
       "  </thead>\n",
       "  <tbody>\n",
       "    <tr>\n",
       "      <th>82</th>\n",
       "      <td>Oysters</td>\n",
       "      <td>6-8 med.</td>\n",
       "      <td>230</td>\n",
       "      <td>231.0</td>\n",
       "      <td>232</td>\n",
       "      <td>233</td>\n",
       "      <td>234.0</td>\n",
       "      <td>235.0</td>\n",
       "      <td>236.0</td>\n",
       "      <td>Fish Seafood</td>\n",
       "    </tr>\n",
       "    <tr>\n",
       "      <th>43</th>\n",
       "      <td>Bacon</td>\n",
       "      <td>2 slices</td>\n",
       "      <td>16</td>\n",
       "      <td>95.0</td>\n",
       "      <td>4</td>\n",
       "      <td>8</td>\n",
       "      <td>7.0</td>\n",
       "      <td>0.0</td>\n",
       "      <td>1.0</td>\n",
       "      <td>Meat Poultry</td>\n",
       "    </tr>\n",
       "    <tr>\n",
       "      <th>78</th>\n",
       "      <td>Halibut</td>\n",
       "      <td>3 1/2 oz.</td>\n",
       "      <td>100</td>\n",
       "      <td>182.0</td>\n",
       "      <td>26</td>\n",
       "      <td>8</td>\n",
       "      <td>0.0</td>\n",
       "      <td>0.0</td>\n",
       "      <td>0.0</td>\n",
       "      <td>Fish Seafood</td>\n",
       "    </tr>\n",
       "    <tr>\n",
       "      <th>69</th>\n",
       "      <td>Turkey</td>\n",
       "      <td>3 1/2 oz.</td>\n",
       "      <td>100</td>\n",
       "      <td>265.0</td>\n",
       "      <td>27</td>\n",
       "      <td>15</td>\n",
       "      <td>0.0</td>\n",
       "      <td>0.0</td>\n",
       "      <td>0.0</td>\n",
       "      <td>Meat Poultry</td>\n",
       "    </tr>\n",
       "    <tr>\n",
       "      <th>70</th>\n",
       "      <td>Veal</td>\n",
       "      <td>3 oz.</td>\n",
       "      <td>85</td>\n",
       "      <td>185.0</td>\n",
       "      <td>23</td>\n",
       "      <td>9</td>\n",
       "      <td>8.0</td>\n",
       "      <td>0.0</td>\n",
       "      <td>0.0</td>\n",
       "      <td>Meat Poultry</td>\n",
       "    </tr>\n",
       "    <tr>\n",
       "      <th>71</th>\n",
       "      <td>Roast</td>\n",
       "      <td>3 oz.</td>\n",
       "      <td>85</td>\n",
       "      <td>305.0</td>\n",
       "      <td>13</td>\n",
       "      <td>14</td>\n",
       "      <td>13.0</td>\n",
       "      <td>0.0</td>\n",
       "      <td>0.0</td>\n",
       "      <td>Meat Poultry</td>\n",
       "    </tr>\n",
       "    <tr>\n",
       "      <th>72</th>\n",
       "      <td>Clams</td>\n",
       "      <td>3 oz.</td>\n",
       "      <td>85</td>\n",
       "      <td>87.0</td>\n",
       "      <td>12</td>\n",
       "      <td>1</td>\n",
       "      <td>0.0</td>\n",
       "      <td>0.0</td>\n",
       "      <td>2.0</td>\n",
       "      <td>Fish Seafood</td>\n",
       "    </tr>\n",
       "    <tr>\n",
       "      <th>73</th>\n",
       "      <td>Cod</td>\n",
       "      <td>3 1/2 oz.</td>\n",
       "      <td>100</td>\n",
       "      <td>170.0</td>\n",
       "      <td>28</td>\n",
       "      <td>5</td>\n",
       "      <td>0.0</td>\n",
       "      <td>0.0</td>\n",
       "      <td>0.0</td>\n",
       "      <td>Fish Seafood</td>\n",
       "    </tr>\n",
       "    <tr>\n",
       "      <th>74</th>\n",
       "      <td>Crab meat</td>\n",
       "      <td>3 oz.</td>\n",
       "      <td>85</td>\n",
       "      <td>90.0</td>\n",
       "      <td>14</td>\n",
       "      <td>2</td>\n",
       "      <td>0.0</td>\n",
       "      <td>0.0</td>\n",
       "      <td>1.0</td>\n",
       "      <td>Fish Seafood</td>\n",
       "    </tr>\n",
       "    <tr>\n",
       "      <th>75</th>\n",
       "      <td>Fish sticks fried</td>\n",
       "      <td>5</td>\n",
       "      <td>112</td>\n",
       "      <td>200.0</td>\n",
       "      <td>19</td>\n",
       "      <td>10</td>\n",
       "      <td>5.0</td>\n",
       "      <td>0.0</td>\n",
       "      <td>8.0</td>\n",
       "      <td>Fish Seafood</td>\n",
       "    </tr>\n",
       "  </tbody>\n",
       "</table>\n",
       "</div>"
      ],
      "text/plain": [
       "                 Food    Measure  Grams  Calories  Protein  Fat  Sat.Fat  \\\n",
       "82            Oysters   6-8 med.    230     231.0      232  233    234.0   \n",
       "43              Bacon   2 slices     16      95.0        4    8      7.0   \n",
       "78            Halibut  3 1/2 oz.    100     182.0       26    8      0.0   \n",
       "69             Turkey  3 1/2 oz.    100     265.0       27   15      0.0   \n",
       "70               Veal      3 oz.     85     185.0       23    9      8.0   \n",
       "71              Roast      3 oz.     85     305.0       13   14     13.0   \n",
       "72              Clams      3 oz.     85      87.0       12    1      0.0   \n",
       "73                Cod  3 1/2 oz.    100     170.0       28    5      0.0   \n",
       "74          Crab meat      3 oz.     85      90.0       14    2      0.0   \n",
       "75  Fish sticks fried          5    112     200.0       19   10      5.0   \n",
       "\n",
       "    Fiber  Carbs      Category  \n",
       "82  235.0  236.0  Fish Seafood  \n",
       "43    0.0    1.0  Meat Poultry  \n",
       "78    0.0    0.0  Fish Seafood  \n",
       "69    0.0    0.0  Meat Poultry  \n",
       "70    0.0    0.0  Meat Poultry  \n",
       "71    0.0    0.0  Meat Poultry  \n",
       "72    0.0    2.0  Fish Seafood  \n",
       "73    0.0    0.0  Fish Seafood  \n",
       "74    0.0    1.0  Fish Seafood  \n",
       "75    0.0    8.0  Fish Seafood  "
      ]
     },
     "execution_count": 19,
     "metadata": {},
     "output_type": "execute_result"
    }
   ],
   "source": [
    "top_10_fibrous= meat.sort_values(by='Fiber', ascending=False)\n",
    "top_10_fibrous=top_10_fibrous.head(10)\n",
    "top_10_fibrous"
   ]
  },
  {
   "cell_type": "markdown",
   "metadata": {
    "papermill": {
     "duration": 0.052288,
     "end_time": "2020-10-11T08:43:55.194036",
     "exception": false,
     "start_time": "2020-10-11T08:43:55.141748",
     "status": "completed"
    },
    "tags": []
   },
   "source": [
    "Bacon, Halibut, Turkey and veal top the charts in terms of Fiber content."
   ]
  },
  {
   "cell_type": "markdown",
   "metadata": {
    "papermill": {
     "duration": 0.051645,
     "end_time": "2020-10-11T08:43:55.298294",
     "exception": false,
     "start_time": "2020-10-11T08:43:55.246649",
     "status": "completed"
    },
    "tags": []
   },
   "source": [
    "## Introducing 3D Scatter Plots\n",
    "\n",
    "3D scatter plots are used to plot data points on three axes in the attempt to show the relationship between three variables. Each row in the data table is represented by a marker whose position depends on its values in the columns set on the X, Y, and Z axes. Basically, Plotting some data on the z-axis of a normal x-y scatter plot like the previous figure.\n",
    "\n",
    "They are interesting and though may not provide much inferences, are visually appealing to look at."
   ]
  },
  {
   "cell_type": "code",
   "execution_count": 20,
   "metadata": {
    "execution": {
     "iopub.execute_input": "2020-10-11T08:43:55.422579Z",
     "iopub.status.busy": "2020-10-11T08:43:55.421847Z",
     "iopub.status.idle": "2020-10-11T08:43:55.495846Z",
     "shell.execute_reply": "2020-10-11T08:43:55.496432Z"
    },
    "papermill": {
     "duration": 0.137517,
     "end_time": "2020-10-11T08:43:55.496585",
     "exception": false,
     "start_time": "2020-10-11T08:43:55.359068",
     "status": "completed"
    },
    "tags": []
   },
   "outputs": [
    {
     "data": {
      "text/html": [
       "<div>\n",
       "        \n",
       "        \n",
       "            <div id=\"7907c2d4-ab89-4d5d-8b8b-4383e29bdbdb\" class=\"plotly-graph-div\" style=\"height:800px; width:800px;\"></div>\n",
       "            <script type=\"text/javascript\">\n",
       "                require([\"plotly\"], function(Plotly) {\n",
       "                    window.PLOTLYENV=window.PLOTLYENV || {};\n",
       "                    \n",
       "                if (document.getElementById(\"7907c2d4-ab89-4d5d-8b8b-4383e29bdbdb\")) {\n",
       "                    Plotly.newPlot(\n",
       "                        '7907c2d4-ab89-4d5d-8b8b-4383e29bdbdb',\n",
       "                        [{\"marker\": {\"color\": [40, 0, 5, 20, 42, 28, 0, 0, 10, 24, 11, 4, 10, 14, 18, 10, 15, 44, 11, 0, 6, 19, 11, 9, 9, 8, 12, 16, 10, 11, 115, 115, 100, 110, 91, 11, 12, 14, 14, 14, 6, 8, 8, 16, 17, 10, 36, 27, 12, 10, 8, 4, 28, 10, 9, 15, 20, 14, 28, 35, 14, 23, 21, 22, 13, 14, 24, 44, 15, 9, 14, 1, 5, 2, 10, 8, 5, 8, 13, 1, 233, 6, 5, 9, 8, 10, 1, 6, 7, 0, 0, 0, 0, 0, 6, 1, 0, 0, 0, 0, 0, 0, 0, 0, 0, 0, 0, 0, 0, 0, 1, 0, 0, 1, 0, 0, 1, 0, 0, 0, 0, 0, 0, 0, 0, 0, 0, 0, 1, 0, 0, 0, 0, 0, 0, 9, 0, 7, 12, 14, 8, 0, 7, 0, 0, 11, 0, 0, 0, 1, 6, 0, 0, 0, 0, 1, 0, 0, 0, 0, 0, 0, 0, 0, 0, 0, 18, 0, 1, 0, 0, 1, 0, 0, 0, 0, 0, 0, 0, 0, 0, 0, 0, 0, 0, 0, 0, 0, 10, 13, 0, 0, 0, 0, 0, 0, 0, 1, 0, 0, 0, 0, 0, 0, 0, 1, 0, 0, 0, 0, 0, 0, 0, 0, 1, 4, 0, 1, 1, 15, 14, 1, 4, 0, 0, 4, 1, 1, 0, 22, 1, 2, 1, 25, 5, 2, 3, 9, 9, 6, 7, 0, 0, 3, 0, 0, 0, 6, 12, 2, 1, 10, 5, 4, 1, 9, 7, 7, 1, 1, 5, 4, 0, 2, 2, 12, 4, 3, 7, 2, 4, 12, 0, 14, 3, 4, 7, 5, 2, 3, 4, 12, 0, 0, 6, 0, 7, 0, 0, 0, 0, 0, 0, 0, 0, 13, 13, 11, 12, 9, 12, 0, 0, 0, 0, 0, 10, 38, 40, 47, 32, 20, 25, 24, 25, 35, 24, 26, 32, 0, 0, 0, 0, 0, 0, 0, 0, 0, 0, 0, 0], \"colorbar\": {\"title\": {\"text\": \"Total Fat (% Daily Value)\"}}, \"colorscale\": [[0.0, \"rgb(12,51,131)\"], [0.25, \"rgb(10,136,186)\"], [0.5, \"rgb(242,211,56)\"], [0.75, \"rgb(242,143,56)\"], [1.0, \"rgb(217,30,30)\"]], \"line\": {\"color\": \"rgb(255, 255, 255)\"}, \"sizemode\": \"diameter\", \"sizeref\": 750}, \"mode\": \"markers\", \"text\": [\"Cows' milk\", \"Milk skim\", \"Buttermilk\", \"Evaporated undiluted\", \"Fortified milk\", \"Powdered milk\", \"skim instant\", \"skim non-instant\", \"Goats' milk\", \"(1/2 cup ice cream)\", \"Cocoa\", \"skim. milk\", \"(cornstarch)\", \"Custard\", \"Ice cream\", \"Ice milk\", \"Cream or half-and-half\", \"or whipping\", \"Cheese\", \"uncreamed\", \"Cheddar\", \"Cheddar grated cup\", \"Cream cheese\", \"Processed cheese\", \"Roquefort type\", \"Swiss\", \"Eggs raw\", \"Eggs Scrambled or fried\", \"Yolks\", \"Butter\", \"Butter\", \"Butter\", \"Hydrogenated cooking fat\", \"Lard\", \"Margarine\", \"Margarine 2 pat or\", \"Mayonnaise\", \"Corn oil\", \"Olive oil\", \"Safflower seed oil\", \"French dressing\", \"Thousand Island sauce\", \"Bacon\", \"Beef\", \"Hamburger\", \"Ground lean\", \"Roast beef\", \"Steak\", \"Steak lean as round\", \"Corned beef\", \"Corned beef hash canned\", \"Corned beef hash Dried\", \"Pot-pie\", \"Corned beef hash Stew\", \"chicken\", \"Fried breast or leg and thigh chicken\", \"Roasted chicken\", \"Chicken livers fried\", \"Duck domestic\", \"Lamb chop broiled\", \"Leg roasted\", \"Shoulder braised\", \"Pork chop 1 thick\", \"Ham pan-broiled\", \"Ham as \", \"Ham canned spiced\", \"Pork roast\", \"Pork sausage\", \"Turkey\", \"Veal\", \"Roast\", \"Clams\", \"Cod\", \"Crab meat\", \"Fish sticks fried\", \"Flounder\", \"Haddock\", \"Halibut\", \"Herring\", \"Lobster\", \"Oysters\", \"Oyster stew\", \"Salmon\", \"Sardines\", \"Scallops\", \"Shad\", \"Shrimp\", \"Swordfish\", \"Tuna\", \"Artichoke\", \"Asparagus\", \"Beans\", \"Lima\", \"Lima dry cooked\", \"Navy baked with pork\", \"Red kidney\", \"Bean sprouts\", \"Beet greens\", \"Broccoli\", \"Brussels sprouts\", \"Sauerkraut\", \"Steamed cabbage\", \"Carrots\", \"Raw grated\", \"Strips from raw\", \"Cauliflower\", \"Celery\", \"Stalk raw\", \"Chard steamed\", \"Collards\", \"Corn\", \"cooked or canned\", \"Cucumbers\", \"Dandelion greens\", \"Eggplant\", \"Endive\", \"Kale\", \"Kohlrabi\", \"Lambs quarters steamed\", \"Lentils\", \"Lettuce\", \"Iceberg\", \"Mushrooms canned\", \"Mustard greens\", \"Okra\", \"Onions\", \"Raw green\", \"Parsley\", \"Parsnips\", \"Peas\", \"Fresh steamed peas\", \"Split cooked peas\", \"heated peas\", \"Peppers canned\", \"Peppers Raw green sweet\", \"Peppers with beef and crumbs\", \"Potatoes baked\", \"French-fried\", \"Potatoes Mashed with milk and butter\", \"Potatoes pan-tried\", \"Scalloped with cheese potatoes\", \"Steamed potatoes before peeling\", \"Potato chips\", \"Radishes\", \"Rutabagas\", \"Soybeans\", \"Spinach\", \"Squash\", \"Winter mashed\", \"Sweet potatoes\", \"Candied\", \"Tomatoes\", \"Raw 2 by 2 1/2\", \"Tomato juice\", \"Tomato catsup\", \"Turnip greens\", \"Turnips steamed\", \"Watercress stems raw\", \"Apple juice canned\", \"Apple vinegar\", \"Apples raw\", \"Stewed or canned\", \"Apricots\", \"Dried uncooked\", \"Fresh\", \"Nectar or juice\", \"Avocado\", \"Banana\", \"Blackberries\", \"Blueberries\", \"Cantaloupe\", \"Cherries\", \"Fresh raw\", \"Cranberry sauce sweetened\", \"Dates\", \"Figs\", \"Fresh raw figs\", \"figs Canned with syrup \", \"Fruit cocktail canned\", \"Grapefruit sections\", \"Grapefruit fresh 5\\\" diameter\", \"Grapefruit juice\", \"Grapes\", \"European as Muscat Tokay\", \"Grape juice\", \"Lemon juice\", \"Lemonade concentratefrozen\", \"Limeade concentrate frozen\", \"Olives large\", \"OlivesRipe\", \"Oranges 3\\\" diameter\", \"Orange juice\", \"Frozen \", \"Papaya\", \"Peaches\", \"Fresh raw\", \"Pears\", \"Raw 3 by 2V\", \"Persimmons\", \"Pineapple\", \"Pineapple Crushed\", \"Raw diced\", \"Pineapple juice\", \"Plums\", \"Raw 2\\\" diameter\", \"Prunes\", \"Prune juice\", \"Raisins\", \"Raspberries\", \"Raw red\", \"Rhubarb sweetened\", \"Strawberries\", \"Raw\", \"Tangerines\", \"Watermelon\", \"Biscuits\", \"Bran flakes\", \"Bread cracked wheat\", \"Rye\", \"White 20 slices or\", \"Whole-wheat\", \"Whole-wheat\", \"Corn bread ground meal\", \"Cornflakes\", \"Corn grits cooked\", \"Corn meal\", \"Crackers\", \"Soda 2 1/2 square\", \"Farina\", \"Flour\", \"Wheat (all purpose)\", \"Wheat (whole)\", \"Macaroni\", \"Baked with cheese\", \"Muffins\", \"Noodles\", \"Oatmeal\", \"Pancakes 4\\\" diam.\", \"Wheat pancakes 4\\\" diam.\", \"Pizza 14\\\" diam.\", \"Popcorn salted\", \"Puffed rice\", \"Puffed wheat presweetened\", \"Rice\", \"Converted\", \"White\", \"Rice flakes\", \"Rice polish\", \"Rolls\", \"of refined flour\", \"whole-wheat\", \"Spaghetti with meat sauce\", \"with tomatoes and cheese\", \"Spanish rice\", \"Shredded wheat biscuit\", \"Waffles\", \"Wheat germ\", \"Wheat-germ cereal toasted\", \"Wheat meal cereal unrefined\", \"Wheat cooked\", \"Bean soups\", \"Beef soup\", \"Bouillon\", \"chicken soup\", \"Clam chowder\", \"Cream soups\", \"Noodle\", \"Split-pea soup\", \"Tomato soup\", \"Vegetable\", \"Apple betty\", \"Bread pudding\", \"Cakes\", \"Chocolate fudge\", \"Cupcake\", \"Fruit cake\", \"Gingerbread\", \"Plain with no icing\", \"Sponge cake\", \"Candy\", \"Chocolate creams\", \"Fudge\", \"Hard candies\", \"Marshmallows\", \"Milk chocolate\", \"Chocolate syrup\", \"Doughnuts\", \"Gelatin made with water\", \"Honey\", \"Ice cream\", \"Ices\", \"preserves\", \"Jellies\", \"Molasses\", \"Cane Syrup\", \"9\\\" diam. pie\", \"Cherry Pie\", \"Custard\", \"Lemon meringue\", \"Mince\", \"Pumpkin Pie\", \"Puddings Sugar\", \"3 teaspoons sugar\", \"Brown firm-packed dark sugar\", \"Syrup\", \"table blends sugar\", \"Tapioca cream pudding\", \"Almonds\", \"roasted and salted\", \"Brazil nuts\", \"Cashews\", \"coconut sweetened\", \"Peanut butter\", \"Peanut butter natural\", \"Peanuts\", \"Pecans\", \"Sesame seeds\", \"Sunflower seeds\", \"Walnuts\", \"Beer\", \"Gin\", \"Wines\", \"Table (12.2% alcohol)\", \"Carbonated drinks Artificially sweetened\", \"Club soda\", \"Cola drinks\", \"Fruit-flavored soda\", \"Ginger ale\", \"Root beer\", \"Coffee\", \"Tea\"], \"type\": \"scatter3d\", \"x\": [\"Dairy products\", \"Dairy products\", \"Dairy products\", \"Dairy products\", \"Dairy products\", \"Dairy products\", \"Dairy products\", \"Dairy products\", \"Dairy products\", \"Dairy products\", \"Dairy products\", \"Dairy products\", \"Dairy products\", \"Dairy products\", \"Dairy products\", \"Dairy products\", \"Dairy products\", \"Dairy products\", \"Dairy products\", \"Dairy products\", \"Dairy products\", \"Dairy products\", \"Dairy products\", \"Dairy products\", \"Dairy products\", \"Dairy products\", \"Dairy products\", \"Dairy products\", \"Fats Oils Shortenings\", \"Fats Oils Shortenings\", \"Fats Oils Shortenings\", \"Fats Oils Shortenings\", \"Fats Oils Shortenings\", \"Fats Oils Shortenings\", \"Fats Oils Shortenings\", \"Fats Oils Shortenings\", \"Fats Oils Shortenings\", \"Fats Oils Shortenings\", \"Fats Oils Shortenings\", \"Fats Oils Shortenings\", \"Fats Oils Shortenings\", \"Fats Oils Shortenings\", \"Meat Poultry\", \"Meat Poultry\", \"Meat Poultry\", \"Meat Poultry\", \"Meat Poultry\", \"Meat Poultry\", \"Meat Poultry\", \"Meat Poultry\", \"Meat Poultry\", \"Meat Poultry\", \"Meat Poultry\", \"Meat Poultry\", \"Meat Poultry\", \"Meat Poultry\", \"Meat Poultry\", \"Meat Poultry\", \"Meat Poultry\", \"Meat Poultry\", \"Meat Poultry\", \"Meat Poultry\", \"Meat Poultry\", \"Meat Poultry\", \"Meat Poultry\", \"Meat Poultry\", \"Meat Poultry\", \"Meat Poultry\", \"Meat Poultry\", \"Meat Poultry\", \"Meat Poultry\", \"Fish Seafood\", \"Fish Seafood\", \"Fish Seafood\", \"Fish Seafood\", \"Fish Seafood\", \"Fish Seafood\", \"Fish Seafood\", \"Fish Seafood\", \"Fish Seafood\", \"Fish Seafood\", \"Fish Seafood\", \"Fish Seafood\", \"Fish Seafood\", \"Fish Seafood\", \"Fish Seafood\", \"Fish Seafood\", \"Fish Seafood\", \"Fish Seafood\", \"Vegetables A-E\", \"Vegetables A-E\", \"Vegetables A-E\", \"Vegetables A-E\", \"Vegetables A-E\", \"Vegetables A-E\", \"Vegetables A-E\", \"Vegetables A-E\", \"Vegetables A-E\", \"Vegetables A-E\", \"Vegetables A-E\", \"Vegetables A-E\", \"Vegetables A-E\", \"Vegetables A-E\", \"Vegetables A-E\", \"Vegetables A-E\", \"Vegetables A-E\", \"Vegetables A-E\", \"Vegetables A-E\", \"Vegetables A-E\", \"Vegetables A-E\", \"Vegetables A-E\", \"Vegetables A-E\", \"Vegetables A-E\", \"Vegetables A-E\", \"Vegetables A-E\", \"Vegetables A-E\", \"Vegetables F-P\", \"Vegetables F-P\", \"Vegetables F-P\", \"Vegetables F-P\", \"Vegetables F-P\", \"Vegetables F-P\", \"Vegetables F-P\", \"Vegetables F-P\", \"Vegetables F-P\", \"Vegetables F-P\", \"Vegetables F-P\", \"Vegetables F-P\", \"Vegetables F-P\", \"Vegetables F-P\", \"Vegetables R-Z\", \"Vegetables R-Z\", \"Vegetables R-Z\", \"Vegetables R-Z\", \"Vegetables R-Z\", \"Vegetables R-Z\", \"Vegetables R-Z\", \"Vegetables R-Z\", \"Vegetables R-Z\", \"Vegetables R-Z\", \"Vegetables R-Z\", \"Vegetables R-Z\", \"Vegetables R-Z\", \"Vegetables R-Z\", \"Vegetables R-Z\", \"Vegetables R-Z\", \"Vegetables R-Z\", \"Vegetables R-Z\", \"Vegetables R-Z\", \"Vegetables R-Z\", \"Vegetables R-Z\", \"Vegetables R-Z\", \"Vegetables R-Z\", \"Vegetables R-Z\", \"Vegetables R-Z\", \"Vegetables R-Z\", \"Vegetables R-Z\", \"Fruits A-F\", \"Fruits A-F\", \"Fruits A-F\", \"Fruits A-F\", \"Fruits A-F\", \"Fruits A-F\", \"Fruits A-F\", \"Fruits A-F\", \"Fruits A-F\", \"Fruits A-F\", \"Fruits A-F\", \"Fruits A-F\", \"Fruits A-F\", \"Fruits A-F\", \"Fruits A-F\", \"Fruits A-F\", \"Fruits A-F\", \"Fruits A-F\", \"Fruits A-F\", \"Fruits A-F\", \"Fruits A-F\", \"Fruits A-F\", \"Fruits G-P\", \"Fruits G-P\", \"Fruits G-P\", \"Fruits G-P\", \"Fruits G-P\", \"Fruits G-P\", \"Fruits G-P\", \"Fruits G-P\", \"Fruits G-P\", \"Fruits G-P\", \"Fruits G-P\", \"Fruits G-P\", \"Fruits G-P\", \"Fruits G-P\", \"Fruits G-P\", \"Fruits G-P\", \"Fruits G-P\", \"Fruits G-P\", \"Fruits G-P\", \"Fruits G-P\", \"Fruits G-P\", \"Fruits G-P\", \"Fruits G-P\", \"Fruits G-P\", \"Fruits G-P\", \"Fruits G-P\", \"Fruits G-P\", \"Fruits G-P\", \"Fruits R-Z\", \"Fruits R-Z\", \"Fruits R-Z\", \"Fruits R-Z\", \"Fruits R-Z\", \"Fruits R-Z\", \"Fruits R-Z\", \"Fruits R-Z\", \"Breads cereals fastfoodgrains\", \"Breads cereals fastfoodgrains\", \"Breads cereals fastfoodgrains\", \"Breads cereals fastfoodgrains\", \"Breads cereals fastfoodgrains\", \"Breads cereals fastfoodgrains\", \"Breads cereals fastfoodgrains\", \"Breads cereals fastfoodgrains\", \"Breads cereals fastfoodgrains\", \"Breads cereals fastfoodgrains\", \"Breads cereals fastfoodgrains\", \"Breads cereals fastfoodgrains\", \"Breads cereals fastfoodgrains\", \"Breads cereals fastfoodgrains\", \"Breads cereals fastfoodgrains\", \"Breads cereals fastfoodgrains\", \"Breads cereals fastfoodgrains\", \"Breads cereals fastfoodgrains\", \"Breads cereals fastfoodgrains\", \"Breads cereals fastfoodgrains\", \"Breads cereals fastfoodgrains\", \"Breads cereals fastfoodgrains\", \"Breads cereals fastfoodgrains\", \"Breads cereals fastfoodgrains\", \"Breads cereals fastfoodgrains\", \"Breads cereals fastfoodgrains\", \"Breads cereals fastfoodgrains\", \"Breads cereals fastfoodgrains\", \"Breads cereals fastfoodgrains\", \"Breads cereals fastfoodgrains\", \"Breads cereals fastfoodgrains\", \"Breads cereals fastfoodgrains\", \"Breads cereals fastfoodgrains\", \"Breads cereals fastfoodgrains\", \"Breads cereals fastfoodgrains\", \"Breads cereals fastfoodgrains\", \"Breads cereals fastfoodgrains\", \"Breads cereals fastfoodgrains\", \"Breads cereals fastfoodgrains\", \"Breads cereals fastfoodgrains\", \"Breads cereals fastfoodgrains\", \"Breads cereals fastfoodgrains\", \"Breads cereals fastfoodgrains\", \"Breads cereals fastfoodgrains\", \"Breads cereals fastfoodgrains\", \"Soups\", \"Soups\", \"Soups\", \"Soups\", \"Soups\", \"Soups\", \"Soups\", \"Soups\", \"Soups\", \"Soups\", \"Desserts sweets\", \"Desserts sweets\", \"Desserts sweets\", \"Desserts sweets\", \"Desserts sweets\", \"Desserts sweets\", \"Desserts sweets\", \"Desserts sweets\", \"Desserts sweets\", \"Desserts sweets\", \"Desserts sweets\", \"Desserts sweets\", \"Desserts sweets\", \"Desserts sweets\", \"Desserts sweets\", \"Desserts sweets\", \"Desserts sweets\", \"Desserts sweets\", \"Jams Jellies\", \"Desserts sweets\", \"Desserts sweets\", \"Jams Jellies\", \"Jams Jellies\", \"Jams Jellies\", \"Jams Jellies\", \"Desserts sweets\", \"Desserts sweets\", \"Desserts sweets\", \"Desserts sweets\", \"Desserts sweets\", \"Desserts sweets\", \"Desserts sweets\", \"Desserts sweets\", \"Jams Jellies\", \"Jams Jellies\", \"Jams Jellies\", \"Desserts sweets\", \"Seeds and Nuts\", \"Seeds and Nuts\", \"Seeds and Nuts\", \"Seeds and Nuts\", \"Seeds and Nuts\", \"Seeds and Nuts\", \"Seeds and Nuts\", \"Seeds and Nuts\", \"Seeds and Nuts\", \"Seeds and Nuts\", \"Seeds and Nuts\", \"Seeds and Nuts\", \"DrinksAlcohol Beverages\", \"DrinksAlcohol Beverages\", \"DrinksAlcohol Beverages\", \"DrinksAlcohol Beverages\", \"DrinksAlcohol Beverages\", \"DrinksAlcohol Beverages\", \"DrinksAlcohol Beverages\", \"DrinksAlcohol Beverages\", \"DrinksAlcohol Beverages\", \"DrinksAlcohol Beverages\", \"DrinksAlcohol Beverages\", \"DrinksAlcohol Beverages\"], \"y\": [\"Cows' milk\", \"Milk skim\", \"Buttermilk\", \"Evaporated undiluted\", \"Fortified milk\", \"Powdered milk\", \"skim instant\", \"skim non-instant\", \"Goats' milk\", \"(1/2 cup ice cream)\", \"Cocoa\", \"skim. milk\", \"(cornstarch)\", \"Custard\", \"Ice cream\", \"Ice milk\", \"Cream or half-and-half\", \"or whipping\", \"Cheese\", \"uncreamed\", \"Cheddar\", \"Cheddar grated cup\", \"Cream cheese\", \"Processed cheese\", \"Roquefort type\", \"Swiss\", \"Eggs raw\", \"Eggs Scrambled or fried\", \"Yolks\", \"Butter\", \"Butter\", \"Butter\", \"Hydrogenated cooking fat\", \"Lard\", \"Margarine\", \"Margarine 2 pat or\", \"Mayonnaise\", \"Corn oil\", \"Olive oil\", \"Safflower seed oil\", \"French dressing\", \"Thousand Island sauce\", \"Bacon\", \"Beef\", \"Hamburger\", \"Ground lean\", \"Roast beef\", \"Steak\", \"Steak lean as round\", \"Corned beef\", \"Corned beef hash canned\", \"Corned beef hash Dried\", \"Pot-pie\", \"Corned beef hash Stew\", \"chicken\", \"Fried breast or leg and thigh chicken\", \"Roasted chicken\", \"Chicken livers fried\", \"Duck domestic\", \"Lamb chop broiled\", \"Leg roasted\", \"Shoulder braised\", \"Pork chop 1 thick\", \"Ham pan-broiled\", \"Ham as \", \"Ham canned spiced\", \"Pork roast\", \"Pork sausage\", \"Turkey\", \"Veal\", \"Roast\", \"Clams\", \"Cod\", \"Crab meat\", \"Fish sticks fried\", \"Flounder\", \"Haddock\", \"Halibut\", \"Herring\", \"Lobster\", \"Oysters\", \"Oyster stew\", \"Salmon\", \"Sardines\", \"Scallops\", \"Shad\", \"Shrimp\", \"Swordfish\", \"Tuna\", \"Artichoke\", \"Asparagus\", \"Beans\", \"Lima\", \"Lima dry cooked\", \"Navy baked with pork\", \"Red kidney\", \"Bean sprouts\", \"Beet greens\", \"Broccoli\", \"Brussels sprouts\", \"Sauerkraut\", \"Steamed cabbage\", \"Carrots\", \"Raw grated\", \"Strips from raw\", \"Cauliflower\", \"Celery\", \"Stalk raw\", \"Chard steamed\", \"Collards\", \"Corn\", \"cooked or canned\", \"Cucumbers\", \"Dandelion greens\", \"Eggplant\", \"Endive\", \"Kale\", \"Kohlrabi\", \"Lambs quarters steamed\", \"Lentils\", \"Lettuce\", \"Iceberg\", \"Mushrooms canned\", \"Mustard greens\", \"Okra\", \"Onions\", \"Raw green\", \"Parsley\", \"Parsnips\", \"Peas\", \"Fresh steamed peas\", \"Split cooked peas\", \"heated peas\", \"Peppers canned\", \"Peppers Raw green sweet\", \"Peppers with beef and crumbs\", \"Potatoes baked\", \"French-fried\", \"Potatoes Mashed with milk and butter\", \"Potatoes pan-tried\", \"Scalloped with cheese potatoes\", \"Steamed potatoes before peeling\", \"Potato chips\", \"Radishes\", \"Rutabagas\", \"Soybeans\", \"Spinach\", \"Squash\", \"Winter mashed\", \"Sweet potatoes\", \"Candied\", \"Tomatoes\", \"Raw 2 by 2 1/2\", \"Tomato juice\", \"Tomato catsup\", \"Turnip greens\", \"Turnips steamed\", \"Watercress stems raw\", \"Apple juice canned\", \"Apple vinegar\", \"Apples raw\", \"Stewed or canned\", \"Apricots\", \"Dried uncooked\", \"Fresh\", \"Nectar or juice\", \"Avocado\", \"Banana\", \"Blackberries\", \"Blueberries\", \"Cantaloupe\", \"Cherries\", \"Fresh raw\", \"Cranberry sauce sweetened\", \"Dates\", \"Figs\", \"Fresh raw figs\", \"figs Canned with syrup \", \"Fruit cocktail canned\", \"Grapefruit sections\", \"Grapefruit fresh 5\\\" diameter\", \"Grapefruit juice\", \"Grapes\", \"European as Muscat Tokay\", \"Grape juice\", \"Lemon juice\", \"Lemonade concentratefrozen\", \"Limeade concentrate frozen\", \"Olives large\", \"OlivesRipe\", \"Oranges 3\\\" diameter\", \"Orange juice\", \"Frozen \", \"Papaya\", \"Peaches\", \"Fresh raw\", \"Pears\", \"Raw 3 by 2V\", \"Persimmons\", \"Pineapple\", \"Pineapple Crushed\", \"Raw diced\", \"Pineapple juice\", \"Plums\", \"Raw 2\\\" diameter\", \"Prunes\", \"Prune juice\", \"Raisins\", \"Raspberries\", \"Raw red\", \"Rhubarb sweetened\", \"Strawberries\", \"Raw\", \"Tangerines\", \"Watermelon\", \"Biscuits\", \"Bran flakes\", \"Bread cracked wheat\", \"Rye\", \"White 20 slices or\", \"Whole-wheat\", \"Whole-wheat\", \"Corn bread ground meal\", \"Cornflakes\", \"Corn grits cooked\", \"Corn meal\", \"Crackers\", \"Soda 2 1/2 square\", \"Farina\", \"Flour\", \"Wheat (all purpose)\", \"Wheat (whole)\", \"Macaroni\", \"Baked with cheese\", \"Muffins\", \"Noodles\", \"Oatmeal\", \"Pancakes 4\\\" diam.\", \"Wheat pancakes 4\\\" diam.\", \"Pizza 14\\\" diam.\", \"Popcorn salted\", \"Puffed rice\", \"Puffed wheat presweetened\", \"Rice\", \"Converted\", \"White\", \"Rice flakes\", \"Rice polish\", \"Rolls\", \"of refined flour\", \"whole-wheat\", \"Spaghetti with meat sauce\", \"with tomatoes and cheese\", \"Spanish rice\", \"Shredded wheat biscuit\", \"Waffles\", \"Wheat germ\", \"Wheat-germ cereal toasted\", \"Wheat meal cereal unrefined\", \"Wheat cooked\", \"Bean soups\", \"Beef soup\", \"Bouillon\", \"chicken soup\", \"Clam chowder\", \"Cream soups\", \"Noodle\", \"Split-pea soup\", \"Tomato soup\", \"Vegetable\", \"Apple betty\", \"Bread pudding\", \"Cakes\", \"Chocolate fudge\", \"Cupcake\", \"Fruit cake\", \"Gingerbread\", \"Plain with no icing\", \"Sponge cake\", \"Candy\", \"Chocolate creams\", \"Fudge\", \"Hard candies\", \"Marshmallows\", \"Milk chocolate\", \"Chocolate syrup\", \"Doughnuts\", \"Gelatin made with water\", \"Honey\", \"Ice cream\", \"Ices\", \"preserves\", \"Jellies\", \"Molasses\", \"Cane Syrup\", \"9\\\" diam. pie\", \"Cherry Pie\", \"Custard\", \"Lemon meringue\", \"Mince\", \"Pumpkin Pie\", \"Puddings Sugar\", \"3 teaspoons sugar\", \"Brown firm-packed dark sugar\", \"Syrup\", \"table blends sugar\", \"Tapioca cream pudding\", \"Almonds\", \"roasted and salted\", \"Brazil nuts\", \"Cashews\", \"coconut sweetened\", \"Peanut butter\", \"Peanut butter natural\", \"Peanuts\", \"Pecans\", \"Sesame seeds\", \"Sunflower seeds\", \"Walnuts\", \"Beer\", \"Gin\", \"Wines\", \"Table (12.2% alcohol)\", \"Carbonated drinks Artificially sweetened\", \"Club soda\", \"Cola drinks\", \"Fruit-flavored soda\", \"Ginger ale\", \"Root beer\", \"Coffee\", \"Tea\"], \"z\": [40, 0, 5, 20, 42, 28, 0, 0, 10, 24, 11, 4, 10, 14, 18, 10, 15, 44, 11, 0, 6, 19, 11, 9, 9, 8, 12, 16, 10, 11, 115, 115, 100, 110, 91, 11, 12, 14, 14, 14, 6, 8, 8, 16, 17, 10, 36, 27, 12, 10, 8, 4, 28, 10, 9, 15, 20, 14, 28, 35, 14, 23, 21, 22, 13, 14, 24, 44, 15, 9, 14, 1, 5, 2, 10, 8, 5, 8, 13, 1, 233, 6, 5, 9, 8, 10, 1, 6, 7, 0, 0, 0, 0, 0, 6, 1, 0, 0, 0, 0, 0, 0, 0, 0, 0, 0, 0, 0, 0, 0, 1, 0, 0, 1, 0, 0, 1, 0, 0, 0, 0, 0, 0, 0, 0, 0, 0, 0, 1, 0, 0, 0, 0, 0, 0, 9, 0, 7, 12, 14, 8, 0, 7, 0, 0, 11, 0, 0, 0, 1, 6, 0, 0, 0, 0, 1, 0, 0, 0, 0, 0, 0, 0, 0, 0, 0, 18, 0, 1, 0, 0, 1, 0, 0, 0, 0, 0, 0, 0, 0, 0, 0, 0, 0, 0, 0, 0, 0, 10, 13, 0, 0, 0, 0, 0, 0, 0, 1, 0, 0, 0, 0, 0, 0, 0, 1, 0, 0, 0, 0, 0, 0, 0, 0, 1, 4, 0, 1, 1, 15, 14, 1, 4, 0, 0, 4, 1, 1, 0, 22, 1, 2, 1, 25, 5, 2, 3, 9, 9, 6, 7, 0, 0, 3, 0, 0, 0, 6, 12, 2, 1, 10, 5, 4, 1, 9, 7, 7, 1, 1, 5, 4, 0, 2, 2, 12, 4, 3, 7, 2, 4, 12, 0, 14, 3, 4, 7, 5, 2, 3, 4, 12, 0, 0, 6, 0, 7, 0, 0, 0, 0, 0, 0, 0, 0, 13, 13, 11, 12, 9, 12, 0, 0, 0, 0, 0, 10, 38, 40, 47, 32, 20, 25, 24, 25, 35, 24, 26, 32, 0, 0, 0, 0, 0, 0, 0, 0, 0, 0, 0, 0]}],\n",
       "                        {\"height\": 800, \"template\": {\"data\": {\"bar\": [{\"error_x\": {\"color\": \"#2a3f5f\"}, \"error_y\": {\"color\": \"#2a3f5f\"}, \"marker\": {\"line\": {\"color\": \"#E5ECF6\", \"width\": 0.5}}, \"type\": \"bar\"}], \"barpolar\": [{\"marker\": {\"line\": {\"color\": \"#E5ECF6\", \"width\": 0.5}}, \"type\": \"barpolar\"}], \"carpet\": [{\"aaxis\": {\"endlinecolor\": \"#2a3f5f\", \"gridcolor\": \"white\", \"linecolor\": \"white\", \"minorgridcolor\": \"white\", \"startlinecolor\": \"#2a3f5f\"}, \"baxis\": {\"endlinecolor\": \"#2a3f5f\", \"gridcolor\": \"white\", \"linecolor\": \"white\", \"minorgridcolor\": \"white\", \"startlinecolor\": \"#2a3f5f\"}, \"type\": \"carpet\"}], \"choropleth\": [{\"colorbar\": {\"outlinewidth\": 0, \"ticks\": \"\"}, \"type\": \"choropleth\"}], \"contour\": [{\"colorbar\": {\"outlinewidth\": 0, \"ticks\": \"\"}, \"colorscale\": [[0.0, \"#0d0887\"], [0.1111111111111111, \"#46039f\"], [0.2222222222222222, \"#7201a8\"], [0.3333333333333333, \"#9c179e\"], [0.4444444444444444, \"#bd3786\"], [0.5555555555555556, \"#d8576b\"], [0.6666666666666666, \"#ed7953\"], [0.7777777777777778, \"#fb9f3a\"], [0.8888888888888888, \"#fdca26\"], [1.0, \"#f0f921\"]], \"type\": \"contour\"}], \"contourcarpet\": [{\"colorbar\": {\"outlinewidth\": 0, \"ticks\": \"\"}, \"type\": \"contourcarpet\"}], \"heatmap\": [{\"colorbar\": {\"outlinewidth\": 0, \"ticks\": \"\"}, \"colorscale\": [[0.0, \"#0d0887\"], [0.1111111111111111, \"#46039f\"], [0.2222222222222222, \"#7201a8\"], [0.3333333333333333, \"#9c179e\"], [0.4444444444444444, \"#bd3786\"], [0.5555555555555556, \"#d8576b\"], [0.6666666666666666, \"#ed7953\"], [0.7777777777777778, \"#fb9f3a\"], [0.8888888888888888, \"#fdca26\"], [1.0, \"#f0f921\"]], \"type\": \"heatmap\"}], \"heatmapgl\": [{\"colorbar\": {\"outlinewidth\": 0, \"ticks\": \"\"}, \"colorscale\": [[0.0, \"#0d0887\"], [0.1111111111111111, \"#46039f\"], [0.2222222222222222, \"#7201a8\"], [0.3333333333333333, \"#9c179e\"], [0.4444444444444444, \"#bd3786\"], [0.5555555555555556, \"#d8576b\"], [0.6666666666666666, \"#ed7953\"], [0.7777777777777778, \"#fb9f3a\"], [0.8888888888888888, \"#fdca26\"], [1.0, \"#f0f921\"]], \"type\": \"heatmapgl\"}], \"histogram\": [{\"marker\": {\"colorbar\": {\"outlinewidth\": 0, \"ticks\": \"\"}}, \"type\": \"histogram\"}], \"histogram2d\": [{\"colorbar\": {\"outlinewidth\": 0, \"ticks\": \"\"}, \"colorscale\": [[0.0, \"#0d0887\"], [0.1111111111111111, \"#46039f\"], [0.2222222222222222, \"#7201a8\"], [0.3333333333333333, \"#9c179e\"], [0.4444444444444444, \"#bd3786\"], [0.5555555555555556, \"#d8576b\"], [0.6666666666666666, \"#ed7953\"], [0.7777777777777778, \"#fb9f3a\"], [0.8888888888888888, \"#fdca26\"], [1.0, \"#f0f921\"]], \"type\": \"histogram2d\"}], \"histogram2dcontour\": [{\"colorbar\": {\"outlinewidth\": 0, \"ticks\": \"\"}, \"colorscale\": [[0.0, \"#0d0887\"], [0.1111111111111111, \"#46039f\"], [0.2222222222222222, \"#7201a8\"], [0.3333333333333333, \"#9c179e\"], [0.4444444444444444, \"#bd3786\"], [0.5555555555555556, \"#d8576b\"], [0.6666666666666666, \"#ed7953\"], [0.7777777777777778, \"#fb9f3a\"], [0.8888888888888888, \"#fdca26\"], [1.0, \"#f0f921\"]], \"type\": \"histogram2dcontour\"}], \"mesh3d\": [{\"colorbar\": {\"outlinewidth\": 0, \"ticks\": \"\"}, \"type\": \"mesh3d\"}], \"parcoords\": [{\"line\": {\"colorbar\": {\"outlinewidth\": 0, \"ticks\": \"\"}}, \"type\": \"parcoords\"}], \"pie\": [{\"automargin\": true, \"type\": \"pie\"}], \"scatter\": [{\"marker\": {\"colorbar\": {\"outlinewidth\": 0, \"ticks\": \"\"}}, \"type\": \"scatter\"}], \"scatter3d\": [{\"line\": {\"colorbar\": {\"outlinewidth\": 0, \"ticks\": \"\"}}, \"marker\": {\"colorbar\": {\"outlinewidth\": 0, \"ticks\": \"\"}}, \"type\": \"scatter3d\"}], \"scattercarpet\": [{\"marker\": {\"colorbar\": {\"outlinewidth\": 0, \"ticks\": \"\"}}, \"type\": \"scattercarpet\"}], \"scattergeo\": [{\"marker\": {\"colorbar\": {\"outlinewidth\": 0, \"ticks\": \"\"}}, \"type\": \"scattergeo\"}], \"scattergl\": [{\"marker\": {\"colorbar\": {\"outlinewidth\": 0, \"ticks\": \"\"}}, \"type\": \"scattergl\"}], \"scattermapbox\": [{\"marker\": {\"colorbar\": {\"outlinewidth\": 0, \"ticks\": \"\"}}, \"type\": \"scattermapbox\"}], \"scatterpolar\": [{\"marker\": {\"colorbar\": {\"outlinewidth\": 0, \"ticks\": \"\"}}, \"type\": \"scatterpolar\"}], \"scatterpolargl\": [{\"marker\": {\"colorbar\": {\"outlinewidth\": 0, \"ticks\": \"\"}}, \"type\": \"scatterpolargl\"}], \"scatterternary\": [{\"marker\": {\"colorbar\": {\"outlinewidth\": 0, \"ticks\": \"\"}}, \"type\": \"scatterternary\"}], \"surface\": [{\"colorbar\": {\"outlinewidth\": 0, \"ticks\": \"\"}, \"colorscale\": [[0.0, \"#0d0887\"], [0.1111111111111111, \"#46039f\"], [0.2222222222222222, \"#7201a8\"], [0.3333333333333333, \"#9c179e\"], [0.4444444444444444, \"#bd3786\"], [0.5555555555555556, \"#d8576b\"], [0.6666666666666666, \"#ed7953\"], [0.7777777777777778, \"#fb9f3a\"], [0.8888888888888888, \"#fdca26\"], [1.0, \"#f0f921\"]], \"type\": \"surface\"}], \"table\": [{\"cells\": {\"fill\": {\"color\": \"#EBF0F8\"}, \"line\": {\"color\": \"white\"}}, \"header\": {\"fill\": {\"color\": \"#C8D4E3\"}, \"line\": {\"color\": \"white\"}}, \"type\": \"table\"}]}, \"layout\": {\"annotationdefaults\": {\"arrowcolor\": \"#2a3f5f\", \"arrowhead\": 0, \"arrowwidth\": 1}, \"coloraxis\": {\"colorbar\": {\"outlinewidth\": 0, \"ticks\": \"\"}}, \"colorscale\": {\"diverging\": [[0, \"#8e0152\"], [0.1, \"#c51b7d\"], [0.2, \"#de77ae\"], [0.3, \"#f1b6da\"], [0.4, \"#fde0ef\"], [0.5, \"#f7f7f7\"], [0.6, \"#e6f5d0\"], [0.7, \"#b8e186\"], [0.8, \"#7fbc41\"], [0.9, \"#4d9221\"], [1, \"#276419\"]], \"sequential\": [[0.0, \"#0d0887\"], [0.1111111111111111, \"#46039f\"], [0.2222222222222222, \"#7201a8\"], [0.3333333333333333, \"#9c179e\"], [0.4444444444444444, \"#bd3786\"], [0.5555555555555556, \"#d8576b\"], [0.6666666666666666, \"#ed7953\"], [0.7777777777777778, \"#fb9f3a\"], [0.8888888888888888, \"#fdca26\"], [1.0, \"#f0f921\"]], \"sequentialminus\": [[0.0, \"#0d0887\"], [0.1111111111111111, \"#46039f\"], [0.2222222222222222, \"#7201a8\"], [0.3333333333333333, \"#9c179e\"], [0.4444444444444444, \"#bd3786\"], [0.5555555555555556, \"#d8576b\"], [0.6666666666666666, \"#ed7953\"], [0.7777777777777778, \"#fb9f3a\"], [0.8888888888888888, \"#fdca26\"], [1.0, \"#f0f921\"]]}, \"colorway\": [\"#636efa\", \"#EF553B\", \"#00cc96\", \"#ab63fa\", \"#FFA15A\", \"#19d3f3\", \"#FF6692\", \"#B6E880\", \"#FF97FF\", \"#FECB52\"], \"font\": {\"color\": \"#2a3f5f\"}, \"geo\": {\"bgcolor\": \"white\", \"lakecolor\": \"white\", \"landcolor\": \"#E5ECF6\", \"showlakes\": true, \"showland\": true, \"subunitcolor\": \"white\"}, \"hoverlabel\": {\"align\": \"left\"}, \"hovermode\": \"closest\", \"mapbox\": {\"style\": \"light\"}, \"paper_bgcolor\": \"white\", \"plot_bgcolor\": \"#E5ECF6\", \"polar\": {\"angularaxis\": {\"gridcolor\": \"white\", \"linecolor\": \"white\", \"ticks\": \"\"}, \"bgcolor\": \"#E5ECF6\", \"radialaxis\": {\"gridcolor\": \"white\", \"linecolor\": \"white\", \"ticks\": \"\"}}, \"scene\": {\"xaxis\": {\"backgroundcolor\": \"#E5ECF6\", \"gridcolor\": \"white\", \"gridwidth\": 2, \"linecolor\": \"white\", \"showbackground\": true, \"ticks\": \"\", \"zerolinecolor\": \"white\"}, \"yaxis\": {\"backgroundcolor\": \"#E5ECF6\", \"gridcolor\": \"white\", \"gridwidth\": 2, \"linecolor\": \"white\", \"showbackground\": true, \"ticks\": \"\", \"zerolinecolor\": \"white\"}, \"zaxis\": {\"backgroundcolor\": \"#E5ECF6\", \"gridcolor\": \"white\", \"gridwidth\": 2, \"linecolor\": \"white\", \"showbackground\": true, \"ticks\": \"\", \"zerolinecolor\": \"white\"}}, \"shapedefaults\": {\"line\": {\"color\": \"#2a3f5f\"}}, \"ternary\": {\"aaxis\": {\"gridcolor\": \"white\", \"linecolor\": \"white\", \"ticks\": \"\"}, \"baxis\": {\"gridcolor\": \"white\", \"linecolor\": \"white\", \"ticks\": \"\"}, \"bgcolor\": \"#E5ECF6\", \"caxis\": {\"gridcolor\": \"white\", \"linecolor\": \"white\", \"ticks\": \"\"}}, \"title\": {\"x\": 0.05}, \"xaxis\": {\"automargin\": true, \"gridcolor\": \"white\", \"linecolor\": \"white\", \"ticks\": \"\", \"title\": {\"standoff\": 15}, \"zerolinecolor\": \"white\", \"zerolinewidth\": 2}, \"yaxis\": {\"automargin\": true, \"gridcolor\": \"white\", \"linecolor\": \"white\", \"ticks\": \"\", \"title\": {\"standoff\": 15}, \"zerolinecolor\": \"white\", \"zerolinewidth\": 2}}}, \"title\": {\"text\": \"3D Scatter Plot of Fatty foods (% Daily Value)\"}, \"width\": 800},\n",
       "                        {\"responsive\": true}\n",
       "                    ).then(function(){\n",
       "                            \n",
       "var gd = document.getElementById('7907c2d4-ab89-4d5d-8b8b-4383e29bdbdb');\n",
       "var x = new MutationObserver(function (mutations, observer) {{\n",
       "        var display = window.getComputedStyle(gd).display;\n",
       "        if (!display || display === 'none') {{\n",
       "            console.log([gd, 'removed!']);\n",
       "            Plotly.purge(gd);\n",
       "            observer.disconnect();\n",
       "        }}\n",
       "}});\n",
       "\n",
       "// Listen for the removal of the full notebook cells\n",
       "var notebookContainer = gd.closest('#notebook-container');\n",
       "if (notebookContainer) {{\n",
       "    x.observe(notebookContainer, {childList: true});\n",
       "}}\n",
       "\n",
       "// Listen for the clearing of the current output cell\n",
       "var outputEl = gd.closest('.output');\n",
       "if (outputEl) {{\n",
       "    x.observe(outputEl, {childList: true});\n",
       "}}\n",
       "\n",
       "                        })\n",
       "                };\n",
       "                });\n",
       "            </script>\n",
       "        </div>"
      ]
     },
     "metadata": {},
     "output_type": "display_data"
    }
   ],
   "source": [
    "trace1 = go.Scatter3d(\n",
    "    x=nutrients['Category'].values,\n",
    "    y=nutrients['Food'].values,\n",
    "    z=nutrients['Fat'].values,\n",
    "    text=nutrients['Food'].values,\n",
    "    mode='markers',\n",
    "    marker=dict(\n",
    "        sizemode='diameter',\n",
    "         sizeref=750,\n",
    "        color = nutrients['Fat'].values,\n",
    "        colorscale = 'Portland',\n",
    "        colorbar = dict(title = 'Total Fat (% Daily Value)'),\n",
    "        line=dict(color='rgb(255, 255, 255)')\n",
    "    )\n",
    ")\n",
    "data=[trace1]\n",
    "layout=dict(height=800, width=800, title='3D Scatter Plot of Fatty foods (% Daily Value)')\n",
    "fig=dict(data=data, layout=layout)\n",
    "py.iplot(fig, filename='3DBubble')"
   ]
  },
  {
   "cell_type": "code",
   "execution_count": 21,
   "metadata": {
    "execution": {
     "iopub.execute_input": "2020-10-11T08:43:55.662038Z",
     "iopub.status.busy": "2020-10-11T08:43:55.653090Z",
     "iopub.status.idle": "2020-10-11T08:43:55.669162Z",
     "shell.execute_reply": "2020-10-11T08:43:55.668536Z"
    },
    "papermill": {
     "duration": 0.118107,
     "end_time": "2020-10-11T08:43:55.669286",
     "exception": false,
     "start_time": "2020-10-11T08:43:55.551179",
     "status": "completed"
    },
    "tags": []
   },
   "outputs": [
    {
     "data": {
      "text/html": [
       "<div>\n",
       "        \n",
       "        \n",
       "            <div id=\"e094dc51-3343-459d-a873-aca802a97118\" class=\"plotly-graph-div\" style=\"height:800px; width:800px;\"></div>\n",
       "            <script type=\"text/javascript\">\n",
       "                require([\"plotly\"], function(Plotly) {\n",
       "                    window.PLOTLYENV=window.PLOTLYENV || {};\n",
       "                    \n",
       "                if (document.getElementById(\"e094dc51-3343-459d-a873-aca802a97118\")) {\n",
       "                    Plotly.newPlot(\n",
       "                        'e094dc51-3343-459d-a873-aca802a97118',\n",
       "                        [{\"marker\": {\"color\": [48.0, 52.0, 13.0, 24.0, 119.0, 39.0, 42.0, 42.0, 11.0, 70.0, 26.0, 13.0, 40.0, 28.0, 29.0, 32.0, 5.0, 3.0, 6.0, 6.0, 0.0, 1.0, 1.0, 0.0, 0.0, 0.0, 0.0, 1.0, 0.0, 0.0, 118.0, 118.0, 0.0, 0.0, 0.0, 0.0, 0.0, 0.0, 0.0, 0.0, 2.0, 1.0, 1.0, 0.0, 0.0, 0.0, 0.0, 0.0, 0.0, 0.0, 6.0, 0.0, 32.0, 15.0, 0.0, 0.0, 0.0, 2.3, 0.0, 0.0, 0.0, 0.0, 0.0, 0.0, 0.0, 1.0, 0.0, 0.0, 0.0, 0.0, 0.0, 2.0, 0.0, 1.0, 8.0, 0.0, 6.0, 0.0, 0.0, 0.0, 236.0, 0.0, 0.0, 0.0, 10.0, 0.0, 0.0, 0.0, 0.0, 10.0, 3.0, 6.0, 24.0, 48.0, 37.0, 42.0, 3.0, 6.0, 8.0, 12.0, 7.0, 9.0, 10.0, 10.0, 5.0, 6.0, 4.0, 1.0, 7.0, 8.0, 21.0, 41.0, 1.0, 16.0, 9.0, 2.0, 8.0, 9.0, 7.0, 38.0, 2.0, 3.0, 4.0, 6.0, 7.0, 18.0, 5.0, 0.0, 22.0, 13.0, 12.0, 21.0, 10.0, 2.0, 6.0, 24.0, 22.0, 20.0, 28.0, 33.0, 14.0, 19.0, 10.0, 2.0, 8.0, 20.0, 3.0, 8.0, 23.0, 36.0, 80.0, 9.0, 6.0, 10.0, 4.0, 8.0, 9.0, 1.0, 34.0, 3.0, 18.0, 26.0, 57.0, 50.0, 14.0, 36.0, 6.0, 23.0, 19.0, 65.0, 9.0, 26.0, 15.0, 142.0, 134.0, 30.0, 22.0, 32.0, 50.0, 44.0, 14.0, 24.0, 16.0, 26.0, 42.0, 10.0, 112.0, 108.0, 3.0, 1.0, 16.0, 25.0, 78.0, 18.0, 52.0, 10.0, 50.0, 25.0, 20.0, 26.0, 55.0, 19.0, 32.0, 50.0, 7.0, 81.0, 45.0, 82.0, 25.0, 14.0, 98.0, 60.0, 12.0, 10.0, 29.0, 18.0, 32.0, 12.0, 12.0, 229.0, 216.0, 11.0, 15.0, 25.0, 27.0, 74.0, 10.0, 8.0, 22.0, 33.0, 84.0, 79.0, 32.0, 44.0, 19.0, 37.0, 26.0, 28.0, 28.0, 23.0, 20.0, 12.0, 26.0, 154.0, 142.0, 150.0, 26.0, 28.0, 23.0, 20.0, 20.0, 35.0, 36.0, 40.0, 23.0, 30.0, 34.0, 36.0, 25.0, 35.0, 30.0, 11.0, 0.0, 10.0, 12.0, 18.0, 13.0, 25.0, 22.0, 14.0, 29.0, 56.0, 23.0, 70.0, 31.0, 17.0, 28.0, 31.0, 22.0, 19.0, 24.0, 80.0, 28.0, 23.0, 44.0, 22.0, 17.0, 36.0, 30.0, 0.0, 48.0, 14.0, 13.0, 11.0, 13.0, 53.0, 55.0, 34.0, 45.0, 62.0, 34.0, 199.0, 12.0, 210.0, 25.0, 29.0, 42.0, 13.0, 13.0, 7.0, 20.0, 26.0, 9.0, 8.0, 9.0, 7.0, 10.0, 10.0, 8.0, 8.0, 0.0, 9.0, 5.0, 0.0, 0.0, 38.0, 42.0, 28.0, 35.0, 1.0, 1.0], \"colorbar\": {\"title\": {\"text\": \"Total Fat (% Daily Value)\"}}, \"colorscale\": [[0.0, \"rgb(12,51,131)\"], [0.25, \"rgb(10,136,186)\"], [0.5, \"rgb(242,211,56)\"], [0.75, \"rgb(242,143,56)\"], [1.0, \"rgb(217,30,30)\"]], \"line\": {\"color\": \"rgb(255, 255, 255)\"}, \"sizemode\": \"diameter\", \"sizeref\": 750}, \"mode\": \"markers\", \"text\": [\"Cows' milk\", \"Milk skim\", \"Buttermilk\", \"Evaporated undiluted\", \"Fortified milk\", \"Powdered milk\", \"skim instant\", \"skim non-instant\", \"Goats' milk\", \"(1/2 cup ice cream)\", \"Cocoa\", \"skim. milk\", \"(cornstarch)\", \"Custard\", \"Ice cream\", \"Ice milk\", \"Cream or half-and-half\", \"or whipping\", \"Cheese\", \"uncreamed\", \"Cheddar\", \"Cheddar grated cup\", \"Cream cheese\", \"Processed cheese\", \"Roquefort type\", \"Swiss\", \"Eggs raw\", \"Eggs Scrambled or fried\", \"Yolks\", \"Butter\", \"Butter\", \"Butter\", \"Hydrogenated cooking fat\", \"Lard\", \"Margarine\", \"Margarine 2 pat or\", \"Mayonnaise\", \"Corn oil\", \"Olive oil\", \"Safflower seed oil\", \"French dressing\", \"Thousand Island sauce\", \"Bacon\", \"Beef\", \"Hamburger\", \"Ground lean\", \"Roast beef\", \"Steak\", \"Steak lean as round\", \"Corned beef\", \"Corned beef hash canned\", \"Corned beef hash Dried\", \"Pot-pie\", \"Corned beef hash Stew\", \"chicken\", \"Fried breast or leg and thigh chicken\", \"Roasted chicken\", \"Chicken livers fried\", \"Duck domestic\", \"Lamb chop broiled\", \"Leg roasted\", \"Shoulder braised\", \"Pork chop 1 thick\", \"Ham pan-broiled\", \"Ham as \", \"Ham canned spiced\", \"Pork roast\", \"Pork sausage\", \"Turkey\", \"Veal\", \"Roast\", \"Clams\", \"Cod\", \"Crab meat\", \"Fish sticks fried\", \"Flounder\", \"Haddock\", \"Halibut\", \"Herring\", \"Lobster\", \"Oysters\", \"Oyster stew\", \"Salmon\", \"Sardines\", \"Scallops\", \"Shad\", \"Shrimp\", \"Swordfish\", \"Tuna\", \"Artichoke\", \"Asparagus\", \"Beans\", \"Lima\", \"Lima dry cooked\", \"Navy baked with pork\", \"Red kidney\", \"Bean sprouts\", \"Beet greens\", \"Broccoli\", \"Brussels sprouts\", \"Sauerkraut\", \"Steamed cabbage\", \"Carrots\", \"Raw grated\", \"Strips from raw\", \"Cauliflower\", \"Celery\", \"Stalk raw\", \"Chard steamed\", \"Collards\", \"Corn\", \"cooked or canned\", \"Cucumbers\", \"Dandelion greens\", \"Eggplant\", \"Endive\", \"Kale\", \"Kohlrabi\", \"Lambs quarters steamed\", \"Lentils\", \"Lettuce\", \"Iceberg\", \"Mushrooms canned\", \"Mustard greens\", \"Okra\", \"Onions\", \"Raw green\", \"Parsley\", \"Parsnips\", \"Peas\", \"Fresh steamed peas\", \"Split cooked peas\", \"heated peas\", \"Peppers canned\", \"Peppers Raw green sweet\", \"Peppers with beef and crumbs\", \"Potatoes baked\", \"French-fried\", \"Potatoes Mashed with milk and butter\", \"Potatoes pan-tried\", \"Scalloped with cheese potatoes\", \"Steamed potatoes before peeling\", \"Potato chips\", \"Radishes\", \"Rutabagas\", \"Soybeans\", \"Spinach\", \"Squash\", \"Winter mashed\", \"Sweet potatoes\", \"Candied\", \"Tomatoes\", \"Raw 2 by 2 1/2\", \"Tomato juice\", \"Tomato catsup\", \"Turnip greens\", \"Turnips steamed\", \"Watercress stems raw\", \"Apple juice canned\", \"Apple vinegar\", \"Apples raw\", \"Stewed or canned\", \"Apricots\", \"Dried uncooked\", \"Fresh\", \"Nectar or juice\", \"Avocado\", \"Banana\", \"Blackberries\", \"Blueberries\", \"Cantaloupe\", \"Cherries\", \"Fresh raw\", \"Cranberry sauce sweetened\", \"Dates\", \"Figs\", \"Fresh raw figs\", \"figs Canned with syrup \", \"Fruit cocktail canned\", \"Grapefruit sections\", \"Grapefruit fresh 5\\\" diameter\", \"Grapefruit juice\", \"Grapes\", \"European as Muscat Tokay\", \"Grape juice\", \"Lemon juice\", \"Lemonade concentratefrozen\", \"Limeade concentrate frozen\", \"Olives large\", \"OlivesRipe\", \"Oranges 3\\\" diameter\", \"Orange juice\", \"Frozen \", \"Papaya\", \"Peaches\", \"Fresh raw\", \"Pears\", \"Raw 3 by 2V\", \"Persimmons\", \"Pineapple\", \"Pineapple Crushed\", \"Raw diced\", \"Pineapple juice\", \"Plums\", \"Raw 2\\\" diameter\", \"Prunes\", \"Prune juice\", \"Raisins\", \"Raspberries\", \"Raw red\", \"Rhubarb sweetened\", \"Strawberries\", \"Raw\", \"Tangerines\", \"Watermelon\", \"Biscuits\", \"Bran flakes\", \"Bread cracked wheat\", \"Rye\", \"White 20 slices or\", \"Whole-wheat\", \"Whole-wheat\", \"Corn bread ground meal\", \"Cornflakes\", \"Corn grits cooked\", \"Corn meal\", \"Crackers\", \"Soda 2 1/2 square\", \"Farina\", \"Flour\", \"Wheat (all purpose)\", \"Wheat (whole)\", \"Macaroni\", \"Baked with cheese\", \"Muffins\", \"Noodles\", \"Oatmeal\", \"Pancakes 4\\\" diam.\", \"Wheat pancakes 4\\\" diam.\", \"Pizza 14\\\" diam.\", \"Popcorn salted\", \"Puffed rice\", \"Puffed wheat presweetened\", \"Rice\", \"Converted\", \"White\", \"Rice flakes\", \"Rice polish\", \"Rolls\", \"of refined flour\", \"whole-wheat\", \"Spaghetti with meat sauce\", \"with tomatoes and cheese\", \"Spanish rice\", \"Shredded wheat biscuit\", \"Waffles\", \"Wheat germ\", \"Wheat-germ cereal toasted\", \"Wheat meal cereal unrefined\", \"Wheat cooked\", \"Bean soups\", \"Beef soup\", \"Bouillon\", \"chicken soup\", \"Clam chowder\", \"Cream soups\", \"Noodle\", \"Split-pea soup\", \"Tomato soup\", \"Vegetable\", \"Apple betty\", \"Bread pudding\", \"Cakes\", \"Chocolate fudge\", \"Cupcake\", \"Fruit cake\", \"Gingerbread\", \"Plain with no icing\", \"Sponge cake\", \"Candy\", \"Chocolate creams\", \"Fudge\", \"Hard candies\", \"Marshmallows\", \"Milk chocolate\", \"Chocolate syrup\", \"Doughnuts\", \"Gelatin made with water\", \"Honey\", \"Ice cream\", \"Ices\", \"preserves\", \"Jellies\", \"Molasses\", \"Cane Syrup\", \"9\\\" diam. pie\", \"Cherry Pie\", \"Custard\", \"Lemon meringue\", \"Mince\", \"Pumpkin Pie\", \"Puddings Sugar\", \"3 teaspoons sugar\", \"Brown firm-packed dark sugar\", \"Syrup\", \"table blends sugar\", \"Tapioca cream pudding\", \"Almonds\", \"roasted and salted\", \"Brazil nuts\", \"Cashews\", \"coconut sweetened\", \"Peanut butter\", \"Peanut butter natural\", \"Peanuts\", \"Pecans\", \"Sesame seeds\", \"Sunflower seeds\", \"Walnuts\", \"Beer\", \"Gin\", \"Wines\", \"Table (12.2% alcohol)\", \"Carbonated drinks Artificially sweetened\", \"Club soda\", \"Cola drinks\", \"Fruit-flavored soda\", \"Ginger ale\", \"Root beer\", \"Coffee\", \"Tea\"], \"type\": \"scatter3d\", \"x\": [\"Dairy products\", \"Dairy products\", \"Dairy products\", \"Dairy products\", \"Dairy products\", \"Dairy products\", \"Dairy products\", \"Dairy products\", \"Dairy products\", \"Dairy products\", \"Dairy products\", \"Dairy products\", \"Dairy products\", \"Dairy products\", \"Dairy products\", \"Dairy products\", \"Dairy products\", \"Dairy products\", \"Dairy products\", \"Dairy products\", \"Dairy products\", \"Dairy products\", \"Dairy products\", \"Dairy products\", \"Dairy products\", \"Dairy products\", \"Dairy products\", \"Dairy products\", \"Fats Oils Shortenings\", \"Fats Oils Shortenings\", \"Fats Oils Shortenings\", \"Fats Oils Shortenings\", \"Fats Oils Shortenings\", \"Fats Oils Shortenings\", \"Fats Oils Shortenings\", \"Fats Oils Shortenings\", \"Fats Oils Shortenings\", \"Fats Oils Shortenings\", \"Fats Oils Shortenings\", \"Fats Oils Shortenings\", \"Fats Oils Shortenings\", \"Fats Oils Shortenings\", \"Meat Poultry\", \"Meat Poultry\", \"Meat Poultry\", \"Meat Poultry\", \"Meat Poultry\", \"Meat Poultry\", \"Meat Poultry\", \"Meat Poultry\", \"Meat Poultry\", \"Meat Poultry\", \"Meat Poultry\", \"Meat Poultry\", \"Meat Poultry\", \"Meat Poultry\", \"Meat Poultry\", \"Meat Poultry\", \"Meat Poultry\", \"Meat Poultry\", \"Meat Poultry\", \"Meat Poultry\", \"Meat Poultry\", \"Meat Poultry\", \"Meat Poultry\", \"Meat Poultry\", \"Meat Poultry\", \"Meat Poultry\", \"Meat Poultry\", \"Meat Poultry\", \"Meat Poultry\", \"Fish Seafood\", \"Fish Seafood\", \"Fish Seafood\", \"Fish Seafood\", \"Fish Seafood\", \"Fish Seafood\", \"Fish Seafood\", \"Fish Seafood\", \"Fish Seafood\", \"Fish Seafood\", \"Fish Seafood\", \"Fish Seafood\", \"Fish Seafood\", \"Fish Seafood\", \"Fish Seafood\", \"Fish Seafood\", \"Fish Seafood\", \"Fish Seafood\", \"Vegetables A-E\", \"Vegetables A-E\", \"Vegetables A-E\", \"Vegetables A-E\", \"Vegetables A-E\", \"Vegetables A-E\", \"Vegetables A-E\", \"Vegetables A-E\", \"Vegetables A-E\", \"Vegetables A-E\", \"Vegetables A-E\", \"Vegetables A-E\", \"Vegetables A-E\", \"Vegetables A-E\", \"Vegetables A-E\", \"Vegetables A-E\", \"Vegetables A-E\", \"Vegetables A-E\", \"Vegetables A-E\", \"Vegetables A-E\", \"Vegetables A-E\", \"Vegetables A-E\", \"Vegetables A-E\", \"Vegetables A-E\", \"Vegetables A-E\", \"Vegetables A-E\", \"Vegetables A-E\", \"Vegetables F-P\", \"Vegetables F-P\", \"Vegetables F-P\", \"Vegetables F-P\", \"Vegetables F-P\", \"Vegetables F-P\", \"Vegetables F-P\", \"Vegetables F-P\", \"Vegetables F-P\", \"Vegetables F-P\", \"Vegetables F-P\", \"Vegetables F-P\", \"Vegetables F-P\", \"Vegetables F-P\", \"Vegetables R-Z\", \"Vegetables R-Z\", \"Vegetables R-Z\", \"Vegetables R-Z\", \"Vegetables R-Z\", \"Vegetables R-Z\", \"Vegetables R-Z\", \"Vegetables R-Z\", \"Vegetables R-Z\", \"Vegetables R-Z\", \"Vegetables R-Z\", \"Vegetables R-Z\", \"Vegetables R-Z\", \"Vegetables R-Z\", \"Vegetables R-Z\", \"Vegetables R-Z\", \"Vegetables R-Z\", \"Vegetables R-Z\", \"Vegetables R-Z\", \"Vegetables R-Z\", \"Vegetables R-Z\", \"Vegetables R-Z\", \"Vegetables R-Z\", \"Vegetables R-Z\", \"Vegetables R-Z\", \"Vegetables R-Z\", \"Vegetables R-Z\", \"Fruits A-F\", \"Fruits A-F\", \"Fruits A-F\", \"Fruits A-F\", \"Fruits A-F\", \"Fruits A-F\", \"Fruits A-F\", \"Fruits A-F\", \"Fruits A-F\", \"Fruits A-F\", \"Fruits A-F\", \"Fruits A-F\", \"Fruits A-F\", \"Fruits A-F\", \"Fruits A-F\", \"Fruits A-F\", \"Fruits A-F\", \"Fruits A-F\", \"Fruits A-F\", \"Fruits A-F\", \"Fruits A-F\", \"Fruits A-F\", \"Fruits G-P\", \"Fruits G-P\", \"Fruits G-P\", \"Fruits G-P\", \"Fruits G-P\", \"Fruits G-P\", \"Fruits G-P\", \"Fruits G-P\", \"Fruits G-P\", \"Fruits G-P\", \"Fruits G-P\", \"Fruits G-P\", \"Fruits G-P\", \"Fruits G-P\", \"Fruits G-P\", \"Fruits G-P\", \"Fruits G-P\", \"Fruits G-P\", \"Fruits G-P\", \"Fruits G-P\", \"Fruits G-P\", \"Fruits G-P\", \"Fruits G-P\", \"Fruits G-P\", \"Fruits G-P\", \"Fruits G-P\", \"Fruits G-P\", \"Fruits G-P\", \"Fruits R-Z\", \"Fruits R-Z\", \"Fruits R-Z\", \"Fruits R-Z\", \"Fruits R-Z\", \"Fruits R-Z\", \"Fruits R-Z\", \"Fruits R-Z\", \"Breads cereals fastfoodgrains\", \"Breads cereals fastfoodgrains\", \"Breads cereals fastfoodgrains\", \"Breads cereals fastfoodgrains\", \"Breads cereals fastfoodgrains\", \"Breads cereals fastfoodgrains\", \"Breads cereals fastfoodgrains\", \"Breads cereals fastfoodgrains\", \"Breads cereals fastfoodgrains\", \"Breads cereals fastfoodgrains\", \"Breads cereals fastfoodgrains\", \"Breads cereals fastfoodgrains\", \"Breads cereals fastfoodgrains\", \"Breads cereals fastfoodgrains\", \"Breads cereals fastfoodgrains\", \"Breads cereals fastfoodgrains\", \"Breads cereals fastfoodgrains\", \"Breads cereals fastfoodgrains\", \"Breads cereals fastfoodgrains\", \"Breads cereals fastfoodgrains\", \"Breads cereals fastfoodgrains\", \"Breads cereals fastfoodgrains\", \"Breads cereals fastfoodgrains\", \"Breads cereals fastfoodgrains\", \"Breads cereals fastfoodgrains\", \"Breads cereals fastfoodgrains\", \"Breads cereals fastfoodgrains\", \"Breads cereals fastfoodgrains\", \"Breads cereals fastfoodgrains\", \"Breads cereals fastfoodgrains\", \"Breads cereals fastfoodgrains\", \"Breads cereals fastfoodgrains\", \"Breads cereals fastfoodgrains\", \"Breads cereals fastfoodgrains\", \"Breads cereals fastfoodgrains\", \"Breads cereals fastfoodgrains\", \"Breads cereals fastfoodgrains\", \"Breads cereals fastfoodgrains\", \"Breads cereals fastfoodgrains\", \"Breads cereals fastfoodgrains\", \"Breads cereals fastfoodgrains\", \"Breads cereals fastfoodgrains\", \"Breads cereals fastfoodgrains\", \"Breads cereals fastfoodgrains\", \"Breads cereals fastfoodgrains\", \"Soups\", \"Soups\", \"Soups\", \"Soups\", \"Soups\", \"Soups\", \"Soups\", \"Soups\", \"Soups\", \"Soups\", \"Desserts sweets\", \"Desserts sweets\", \"Desserts sweets\", \"Desserts sweets\", \"Desserts sweets\", \"Desserts sweets\", \"Desserts sweets\", \"Desserts sweets\", \"Desserts sweets\", \"Desserts sweets\", \"Desserts sweets\", \"Desserts sweets\", \"Desserts sweets\", \"Desserts sweets\", \"Desserts sweets\", \"Desserts sweets\", \"Desserts sweets\", \"Desserts sweets\", \"Jams Jellies\", \"Desserts sweets\", \"Desserts sweets\", \"Jams Jellies\", \"Jams Jellies\", \"Jams Jellies\", \"Jams Jellies\", \"Desserts sweets\", \"Desserts sweets\", \"Desserts sweets\", \"Desserts sweets\", \"Desserts sweets\", \"Desserts sweets\", \"Desserts sweets\", \"Desserts sweets\", \"Jams Jellies\", \"Jams Jellies\", \"Jams Jellies\", \"Desserts sweets\", \"Seeds and Nuts\", \"Seeds and Nuts\", \"Seeds and Nuts\", \"Seeds and Nuts\", \"Seeds and Nuts\", \"Seeds and Nuts\", \"Seeds and Nuts\", \"Seeds and Nuts\", \"Seeds and Nuts\", \"Seeds and Nuts\", \"Seeds and Nuts\", \"Seeds and Nuts\", \"DrinksAlcohol Beverages\", \"DrinksAlcohol Beverages\", \"DrinksAlcohol Beverages\", \"DrinksAlcohol Beverages\", \"DrinksAlcohol Beverages\", \"DrinksAlcohol Beverages\", \"DrinksAlcohol Beverages\", \"DrinksAlcohol Beverages\", \"DrinksAlcohol Beverages\", \"DrinksAlcohol Beverages\", \"DrinksAlcohol Beverages\", \"DrinksAlcohol Beverages\"], \"y\": [\"Cows' milk\", \"Milk skim\", \"Buttermilk\", \"Evaporated undiluted\", \"Fortified milk\", \"Powdered milk\", \"skim instant\", \"skim non-instant\", \"Goats' milk\", \"(1/2 cup ice cream)\", \"Cocoa\", \"skim. milk\", \"(cornstarch)\", \"Custard\", \"Ice cream\", \"Ice milk\", \"Cream or half-and-half\", \"or whipping\", \"Cheese\", \"uncreamed\", \"Cheddar\", \"Cheddar grated cup\", \"Cream cheese\", \"Processed cheese\", \"Roquefort type\", \"Swiss\", \"Eggs raw\", \"Eggs Scrambled or fried\", \"Yolks\", \"Butter\", \"Butter\", \"Butter\", \"Hydrogenated cooking fat\", \"Lard\", \"Margarine\", \"Margarine 2 pat or\", \"Mayonnaise\", \"Corn oil\", \"Olive oil\", \"Safflower seed oil\", \"French dressing\", \"Thousand Island sauce\", \"Bacon\", \"Beef\", \"Hamburger\", \"Ground lean\", \"Roast beef\", \"Steak\", \"Steak lean as round\", \"Corned beef\", \"Corned beef hash canned\", \"Corned beef hash Dried\", \"Pot-pie\", \"Corned beef hash Stew\", \"chicken\", \"Fried breast or leg and thigh chicken\", \"Roasted chicken\", \"Chicken livers fried\", \"Duck domestic\", \"Lamb chop broiled\", \"Leg roasted\", \"Shoulder braised\", \"Pork chop 1 thick\", \"Ham pan-broiled\", \"Ham as \", \"Ham canned spiced\", \"Pork roast\", \"Pork sausage\", \"Turkey\", \"Veal\", \"Roast\", \"Clams\", \"Cod\", \"Crab meat\", \"Fish sticks fried\", \"Flounder\", \"Haddock\", \"Halibut\", \"Herring\", \"Lobster\", \"Oysters\", \"Oyster stew\", \"Salmon\", \"Sardines\", \"Scallops\", \"Shad\", \"Shrimp\", \"Swordfish\", \"Tuna\", \"Artichoke\", \"Asparagus\", \"Beans\", \"Lima\", \"Lima dry cooked\", \"Navy baked with pork\", \"Red kidney\", \"Bean sprouts\", \"Beet greens\", \"Broccoli\", \"Brussels sprouts\", \"Sauerkraut\", \"Steamed cabbage\", \"Carrots\", \"Raw grated\", \"Strips from raw\", \"Cauliflower\", \"Celery\", \"Stalk raw\", \"Chard steamed\", \"Collards\", \"Corn\", \"cooked or canned\", \"Cucumbers\", \"Dandelion greens\", \"Eggplant\", \"Endive\", \"Kale\", \"Kohlrabi\", \"Lambs quarters steamed\", \"Lentils\", \"Lettuce\", \"Iceberg\", \"Mushrooms canned\", \"Mustard greens\", \"Okra\", \"Onions\", \"Raw green\", \"Parsley\", \"Parsnips\", \"Peas\", \"Fresh steamed peas\", \"Split cooked peas\", \"heated peas\", \"Peppers canned\", \"Peppers Raw green sweet\", \"Peppers with beef and crumbs\", \"Potatoes baked\", \"French-fried\", \"Potatoes Mashed with milk and butter\", \"Potatoes pan-tried\", \"Scalloped with cheese potatoes\", \"Steamed potatoes before peeling\", \"Potato chips\", \"Radishes\", \"Rutabagas\", \"Soybeans\", \"Spinach\", \"Squash\", \"Winter mashed\", \"Sweet potatoes\", \"Candied\", \"Tomatoes\", \"Raw 2 by 2 1/2\", \"Tomato juice\", \"Tomato catsup\", \"Turnip greens\", \"Turnips steamed\", \"Watercress stems raw\", \"Apple juice canned\", \"Apple vinegar\", \"Apples raw\", \"Stewed or canned\", \"Apricots\", \"Dried uncooked\", \"Fresh\", \"Nectar or juice\", \"Avocado\", \"Banana\", \"Blackberries\", \"Blueberries\", \"Cantaloupe\", \"Cherries\", \"Fresh raw\", \"Cranberry sauce sweetened\", \"Dates\", \"Figs\", \"Fresh raw figs\", \"figs Canned with syrup \", \"Fruit cocktail canned\", \"Grapefruit sections\", \"Grapefruit fresh 5\\\" diameter\", \"Grapefruit juice\", \"Grapes\", \"European as Muscat Tokay\", \"Grape juice\", \"Lemon juice\", \"Lemonade concentratefrozen\", \"Limeade concentrate frozen\", \"Olives large\", \"OlivesRipe\", \"Oranges 3\\\" diameter\", \"Orange juice\", \"Frozen \", \"Papaya\", \"Peaches\", \"Fresh raw\", \"Pears\", \"Raw 3 by 2V\", \"Persimmons\", \"Pineapple\", \"Pineapple Crushed\", \"Raw diced\", \"Pineapple juice\", \"Plums\", \"Raw 2\\\" diameter\", \"Prunes\", \"Prune juice\", \"Raisins\", \"Raspberries\", \"Raw red\", \"Rhubarb sweetened\", \"Strawberries\", \"Raw\", \"Tangerines\", \"Watermelon\", \"Biscuits\", \"Bran flakes\", \"Bread cracked wheat\", \"Rye\", \"White 20 slices or\", \"Whole-wheat\", \"Whole-wheat\", \"Corn bread ground meal\", \"Cornflakes\", \"Corn grits cooked\", \"Corn meal\", \"Crackers\", \"Soda 2 1/2 square\", \"Farina\", \"Flour\", \"Wheat (all purpose)\", \"Wheat (whole)\", \"Macaroni\", \"Baked with cheese\", \"Muffins\", \"Noodles\", \"Oatmeal\", \"Pancakes 4\\\" diam.\", \"Wheat pancakes 4\\\" diam.\", \"Pizza 14\\\" diam.\", \"Popcorn salted\", \"Puffed rice\", \"Puffed wheat presweetened\", \"Rice\", \"Converted\", \"White\", \"Rice flakes\", \"Rice polish\", \"Rolls\", \"of refined flour\", \"whole-wheat\", \"Spaghetti with meat sauce\", \"with tomatoes and cheese\", \"Spanish rice\", \"Shredded wheat biscuit\", \"Waffles\", \"Wheat germ\", \"Wheat-germ cereal toasted\", \"Wheat meal cereal unrefined\", \"Wheat cooked\", \"Bean soups\", \"Beef soup\", \"Bouillon\", \"chicken soup\", \"Clam chowder\", \"Cream soups\", \"Noodle\", \"Split-pea soup\", \"Tomato soup\", \"Vegetable\", \"Apple betty\", \"Bread pudding\", \"Cakes\", \"Chocolate fudge\", \"Cupcake\", \"Fruit cake\", \"Gingerbread\", \"Plain with no icing\", \"Sponge cake\", \"Candy\", \"Chocolate creams\", \"Fudge\", \"Hard candies\", \"Marshmallows\", \"Milk chocolate\", \"Chocolate syrup\", \"Doughnuts\", \"Gelatin made with water\", \"Honey\", \"Ice cream\", \"Ices\", \"preserves\", \"Jellies\", \"Molasses\", \"Cane Syrup\", \"9\\\" diam. pie\", \"Cherry Pie\", \"Custard\", \"Lemon meringue\", \"Mince\", \"Pumpkin Pie\", \"Puddings Sugar\", \"3 teaspoons sugar\", \"Brown firm-packed dark sugar\", \"Syrup\", \"table blends sugar\", \"Tapioca cream pudding\", \"Almonds\", \"roasted and salted\", \"Brazil nuts\", \"Cashews\", \"coconut sweetened\", \"Peanut butter\", \"Peanut butter natural\", \"Peanuts\", \"Pecans\", \"Sesame seeds\", \"Sunflower seeds\", \"Walnuts\", \"Beer\", \"Gin\", \"Wines\", \"Table (12.2% alcohol)\", \"Carbonated drinks Artificially sweetened\", \"Club soda\", \"Cola drinks\", \"Fruit-flavored soda\", \"Ginger ale\", \"Root beer\", \"Coffee\", \"Tea\"], \"z\": [48.0, 52.0, 13.0, 24.0, 119.0, 39.0, 42.0, 42.0, 11.0, 70.0, 26.0, 13.0, 40.0, 28.0, 29.0, 32.0, 5.0, 3.0, 6.0, 6.0, 0.0, 1.0, 1.0, 0.0, 0.0, 0.0, 0.0, 1.0, 0.0, 0.0, 118.0, 118.0, 0.0, 0.0, 0.0, 0.0, 0.0, 0.0, 0.0, 0.0, 2.0, 1.0, 1.0, 0.0, 0.0, 0.0, 0.0, 0.0, 0.0, 0.0, 6.0, 0.0, 32.0, 15.0, 0.0, 0.0, 0.0, 2.3, 0.0, 0.0, 0.0, 0.0, 0.0, 0.0, 0.0, 1.0, 0.0, 0.0, 0.0, 0.0, 0.0, 2.0, 0.0, 1.0, 8.0, 0.0, 6.0, 0.0, 0.0, 0.0, 236.0, 0.0, 0.0, 0.0, 10.0, 0.0, 0.0, 0.0, 0.0, 10.0, 3.0, 6.0, 24.0, 48.0, 37.0, 42.0, 3.0, 6.0, 8.0, 12.0, 7.0, 9.0, 10.0, 10.0, 5.0, 6.0, 4.0, 1.0, 7.0, 8.0, 21.0, 41.0, 1.0, 16.0, 9.0, 2.0, 8.0, 9.0, 7.0, 38.0, 2.0, 3.0, 4.0, 6.0, 7.0, 18.0, 5.0, 0.0, 22.0, 13.0, 12.0, 21.0, 10.0, 2.0, 6.0, 24.0, 22.0, 20.0, 28.0, 33.0, 14.0, 19.0, 10.0, 2.0, 8.0, 20.0, 3.0, 8.0, 23.0, 36.0, 80.0, 9.0, 6.0, 10.0, 4.0, 8.0, 9.0, 1.0, 34.0, 3.0, 18.0, 26.0, 57.0, 50.0, 14.0, 36.0, 6.0, 23.0, 19.0, 65.0, 9.0, 26.0, 15.0, 142.0, 134.0, 30.0, 22.0, 32.0, 50.0, 44.0, 14.0, 24.0, 16.0, 26.0, 42.0, 10.0, 112.0, 108.0, 3.0, 1.0, 16.0, 25.0, 78.0, 18.0, 52.0, 10.0, 50.0, 25.0, 20.0, 26.0, 55.0, 19.0, 32.0, 50.0, 7.0, 81.0, 45.0, 82.0, 25.0, 14.0, 98.0, 60.0, 12.0, 10.0, 29.0, 18.0, 32.0, 12.0, 12.0, 229.0, 216.0, 11.0, 15.0, 25.0, 27.0, 74.0, 10.0, 8.0, 22.0, 33.0, 84.0, 79.0, 32.0, 44.0, 19.0, 37.0, 26.0, 28.0, 28.0, 23.0, 20.0, 12.0, 26.0, 154.0, 142.0, 150.0, 26.0, 28.0, 23.0, 20.0, 20.0, 35.0, 36.0, 40.0, 23.0, 30.0, 34.0, 36.0, 25.0, 35.0, 30.0, 11.0, 0.0, 10.0, 12.0, 18.0, 13.0, 25.0, 22.0, 14.0, 29.0, 56.0, 23.0, 70.0, 31.0, 17.0, 28.0, 31.0, 22.0, 19.0, 24.0, 80.0, 28.0, 23.0, 44.0, 22.0, 17.0, 36.0, 30.0, 0.0, 48.0, 14.0, 13.0, 11.0, 13.0, 53.0, 55.0, 34.0, 45.0, 62.0, 34.0, 199.0, 12.0, 210.0, 25.0, 29.0, 42.0, 13.0, 13.0, 7.0, 20.0, 26.0, 9.0, 8.0, 9.0, 7.0, 10.0, 10.0, 8.0, 8.0, 0.0, 9.0, 5.0, 0.0, 0.0, 38.0, 42.0, 28.0, 35.0, 1.0, 1.0]}],\n",
       "                        {\"height\": 800, \"template\": {\"data\": {\"bar\": [{\"error_x\": {\"color\": \"#2a3f5f\"}, \"error_y\": {\"color\": \"#2a3f5f\"}, \"marker\": {\"line\": {\"color\": \"#E5ECF6\", \"width\": 0.5}}, \"type\": \"bar\"}], \"barpolar\": [{\"marker\": {\"line\": {\"color\": \"#E5ECF6\", \"width\": 0.5}}, \"type\": \"barpolar\"}], \"carpet\": [{\"aaxis\": {\"endlinecolor\": \"#2a3f5f\", \"gridcolor\": \"white\", \"linecolor\": \"white\", \"minorgridcolor\": \"white\", \"startlinecolor\": \"#2a3f5f\"}, \"baxis\": {\"endlinecolor\": \"#2a3f5f\", \"gridcolor\": \"white\", \"linecolor\": \"white\", \"minorgridcolor\": \"white\", \"startlinecolor\": \"#2a3f5f\"}, \"type\": \"carpet\"}], \"choropleth\": [{\"colorbar\": {\"outlinewidth\": 0, \"ticks\": \"\"}, \"type\": \"choropleth\"}], \"contour\": [{\"colorbar\": {\"outlinewidth\": 0, \"ticks\": \"\"}, \"colorscale\": [[0.0, \"#0d0887\"], [0.1111111111111111, \"#46039f\"], [0.2222222222222222, \"#7201a8\"], [0.3333333333333333, \"#9c179e\"], [0.4444444444444444, \"#bd3786\"], [0.5555555555555556, \"#d8576b\"], [0.6666666666666666, \"#ed7953\"], [0.7777777777777778, \"#fb9f3a\"], [0.8888888888888888, \"#fdca26\"], [1.0, \"#f0f921\"]], \"type\": \"contour\"}], \"contourcarpet\": [{\"colorbar\": {\"outlinewidth\": 0, \"ticks\": \"\"}, \"type\": \"contourcarpet\"}], \"heatmap\": [{\"colorbar\": {\"outlinewidth\": 0, \"ticks\": \"\"}, \"colorscale\": [[0.0, \"#0d0887\"], [0.1111111111111111, \"#46039f\"], [0.2222222222222222, \"#7201a8\"], [0.3333333333333333, \"#9c179e\"], [0.4444444444444444, \"#bd3786\"], [0.5555555555555556, \"#d8576b\"], [0.6666666666666666, \"#ed7953\"], [0.7777777777777778, \"#fb9f3a\"], [0.8888888888888888, \"#fdca26\"], [1.0, \"#f0f921\"]], \"type\": \"heatmap\"}], \"heatmapgl\": [{\"colorbar\": {\"outlinewidth\": 0, \"ticks\": \"\"}, \"colorscale\": [[0.0, \"#0d0887\"], [0.1111111111111111, \"#46039f\"], [0.2222222222222222, \"#7201a8\"], [0.3333333333333333, \"#9c179e\"], [0.4444444444444444, \"#bd3786\"], [0.5555555555555556, \"#d8576b\"], [0.6666666666666666, \"#ed7953\"], [0.7777777777777778, \"#fb9f3a\"], [0.8888888888888888, \"#fdca26\"], [1.0, \"#f0f921\"]], \"type\": \"heatmapgl\"}], \"histogram\": [{\"marker\": {\"colorbar\": {\"outlinewidth\": 0, \"ticks\": \"\"}}, \"type\": \"histogram\"}], \"histogram2d\": [{\"colorbar\": {\"outlinewidth\": 0, \"ticks\": \"\"}, \"colorscale\": [[0.0, \"#0d0887\"], [0.1111111111111111, \"#46039f\"], [0.2222222222222222, \"#7201a8\"], [0.3333333333333333, \"#9c179e\"], [0.4444444444444444, \"#bd3786\"], [0.5555555555555556, \"#d8576b\"], [0.6666666666666666, \"#ed7953\"], [0.7777777777777778, \"#fb9f3a\"], [0.8888888888888888, \"#fdca26\"], [1.0, \"#f0f921\"]], \"type\": \"histogram2d\"}], \"histogram2dcontour\": [{\"colorbar\": {\"outlinewidth\": 0, \"ticks\": \"\"}, \"colorscale\": [[0.0, \"#0d0887\"], [0.1111111111111111, \"#46039f\"], [0.2222222222222222, \"#7201a8\"], [0.3333333333333333, \"#9c179e\"], [0.4444444444444444, \"#bd3786\"], [0.5555555555555556, \"#d8576b\"], [0.6666666666666666, \"#ed7953\"], [0.7777777777777778, \"#fb9f3a\"], [0.8888888888888888, \"#fdca26\"], [1.0, \"#f0f921\"]], \"type\": \"histogram2dcontour\"}], \"mesh3d\": [{\"colorbar\": {\"outlinewidth\": 0, \"ticks\": \"\"}, \"type\": \"mesh3d\"}], \"parcoords\": [{\"line\": {\"colorbar\": {\"outlinewidth\": 0, \"ticks\": \"\"}}, \"type\": \"parcoords\"}], \"pie\": [{\"automargin\": true, \"type\": \"pie\"}], \"scatter\": [{\"marker\": {\"colorbar\": {\"outlinewidth\": 0, \"ticks\": \"\"}}, \"type\": \"scatter\"}], \"scatter3d\": [{\"line\": {\"colorbar\": {\"outlinewidth\": 0, \"ticks\": \"\"}}, \"marker\": {\"colorbar\": {\"outlinewidth\": 0, \"ticks\": \"\"}}, \"type\": \"scatter3d\"}], \"scattercarpet\": [{\"marker\": {\"colorbar\": {\"outlinewidth\": 0, \"ticks\": \"\"}}, \"type\": \"scattercarpet\"}], \"scattergeo\": [{\"marker\": {\"colorbar\": {\"outlinewidth\": 0, \"ticks\": \"\"}}, \"type\": \"scattergeo\"}], \"scattergl\": [{\"marker\": {\"colorbar\": {\"outlinewidth\": 0, \"ticks\": \"\"}}, \"type\": \"scattergl\"}], \"scattermapbox\": [{\"marker\": {\"colorbar\": {\"outlinewidth\": 0, \"ticks\": \"\"}}, \"type\": \"scattermapbox\"}], \"scatterpolar\": [{\"marker\": {\"colorbar\": {\"outlinewidth\": 0, \"ticks\": \"\"}}, \"type\": \"scatterpolar\"}], \"scatterpolargl\": [{\"marker\": {\"colorbar\": {\"outlinewidth\": 0, \"ticks\": \"\"}}, \"type\": \"scatterpolargl\"}], \"scatterternary\": [{\"marker\": {\"colorbar\": {\"outlinewidth\": 0, \"ticks\": \"\"}}, \"type\": \"scatterternary\"}], \"surface\": [{\"colorbar\": {\"outlinewidth\": 0, \"ticks\": \"\"}, \"colorscale\": [[0.0, \"#0d0887\"], [0.1111111111111111, \"#46039f\"], [0.2222222222222222, \"#7201a8\"], [0.3333333333333333, \"#9c179e\"], [0.4444444444444444, \"#bd3786\"], [0.5555555555555556, \"#d8576b\"], [0.6666666666666666, \"#ed7953\"], [0.7777777777777778, \"#fb9f3a\"], [0.8888888888888888, \"#fdca26\"], [1.0, \"#f0f921\"]], \"type\": \"surface\"}], \"table\": [{\"cells\": {\"fill\": {\"color\": \"#EBF0F8\"}, \"line\": {\"color\": \"white\"}}, \"header\": {\"fill\": {\"color\": \"#C8D4E3\"}, \"line\": {\"color\": \"white\"}}, \"type\": \"table\"}]}, \"layout\": {\"annotationdefaults\": {\"arrowcolor\": \"#2a3f5f\", \"arrowhead\": 0, \"arrowwidth\": 1}, \"coloraxis\": {\"colorbar\": {\"outlinewidth\": 0, \"ticks\": \"\"}}, \"colorscale\": {\"diverging\": [[0, \"#8e0152\"], [0.1, \"#c51b7d\"], [0.2, \"#de77ae\"], [0.3, \"#f1b6da\"], [0.4, \"#fde0ef\"], [0.5, \"#f7f7f7\"], [0.6, \"#e6f5d0\"], [0.7, \"#b8e186\"], [0.8, \"#7fbc41\"], [0.9, \"#4d9221\"], [1, \"#276419\"]], \"sequential\": [[0.0, \"#0d0887\"], [0.1111111111111111, \"#46039f\"], [0.2222222222222222, \"#7201a8\"], [0.3333333333333333, \"#9c179e\"], [0.4444444444444444, \"#bd3786\"], [0.5555555555555556, \"#d8576b\"], [0.6666666666666666, \"#ed7953\"], [0.7777777777777778, \"#fb9f3a\"], [0.8888888888888888, \"#fdca26\"], [1.0, \"#f0f921\"]], \"sequentialminus\": [[0.0, \"#0d0887\"], [0.1111111111111111, \"#46039f\"], [0.2222222222222222, \"#7201a8\"], [0.3333333333333333, \"#9c179e\"], [0.4444444444444444, \"#bd3786\"], [0.5555555555555556, \"#d8576b\"], [0.6666666666666666, \"#ed7953\"], [0.7777777777777778, \"#fb9f3a\"], [0.8888888888888888, \"#fdca26\"], [1.0, \"#f0f921\"]]}, \"colorway\": [\"#636efa\", \"#EF553B\", \"#00cc96\", \"#ab63fa\", \"#FFA15A\", \"#19d3f3\", \"#FF6692\", \"#B6E880\", \"#FF97FF\", \"#FECB52\"], \"font\": {\"color\": \"#2a3f5f\"}, \"geo\": {\"bgcolor\": \"white\", \"lakecolor\": \"white\", \"landcolor\": \"#E5ECF6\", \"showlakes\": true, \"showland\": true, \"subunitcolor\": \"white\"}, \"hoverlabel\": {\"align\": \"left\"}, \"hovermode\": \"closest\", \"mapbox\": {\"style\": \"light\"}, \"paper_bgcolor\": \"white\", \"plot_bgcolor\": \"#E5ECF6\", \"polar\": {\"angularaxis\": {\"gridcolor\": \"white\", \"linecolor\": \"white\", \"ticks\": \"\"}, \"bgcolor\": \"#E5ECF6\", \"radialaxis\": {\"gridcolor\": \"white\", \"linecolor\": \"white\", \"ticks\": \"\"}}, \"scene\": {\"xaxis\": {\"backgroundcolor\": \"#E5ECF6\", \"gridcolor\": \"white\", \"gridwidth\": 2, \"linecolor\": \"white\", \"showbackground\": true, \"ticks\": \"\", \"zerolinecolor\": \"white\"}, \"yaxis\": {\"backgroundcolor\": \"#E5ECF6\", \"gridcolor\": \"white\", \"gridwidth\": 2, \"linecolor\": \"white\", \"showbackground\": true, \"ticks\": \"\", \"zerolinecolor\": \"white\"}, \"zaxis\": {\"backgroundcolor\": \"#E5ECF6\", \"gridcolor\": \"white\", \"gridwidth\": 2, \"linecolor\": \"white\", \"showbackground\": true, \"ticks\": \"\", \"zerolinecolor\": \"white\"}}, \"shapedefaults\": {\"line\": {\"color\": \"#2a3f5f\"}}, \"ternary\": {\"aaxis\": {\"gridcolor\": \"white\", \"linecolor\": \"white\", \"ticks\": \"\"}, \"baxis\": {\"gridcolor\": \"white\", \"linecolor\": \"white\", \"ticks\": \"\"}, \"bgcolor\": \"#E5ECF6\", \"caxis\": {\"gridcolor\": \"white\", \"linecolor\": \"white\", \"ticks\": \"\"}}, \"title\": {\"x\": 0.05}, \"xaxis\": {\"automargin\": true, \"gridcolor\": \"white\", \"linecolor\": \"white\", \"ticks\": \"\", \"title\": {\"standoff\": 15}, \"zerolinecolor\": \"white\", \"zerolinewidth\": 2}, \"yaxis\": {\"automargin\": true, \"gridcolor\": \"white\", \"linecolor\": \"white\", \"ticks\": \"\", \"title\": {\"standoff\": 15}, \"zerolinecolor\": \"white\", \"zerolinewidth\": 2}}}, \"title\": {\"text\": \"3D Scatter Plot of Carbohydrate rich food\"}, \"width\": 800},\n",
       "                        {\"responsive\": true}\n",
       "                    ).then(function(){\n",
       "                            \n",
       "var gd = document.getElementById('e094dc51-3343-459d-a873-aca802a97118');\n",
       "var x = new MutationObserver(function (mutations, observer) {{\n",
       "        var display = window.getComputedStyle(gd).display;\n",
       "        if (!display || display === 'none') {{\n",
       "            console.log([gd, 'removed!']);\n",
       "            Plotly.purge(gd);\n",
       "            observer.disconnect();\n",
       "        }}\n",
       "}});\n",
       "\n",
       "// Listen for the removal of the full notebook cells\n",
       "var notebookContainer = gd.closest('#notebook-container');\n",
       "if (notebookContainer) {{\n",
       "    x.observe(notebookContainer, {childList: true});\n",
       "}}\n",
       "\n",
       "// Listen for the clearing of the current output cell\n",
       "var outputEl = gd.closest('.output');\n",
       "if (outputEl) {{\n",
       "    x.observe(outputEl, {childList: true});\n",
       "}}\n",
       "\n",
       "                        })\n",
       "                };\n",
       "                });\n",
       "            </script>\n",
       "        </div>"
      ]
     },
     "metadata": {},
     "output_type": "display_data"
    }
   ],
   "source": [
    "trace1 = go.Scatter3d(\n",
    "    x=nutrients['Category'].values,\n",
    "    y=nutrients['Food'].values,\n",
    "    z=nutrients['Carbs'].values,\n",
    "    text=nutrients['Food'].values,\n",
    "    mode='markers',\n",
    "    marker=dict(\n",
    "        sizemode='diameter',\n",
    "         sizeref=750,\n",
    "        color = nutrients['Carbs'].values,\n",
    "        colorscale = 'Portland',\n",
    "        colorbar = dict(title = 'Total Fat (% Daily Value)'),\n",
    "        line=dict(color='rgb(255, 255, 255)')\n",
    "    )\n",
    ")\n",
    "data=[trace1]\n",
    "layout=dict(height=800, width=800, title='3D Scatter Plot of Carbohydrate rich food')\n",
    "fig=dict(data=data, layout=layout)\n",
    "py.iplot(fig, filename='3DBubble')"
   ]
  },
  {
   "cell_type": "code",
   "execution_count": 13,
   "metadata": {},
   "outputs": [
    {
     "name": "stdout",
     "output_type": "stream",
     "text": [
      "Breads cereals fastfoodgrains\n",
      "100.0 226.94 7.67 3.94 1.88 2.21 39.2 \n",
      "Dairy products\n",
      "100.0 113.79 6.79 5.34 4.34 0.06 8.78 \n",
      "Desserts sweets\n",
      "100.0 223.39 2.64 5.51 5.07 0.69 40.03 \n",
      "DrinksAlcohol Beverages\n",
      "100.0 33.86 0.0 0.0 0.0 0.0 5.09 \n",
      "Fats Oils Shortenings\n",
      "100.0 522.16 33.67 90.79 77.12 33.67 34.39 \n",
      "Fish Seafood\n",
      "100.0 152.57 32.54 18.71 13.95 13.0 14.55 \n",
      "Fruits A-F\n",
      "100.0 86.58 0.75 0.52 0.31 0.87 21.12 \n",
      "Fruits G-P\n",
      "100.0 74.91 0.52 0.46 0.39 0.39 18.64 \n",
      "Fruits R-Z\n",
      "100.0 62.24 0.35 0.05 0.0 0.88 16.73 \n",
      "Jams Jellies\n",
      "100.0 318.72 0.0 0.0 0.0 1.9 81.75 \n",
      "Meat Poultry\n",
      "100.0 276.4 20.04 19.09 15.68 0.0 2.1 \n",
      "Seeds and Nuts\n",
      "100.0 599.56 17.6 53.96 34.02 2.73 20.53 \n",
      "Soups\n",
      "100.0 47.74 2.36 1.64 1.72 0.16 6.21 \n",
      "Vegetables A-E\n",
      "100.0 51.25 2.87 0.26 0.17 1.03 10.11 \n",
      "Vegetables F-P\n",
      "100.0 41.22 2.32 0.12 0.0 0.98 8.23 \n",
      "Vegetables R-Z\n",
      "100.0 80.18 2.92 2.26 1.31 0.78 13.3 \n"
     ]
    }
   ],
   "source": [
    "a = [[5253, 11921.0, 403, 207, 99.0, 115.91, 2059.0],\n",
    "    [7412, 8434.0, 503, 396, 322.0, 4.40, 651.0],\n",
    "    [2958, 6608.0, 78, 163, 150.0, 20.50, 1184.0],\n",
    "    [3284, 1112.0, 0, 0, 0.0, 0.00, 167.0],\n",
    "    [695, 3629.0, 234, 631, 536.0, 234.00, 239.0],\n",
    "    [1807, 2757.0, 588, 338, 252.0, 235.00, 263.0],\n",
    "    [3844, 3328.0, 29, 20, 12.0, 33.50, 812.0],\n",
    "    [5412, 4054.0, 28, 25, 21.0, 21.10, 1009.0],\n",
    "    [1973, 1228.0, 7, 1, 0.0, 17.40, 330.0],\n",
    "    [422, 1345.0, 0, 0, 0.0, 8.00, 345.0],\n",
    "    [2724, 7529.0, 546, 520, 427.0, 0.00, 57.3],\n",
    "    [682, 4089.0, 120, 368, 232.0, 18.60, 140.0],\n",
    "    [2495, 1191.0, 59, 41, 43.0, 4.00, 155.0],\n",
    "    [3520, 1804.0, 101, 9, 6.0, 36.30, 356.0],\n",
    "    [1725, 711.0, 40, 2, 0.0, 16.90, 142.0],\n",
    "    [3360, 2694.0, 98, 76, 44.0, 26.20, 447.0]]\n",
    "\n",
    "cat = ['Breads cereals fastfoodgrains', 'Dairy products', 'Desserts sweets', 'DrinksAlcohol Beverages', 'Fats Oils Shortenings', 'Fish Seafood', 'Fruits A-F', 'Fruits G-P', 'Fruits R-Z', 'Jams Jellies', 'Meat Poultry', 'Seeds and Nuts', 'Soups', 'Vegetables A-E', 'Vegetables F-P', 'Vegetables R-Z']\n",
    "\n",
    "\n",
    "for item in range(16):\n",
    "    x = a[item][0]\n",
    "    p = x/100\n",
    "    print(cat[item])\n",
    "    for i in range(7):\n",
    "        \n",
    "        print(round(a[item][i]/p,2), end=\" \")\n",
    "    \n",
    "    print()\n",
    "    \n",
    "\n"
   ]
  },
  {
   "cell_type": "code",
   "execution_count": null,
   "metadata": {},
   "outputs": [],
   "source": [
    "# nutrients=pd.read_csv(\"nutrition/nutrition.csv\")\n",
    "    \n",
    "    # res = nutrients.set_index('name').T.to_dict('list')\n",
    "\n",
    "    # print('Cornstarch',*res['Cornstarch'][1:])\n",
    "\n",
    "    # for k, v in res.items():\n",
    "    #     obj = AllFood(None, k, *v[1:])\n",
    "    #     obj.save()"
   ]
  },
  {
   "cell_type": "code",
   "execution_count": null,
   "metadata": {},
   "outputs": [],
   "source": [
    "nutrients=pd.read_csv(\"nutrition/nutrients_csvfile.csv\")\n",
    "    nutrients=nutrients.replace(\"t\",0)\n",
    "    nutrients=nutrients.replace(\"t'\",0)\n",
    "\n",
    "    nutrients=nutrients.replace(\",\",\"\", regex=True)\n",
    "    nutrients['Fiber']=nutrients['Fiber'].replace(\"a\",\"\", regex=True)\n",
    "    nutrients['Calories'][91]=(8+44)/2\n",
    "\n",
    "    nutrients['Grams']=pd.to_numeric(nutrients['Grams'])\n",
    "    nutrients['Calories']=pd.to_numeric(nutrients['Calories'])\n",
    "    nutrients['Protein']=pd.to_numeric(nutrients['Protein'])\n",
    "    nutrients['Fat']=pd.to_numeric(nutrients['Fat'])\n",
    "    nutrients['Sat.Fat']=pd.to_numeric(nutrients['Sat.Fat'])\n",
    "    nutrients['Fiber']=pd.to_numeric(nutrients['Fiber'])\n",
    "    nutrients['Carbs']=pd.to_numeric(nutrients['Carbs'])\n",
    "\n",
    "    nutrients = nutrients.fillna(0)\n",
    "    print(nutrients.isnull().any())\n",
    "\n",
    "    res = nutrients.set_index('Food').T.to_dict('list')\n",
    "\n",
    "    for k, v in res.items():\n",
    "        cat = MainCategory.objects.get(name=v[-1])\n",
    "        BasicFood.objects.create(name=k, measure=v[0], grams=v[1], calories=v[2], protein=v[3], fat=v[4], sat_fat=v[5], fiber=v[6], carbs=v[7], category=cat)\n",
    "\n"
   ]
  },
  {
   "cell_type": "markdown",
   "metadata": {
    "papermill": {
     "duration": 0.056277,
     "end_time": "2020-10-11T08:43:55.781861",
     "exception": false,
     "start_time": "2020-10-11T08:43:55.725584",
     "status": "completed"
    },
    "tags": []
   },
   "source": [
    "## Food group with the most calorie content"
   ]
  },
  {
   "cell_type": "code",
   "execution_count": 22,
   "metadata": {
    "execution": {
     "iopub.execute_input": "2020-10-11T08:43:55.913827Z",
     "iopub.status.busy": "2020-10-11T08:43:55.910568Z",
     "iopub.status.idle": "2020-10-11T08:43:56.603579Z",
     "shell.execute_reply": "2020-10-11T08:43:56.604188Z"
    },
    "papermill": {
     "duration": 0.764971,
     "end_time": "2020-10-11T08:43:56.604349",
     "exception": false,
     "start_time": "2020-10-11T08:43:55.839378",
     "status": "completed"
    },
    "tags": []
   },
   "outputs": [
    {
     "data": {
      "image/png": "[encoded data removed]",
      "text/plain": [
       "<Figure size 1584x720 with 1 Axes>"
      ]
     },
     "metadata": {},
     "output_type": "display_data"
    }
   ],
   "source": [
    "sns.set_style(\"whitegrid\")\n",
    "plt.figure(figsize=(22,10))\n",
    "#plt.figure()\n",
    "\n",
    "ax = sns.boxenplot(x=\"Category\", y='Calories', data=nutrients, color='#eeeeee', palette=\"tab10\")\n",
    "\n",
    "# Add transparency to colors\n",
    "for patch in ax.artists:\n",
    "    r, g, b, a = patch.get_facecolor()\n",
    "    patch.set_facecolor((r, g, b, .9))\n",
    "    \n",
    "#ax = sns.stripplot(x='Category', y='Cholesterol (% Daily Value)', data=menu, color=\"orange\", jitter=0.5, size=5,alpha=0.15)\n",
    "#\n",
    "plt.title(\"Total Calorie Content \\n\", loc=\"center\",size=32,color='#be0c0c',alpha=0.6)\n",
    "plt.xlabel('Category',color='#34495E',fontsize=20) \n",
    "plt.ylabel('Total Fat (% Daily Value)',color='#34495E',fontsize=20)\n",
    "plt.xticks(size=16,color='#008abc',rotation=90, wrap=True)  \n",
    "plt.yticks(size=15,color='#006600')\n",
    "#plt.text(2.5, 1, 'Courtesy: https://seaborn.pydata.org/examples/grouped_boxplot.html', fontsize=13,alpha=0.2)\n",
    "#plt.ylim(0,200)\n",
    "#plt.legend(loc=\"upper right\",fontsize=14,ncol=5,title='Category',title_fontsize=22,framealpha=0.99)\n",
    "plt.show()\n"
   ]
  },
  {
   "cell_type": "markdown",
   "metadata": {
    "papermill": {
     "duration": 0.058772,
     "end_time": "2020-10-11T08:43:56.722452",
     "exception": false,
     "start_time": "2020-10-11T08:43:56.663680",
     "status": "completed"
    },
    "tags": []
   },
   "source": [
    "This notebook was an attempt to visualize data that is a part of every single person's life and analysing our basic needs in terms of nutrients. Upvote if you like it and share possible improvements in the comments."
   ]
  }
 ],
 "metadata": {
  "kernelspec": {
   "display_name": "Python 3.10.6 64-bit",
   "language": "python",
   "name": "python3"
  },
  "language_info": {
   "codemirror_mode": {
    "name": "ipython",
    "version": 3
   },
   "file_extension": ".py",
   "mimetype": "text/x-python",
   "name": "python",
   "nbconvert_exporter": "python",
   "pygments_lexer": "ipython3",
   "version": "3.10.6"
  },
  "papermill": {
   "duration": 23.904617,
   "end_time": "2020-10-11T08:43:57.862134",
   "environment_variables": {},
   "exception": null,
   "input_path": "__notebook__.ipynb",
   "output_path": "__notebook__.ipynb",
   "parameters": {},
   "start_time": "2020-10-11T08:43:33.957517",
   "version": "2.1.0"
  },
  "vscode": {
   "interpreter": {
    "hash": "0a58408f255c96427390fca91ed92842142dfdee82fd83b9c3d18752e0afcb0a"
   }
  }
 },
 "nbformat": 4,
 "nbformat_minor": 4
}
