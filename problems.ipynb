{
 "cells": [
  {
   "cell_type": "code",
   "execution_count": 3,
   "metadata": {},
   "outputs": [
    {
     "name": "stdout",
     "output_type": "stream",
     "text": [
      "(340, 34)\n"
     ]
    }
   ],
   "source": [
    "class Vitamins:\n",
    "    def __init__(self, sex, age):\n",
    "\n",
    "        self.sex = sex\n",
    "        self.age = age\n",
    "\n",
    "        self.stage = self.staging()\n",
    "\n",
    "    \n",
    "    def staging(self):\n",
    "\n",
    "        if self.sex == \"male\":\n",
    "            ans = self.age * 10\n",
    "        else:\n",
    "            ans = self.age * 5\n",
    "\n",
    "        return ans\n",
    "\n",
    "\n",
    "    def return_result(self):\n",
    "        return self.stage, self.age\n",
    "\n",
    "vitamin = Vitamins(\"male\", 34)\n",
    "\n",
    "print(vitamin.return_result())\n",
    "\n"
   ]
  },
  {
   "cell_type": "code",
   "execution_count": null,
   "metadata": {},
   "outputs": [],
   "source": []
  }
 ],
 "metadata": {
  "kernelspec": {
   "display_name": "Python 3.10.6 64-bit",
   "language": "python",
   "name": "python3"
  },
  "language_info": {
   "codemirror_mode": {
    "name": "ipython",
    "version": 3
   },
   "file_extension": ".py",
   "mimetype": "text/x-python",
   "name": "python",
   "nbconvert_exporter": "python",
   "pygments_lexer": "ipython3",
   "version": "3.10.6"
  },
  "orig_nbformat": 4,
  "vscode": {
   "interpreter": {
    "hash": "0a58408f255c96427390fca91ed92842142dfdee82fd83b9c3d18752e0afcb0a"
   }
  }
 },
 "nbformat": 4,
 "nbformat_minor": 2
}
